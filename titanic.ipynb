{
 "cells": [
  {
   "cell_type": "markdown",
   "id": "87bb4cc3",
   "metadata": {},
   "source": [
    "<h1 style=\"color:Red\">Import the libraries</h1> "
   ]
  },
  {
   "cell_type": "code",
   "execution_count": 207,
   "id": "3282b9d8",
   "metadata": {},
   "outputs": [],
   "source": [
    "import numpy as np\n",
    "import pandas as pd\n",
    "import seaborn as sns\n",
    "import matplotlib.pyplot as plt"
   ]
  },
  {
   "cell_type": "markdown",
   "id": "1a1d7b4e",
   "metadata": {},
   "source": [
    "<h1 style=\"color:Red\">Get the dataset understand</h1> "
   ]
  },
  {
   "cell_type": "code",
   "execution_count": 208,
   "id": "6f8e87e7",
   "metadata": {},
   "outputs": [],
   "source": [
    "df=pd.read_csv('titanic.csv')"
   ]
  },
  {
   "cell_type": "markdown",
   "id": "bb73ea82",
   "metadata": {},
   "source": [
    "<h1 style=\"color:Red\">Clean the dataset</h1> "
   ]
  },
  {
   "cell_type": "markdown",
   "id": "5546de12",
   "metadata": {},
   "source": [
    "<ol>\n",
    "<li>check for duplicates</li>\n",
    "<li>check for missing values</li>\n",
    "<li>check for invalid dtypes</li>\n",
    "</ol>"
   ]
  },
  {
   "cell_type": "markdown",
   "id": "cdeb22c4",
   "metadata": {},
   "source": [
    "<h3 style='color:pink'>check for missing value</h3>"
   ]
  },
  {
   "cell_type": "code",
   "execution_count": 209,
   "id": "78bf5adb",
   "metadata": {},
   "outputs": [
    {
     "data": {
      "application/vnd.microsoft.datawrangler.viewer.v0+json": {
       "columns": [
        {
         "name": "index",
         "rawType": "int64",
         "type": "integer"
        },
        {
         "name": "pclass",
         "rawType": "int64",
         "type": "integer"
        },
        {
         "name": "name",
         "rawType": "object",
         "type": "string"
        },
        {
         "name": "sex",
         "rawType": "object",
         "type": "string"
        },
        {
         "name": "age",
         "rawType": "float64",
         "type": "float"
        },
        {
         "name": "sibsp",
         "rawType": "int64",
         "type": "integer"
        },
        {
         "name": "parch",
         "rawType": "int64",
         "type": "integer"
        },
        {
         "name": "ticket",
         "rawType": "object",
         "type": "string"
        },
        {
         "name": "fare",
         "rawType": "float64",
         "type": "float"
        },
        {
         "name": "cabin",
         "rawType": "object",
         "type": "unknown"
        },
        {
         "name": "embarked",
         "rawType": "object",
         "type": "unknown"
        },
        {
         "name": "survived",
         "rawType": "int64",
         "type": "integer"
        }
       ],
       "ref": "a67beabe-dbfe-434d-af36-8604878c7213",
       "rows": [
        [
         "0",
         "1",
         "Allen, Miss. Elisabeth Walton",
         "female",
         "29.0",
         "0",
         "0",
         "24160",
         "211.3375",
         "B5",
         "S",
         "1"
        ],
        [
         "1",
         "1",
         "Allison, Master. Hudson Trevor",
         "male",
         "0.9167",
         "1",
         "2",
         "113781",
         "151.55",
         "C22 C26",
         "S",
         "1"
        ],
        [
         "2",
         "1",
         "Allison, Miss. Helen Loraine",
         "female",
         "2.0",
         "1",
         "2",
         "113781",
         "151.55",
         "C22 C26",
         "S",
         "0"
        ],
        [
         "3",
         "1",
         "Allison, Mr. Hudson Joshua Creighton",
         "male",
         "30.0",
         "1",
         "2",
         "113781",
         "151.55",
         "C22 C26",
         "S",
         "0"
        ],
        [
         "4",
         "1",
         "Allison, Mrs. Hudson J C (Bessie Waldo Daniels)",
         "female",
         "25.0",
         "1",
         "2",
         "113781",
         "151.55",
         "C22 C26",
         "S",
         "0"
        ],
        [
         "5",
         "1",
         "Anderson, Mr. Harry",
         "male",
         "48.0",
         "0",
         "0",
         "19952",
         "26.55",
         "E12",
         "S",
         "1"
        ],
        [
         "6",
         "1",
         "Andrews, Miss. Kornelia Theodosia",
         "female",
         "63.0",
         "1",
         "0",
         "13502",
         "77.9583",
         "D7",
         "S",
         "1"
        ],
        [
         "7",
         "1",
         "Andrews, Mr. Thomas Jr",
         "male",
         "39.0",
         "0",
         "0",
         "112050",
         "0.0",
         "A36",
         "S",
         "0"
        ],
        [
         "8",
         "1",
         "Appleton, Mrs. Edward Dale (Charlotte Lamson)",
         "female",
         "53.0",
         "2",
         "0",
         "11769",
         "51.4792",
         "C101",
         "S",
         "1"
        ],
        [
         "9",
         "1",
         "Artagaveytia, Mr. Ramon",
         "male",
         "71.0",
         "0",
         "0",
         "PC 17609",
         "49.5042",
         null,
         "C",
         "0"
        ],
        [
         "10",
         "1",
         "Astor, Col. John Jacob",
         "male",
         "47.0",
         "1",
         "0",
         "PC 17757",
         "227.525",
         "C62 C64",
         "C",
         "0"
        ],
        [
         "11",
         "1",
         "Astor, Mrs. John Jacob (Madeleine Talmadge Force)",
         "female",
         "18.0",
         "1",
         "0",
         "PC 17757",
         "227.525",
         "C62 C64",
         "C",
         "1"
        ],
        [
         "12",
         "1",
         "Aubart, Mme. Leontine Pauline",
         "female",
         "24.0",
         "0",
         "0",
         "PC 17477",
         "69.3",
         "B35",
         "C",
         "1"
        ],
        [
         "13",
         "1",
         "Barber, Miss. Ellen \"Nellie\"",
         "female",
         "26.0",
         "0",
         "0",
         "19877",
         "78.85",
         null,
         "S",
         "1"
        ],
        [
         "14",
         "1",
         "Barkworth, Mr. Algernon Henry Wilson",
         "male",
         "80.0",
         "0",
         "0",
         "27042",
         "30.0",
         "A23",
         "S",
         "1"
        ],
        [
         "15",
         "1",
         "Baumann, Mr. John D",
         "male",
         null,
         "0",
         "0",
         "PC 17318",
         "25.925",
         null,
         "S",
         "0"
        ],
        [
         "16",
         "1",
         "Baxter, Mr. Quigg Edmond",
         "male",
         "24.0",
         "0",
         "1",
         "PC 17558",
         "247.5208",
         "B58 B60",
         "C",
         "0"
        ],
        [
         "17",
         "1",
         "Baxter, Mrs. James (Helene DeLaudeniere Chaput)",
         "female",
         "50.0",
         "0",
         "1",
         "PC 17558",
         "247.5208",
         "B58 B60",
         "C",
         "1"
        ],
        [
         "18",
         "1",
         "Bazzani, Miss. Albina",
         "female",
         "32.0",
         "0",
         "0",
         "11813",
         "76.2917",
         "D15",
         "C",
         "1"
        ],
        [
         "19",
         "1",
         "Beattie, Mr. Thomson",
         "male",
         "36.0",
         "0",
         "0",
         "13050",
         "75.2417",
         "C6",
         "C",
         "0"
        ],
        [
         "20",
         "1",
         "Beckwith, Mr. Richard Leonard",
         "male",
         "37.0",
         "1",
         "1",
         "11751",
         "52.5542",
         "D35",
         "S",
         "1"
        ],
        [
         "21",
         "1",
         "Beckwith, Mrs. Richard Leonard (Sallie Monypeny)",
         "female",
         "47.0",
         "1",
         "1",
         "11751",
         "52.5542",
         "D35",
         "S",
         "1"
        ],
        [
         "22",
         "1",
         "Behr, Mr. Karl Howell",
         "male",
         "26.0",
         "0",
         "0",
         "111369",
         "30.0",
         "C148",
         "C",
         "1"
        ],
        [
         "23",
         "1",
         "Bidois, Miss. Rosalie",
         "female",
         "42.0",
         "0",
         "0",
         "PC 17757",
         "227.525",
         null,
         "C",
         "1"
        ],
        [
         "24",
         "1",
         "Bird, Miss. Ellen",
         "female",
         "29.0",
         "0",
         "0",
         "PC 17483",
         "221.7792",
         "C97",
         "S",
         "1"
        ],
        [
         "25",
         "1",
         "Birnbaum, Mr. Jakob",
         "male",
         "25.0",
         "0",
         "0",
         "13905",
         "26.0",
         null,
         "C",
         "0"
        ],
        [
         "26",
         "1",
         "Bishop, Mr. Dickinson H",
         "male",
         "25.0",
         "1",
         "0",
         "11967",
         "91.0792",
         "B49",
         "C",
         "1"
        ],
        [
         "27",
         "1",
         "Bishop, Mrs. Dickinson H (Helen Walton)",
         "female",
         "19.0",
         "1",
         "0",
         "11967",
         "91.0792",
         "B49",
         "C",
         "1"
        ],
        [
         "28",
         "1",
         "Bissette, Miss. Amelia",
         "female",
         "35.0",
         "0",
         "0",
         "PC 17760",
         "135.6333",
         "C99",
         "S",
         "1"
        ],
        [
         "29",
         "1",
         "Bjornstrom-Steffansson, Mr. Mauritz Hakan",
         "male",
         "28.0",
         "0",
         "0",
         "110564",
         "26.55",
         "C52",
         "S",
         "1"
        ],
        [
         "30",
         "1",
         "Blackwell, Mr. Stephen Weart",
         "male",
         "45.0",
         "0",
         "0",
         "113784",
         "35.5",
         "T",
         "S",
         "0"
        ],
        [
         "31",
         "1",
         "Blank, Mr. Henry",
         "male",
         "40.0",
         "0",
         "0",
         "112277",
         "31.0",
         "A31",
         "C",
         "1"
        ],
        [
         "32",
         "1",
         "Bonnell, Miss. Caroline",
         "female",
         "30.0",
         "0",
         "0",
         "36928",
         "164.8667",
         "C7",
         "S",
         "1"
        ],
        [
         "33",
         "1",
         "Bonnell, Miss. Elizabeth",
         "female",
         "58.0",
         "0",
         "0",
         "113783",
         "26.55",
         "C103",
         "S",
         "1"
        ],
        [
         "34",
         "1",
         "Borebank, Mr. John James",
         "male",
         "42.0",
         "0",
         "0",
         "110489",
         "26.55",
         "D22",
         "S",
         "0"
        ],
        [
         "35",
         "1",
         "Bowen, Miss. Grace Scott",
         "female",
         "45.0",
         "0",
         "0",
         "PC 17608",
         "262.375",
         null,
         "C",
         "1"
        ],
        [
         "36",
         "1",
         "Bowerman, Miss. Elsie Edith",
         "female",
         "22.0",
         "0",
         "1",
         "113505",
         "55.0",
         "E33",
         "S",
         "1"
        ],
        [
         "37",
         "1",
         "Bradley, Mr. George (\"George Arthur Brayton\")",
         "male",
         null,
         "0",
         "0",
         "111427",
         "26.55",
         null,
         "S",
         "1"
        ],
        [
         "38",
         "1",
         "Brady, Mr. John Bertram",
         "male",
         "41.0",
         "0",
         "0",
         "113054",
         "30.5",
         "A21",
         "S",
         "0"
        ],
        [
         "39",
         "1",
         "Brandeis, Mr. Emil",
         "male",
         "48.0",
         "0",
         "0",
         "PC 17591",
         "50.4958",
         "B10",
         "C",
         "0"
        ],
        [
         "40",
         "1",
         "Brewe, Dr. Arthur Jackson",
         "male",
         null,
         "0",
         "0",
         "112379",
         "39.6",
         null,
         "C",
         "0"
        ],
        [
         "41",
         "1",
         "Brown, Mrs. James Joseph (Margaret Tobin)",
         "female",
         "44.0",
         "0",
         "0",
         "PC 17610",
         "27.7208",
         "B4",
         "C",
         "1"
        ],
        [
         "42",
         "1",
         "Brown, Mrs. John Murray (Caroline Lane Lamson)",
         "female",
         "59.0",
         "2",
         "0",
         "11769",
         "51.4792",
         "C101",
         "S",
         "1"
        ],
        [
         "43",
         "1",
         "Bucknell, Mrs. William Robert (Emma Eliza Ward)",
         "female",
         "60.0",
         "0",
         "0",
         "11813",
         "76.2917",
         "D15",
         "C",
         "1"
        ],
        [
         "44",
         "1",
         "Burns, Miss. Elizabeth Margaret",
         "female",
         "41.0",
         "0",
         "0",
         "16966",
         "134.5",
         "E40",
         "C",
         "1"
        ],
        [
         "45",
         "1",
         "Butt, Major. Archibald Willingham",
         "male",
         "45.0",
         "0",
         "0",
         "113050",
         "26.55",
         "B38",
         "S",
         "0"
        ],
        [
         "46",
         "1",
         "Cairns, Mr. Alexander",
         "male",
         null,
         "0",
         "0",
         "113798",
         "31.0",
         null,
         "S",
         "0"
        ],
        [
         "47",
         "1",
         "Calderhead, Mr. Edward Pennington",
         "male",
         "42.0",
         "0",
         "0",
         "PC 17476",
         "26.2875",
         "E24",
         "S",
         "1"
        ],
        [
         "48",
         "1",
         "Candee, Mrs. Edward (Helen Churchill Hungerford)",
         "female",
         "53.0",
         "0",
         "0",
         "PC 17606",
         "27.4458",
         null,
         "C",
         "1"
        ],
        [
         "49",
         "1",
         "Cardeza, Mr. Thomas Drake Martinez",
         "male",
         "36.0",
         "0",
         "1",
         "PC 17755",
         "512.3292",
         "B51 B53 B55",
         "C",
         "1"
        ]
       ],
       "shape": {
        "columns": 11,
        "rows": 1309
       }
      },
      "text/html": [
       "<div>\n",
       "<style scoped>\n",
       "    .dataframe tbody tr th:only-of-type {\n",
       "        vertical-align: middle;\n",
       "    }\n",
       "\n",
       "    .dataframe tbody tr th {\n",
       "        vertical-align: top;\n",
       "    }\n",
       "\n",
       "    .dataframe thead th {\n",
       "        text-align: right;\n",
       "    }\n",
       "</style>\n",
       "<table border=\"1\" class=\"dataframe\">\n",
       "  <thead>\n",
       "    <tr style=\"text-align: right;\">\n",
       "      <th></th>\n",
       "      <th>pclass</th>\n",
       "      <th>name</th>\n",
       "      <th>sex</th>\n",
       "      <th>age</th>\n",
       "      <th>sibsp</th>\n",
       "      <th>parch</th>\n",
       "      <th>ticket</th>\n",
       "      <th>fare</th>\n",
       "      <th>cabin</th>\n",
       "      <th>embarked</th>\n",
       "      <th>survived</th>\n",
       "    </tr>\n",
       "  </thead>\n",
       "  <tbody>\n",
       "    <tr>\n",
       "      <th>0</th>\n",
       "      <td>1</td>\n",
       "      <td>Allen, Miss. Elisabeth Walton</td>\n",
       "      <td>female</td>\n",
       "      <td>29.0000</td>\n",
       "      <td>0</td>\n",
       "      <td>0</td>\n",
       "      <td>24160</td>\n",
       "      <td>211.3375</td>\n",
       "      <td>B5</td>\n",
       "      <td>S</td>\n",
       "      <td>1</td>\n",
       "    </tr>\n",
       "    <tr>\n",
       "      <th>1</th>\n",
       "      <td>1</td>\n",
       "      <td>Allison, Master. Hudson Trevor</td>\n",
       "      <td>male</td>\n",
       "      <td>0.9167</td>\n",
       "      <td>1</td>\n",
       "      <td>2</td>\n",
       "      <td>113781</td>\n",
       "      <td>151.5500</td>\n",
       "      <td>C22 C26</td>\n",
       "      <td>S</td>\n",
       "      <td>1</td>\n",
       "    </tr>\n",
       "    <tr>\n",
       "      <th>2</th>\n",
       "      <td>1</td>\n",
       "      <td>Allison, Miss. Helen Loraine</td>\n",
       "      <td>female</td>\n",
       "      <td>2.0000</td>\n",
       "      <td>1</td>\n",
       "      <td>2</td>\n",
       "      <td>113781</td>\n",
       "      <td>151.5500</td>\n",
       "      <td>C22 C26</td>\n",
       "      <td>S</td>\n",
       "      <td>0</td>\n",
       "    </tr>\n",
       "    <tr>\n",
       "      <th>3</th>\n",
       "      <td>1</td>\n",
       "      <td>Allison, Mr. Hudson Joshua Creighton</td>\n",
       "      <td>male</td>\n",
       "      <td>30.0000</td>\n",
       "      <td>1</td>\n",
       "      <td>2</td>\n",
       "      <td>113781</td>\n",
       "      <td>151.5500</td>\n",
       "      <td>C22 C26</td>\n",
       "      <td>S</td>\n",
       "      <td>0</td>\n",
       "    </tr>\n",
       "    <tr>\n",
       "      <th>4</th>\n",
       "      <td>1</td>\n",
       "      <td>Allison, Mrs. Hudson J C (Bessie Waldo Daniels)</td>\n",
       "      <td>female</td>\n",
       "      <td>25.0000</td>\n",
       "      <td>1</td>\n",
       "      <td>2</td>\n",
       "      <td>113781</td>\n",
       "      <td>151.5500</td>\n",
       "      <td>C22 C26</td>\n",
       "      <td>S</td>\n",
       "      <td>0</td>\n",
       "    </tr>\n",
       "    <tr>\n",
       "      <th>...</th>\n",
       "      <td>...</td>\n",
       "      <td>...</td>\n",
       "      <td>...</td>\n",
       "      <td>...</td>\n",
       "      <td>...</td>\n",
       "      <td>...</td>\n",
       "      <td>...</td>\n",
       "      <td>...</td>\n",
       "      <td>...</td>\n",
       "      <td>...</td>\n",
       "      <td>...</td>\n",
       "    </tr>\n",
       "    <tr>\n",
       "      <th>1304</th>\n",
       "      <td>3</td>\n",
       "      <td>Zabour, Miss. Hileni</td>\n",
       "      <td>female</td>\n",
       "      <td>14.5000</td>\n",
       "      <td>1</td>\n",
       "      <td>0</td>\n",
       "      <td>2665</td>\n",
       "      <td>14.4542</td>\n",
       "      <td>NaN</td>\n",
       "      <td>C</td>\n",
       "      <td>0</td>\n",
       "    </tr>\n",
       "    <tr>\n",
       "      <th>1305</th>\n",
       "      <td>3</td>\n",
       "      <td>Zabour, Miss. Thamine</td>\n",
       "      <td>female</td>\n",
       "      <td>NaN</td>\n",
       "      <td>1</td>\n",
       "      <td>0</td>\n",
       "      <td>2665</td>\n",
       "      <td>14.4542</td>\n",
       "      <td>NaN</td>\n",
       "      <td>C</td>\n",
       "      <td>0</td>\n",
       "    </tr>\n",
       "    <tr>\n",
       "      <th>1306</th>\n",
       "      <td>3</td>\n",
       "      <td>Zakarian, Mr. Mapriededer</td>\n",
       "      <td>male</td>\n",
       "      <td>26.5000</td>\n",
       "      <td>0</td>\n",
       "      <td>0</td>\n",
       "      <td>2656</td>\n",
       "      <td>7.2250</td>\n",
       "      <td>NaN</td>\n",
       "      <td>C</td>\n",
       "      <td>0</td>\n",
       "    </tr>\n",
       "    <tr>\n",
       "      <th>1307</th>\n",
       "      <td>3</td>\n",
       "      <td>Zakarian, Mr. Ortin</td>\n",
       "      <td>male</td>\n",
       "      <td>27.0000</td>\n",
       "      <td>0</td>\n",
       "      <td>0</td>\n",
       "      <td>2670</td>\n",
       "      <td>7.2250</td>\n",
       "      <td>NaN</td>\n",
       "      <td>C</td>\n",
       "      <td>0</td>\n",
       "    </tr>\n",
       "    <tr>\n",
       "      <th>1308</th>\n",
       "      <td>3</td>\n",
       "      <td>Zimmerman, Mr. Leo</td>\n",
       "      <td>male</td>\n",
       "      <td>29.0000</td>\n",
       "      <td>0</td>\n",
       "      <td>0</td>\n",
       "      <td>315082</td>\n",
       "      <td>7.8750</td>\n",
       "      <td>NaN</td>\n",
       "      <td>S</td>\n",
       "      <td>0</td>\n",
       "    </tr>\n",
       "  </tbody>\n",
       "</table>\n",
       "<p>1309 rows × 11 columns</p>\n",
       "</div>"
      ],
      "text/plain": [
       "      pclass                                             name     sex  \\\n",
       "0          1                    Allen, Miss. Elisabeth Walton  female   \n",
       "1          1                   Allison, Master. Hudson Trevor    male   \n",
       "2          1                     Allison, Miss. Helen Loraine  female   \n",
       "3          1             Allison, Mr. Hudson Joshua Creighton    male   \n",
       "4          1  Allison, Mrs. Hudson J C (Bessie Waldo Daniels)  female   \n",
       "...      ...                                              ...     ...   \n",
       "1304       3                             Zabour, Miss. Hileni  female   \n",
       "1305       3                            Zabour, Miss. Thamine  female   \n",
       "1306       3                        Zakarian, Mr. Mapriededer    male   \n",
       "1307       3                              Zakarian, Mr. Ortin    male   \n",
       "1308       3                               Zimmerman, Mr. Leo    male   \n",
       "\n",
       "          age  sibsp  parch  ticket      fare    cabin embarked  survived  \n",
       "0     29.0000      0      0   24160  211.3375       B5        S         1  \n",
       "1      0.9167      1      2  113781  151.5500  C22 C26        S         1  \n",
       "2      2.0000      1      2  113781  151.5500  C22 C26        S         0  \n",
       "3     30.0000      1      2  113781  151.5500  C22 C26        S         0  \n",
       "4     25.0000      1      2  113781  151.5500  C22 C26        S         0  \n",
       "...       ...    ...    ...     ...       ...      ...      ...       ...  \n",
       "1304  14.5000      1      0    2665   14.4542      NaN        C         0  \n",
       "1305      NaN      1      0    2665   14.4542      NaN        C         0  \n",
       "1306  26.5000      0      0    2656    7.2250      NaN        C         0  \n",
       "1307  27.0000      0      0    2670    7.2250      NaN        C         0  \n",
       "1308  29.0000      0      0  315082    7.8750      NaN        S         0  \n",
       "\n",
       "[1309 rows x 11 columns]"
      ]
     },
     "execution_count": 209,
     "metadata": {},
     "output_type": "execute_result"
    }
   ],
   "source": [
    "df"
   ]
  },
  {
   "cell_type": "code",
   "execution_count": 210,
   "id": "56fc3247",
   "metadata": {},
   "outputs": [
    {
     "data": {
      "text/plain": [
       "Index(['pclass', 'name', 'sex', 'age', 'sibsp', 'parch', 'ticket', 'fare',\n",
       "       'cabin', 'embarked', 'survived'],\n",
       "      dtype='object')"
      ]
     },
     "execution_count": 210,
     "metadata": {},
     "output_type": "execute_result"
    }
   ],
   "source": [
    "df.columns"
   ]
  },
  {
   "cell_type": "code",
   "execution_count": 211,
   "id": "c3086822",
   "metadata": {},
   "outputs": [
    {
     "name": "stdout",
     "output_type": "stream",
     "text": [
      "<class 'pandas.core.frame.DataFrame'>\n",
      "RangeIndex: 1309 entries, 0 to 1308\n",
      "Data columns (total 11 columns):\n",
      " #   Column    Non-Null Count  Dtype  \n",
      "---  ------    --------------  -----  \n",
      " 0   pclass    1309 non-null   int64  \n",
      " 1   name      1309 non-null   object \n",
      " 2   sex       1309 non-null   object \n",
      " 3   age       1046 non-null   float64\n",
      " 4   sibsp     1309 non-null   int64  \n",
      " 5   parch     1309 non-null   int64  \n",
      " 6   ticket    1309 non-null   object \n",
      " 7   fare      1308 non-null   float64\n",
      " 8   cabin     295 non-null    object \n",
      " 9   embarked  1307 non-null   object \n",
      " 10  survived  1309 non-null   int64  \n",
      "dtypes: float64(2), int64(4), object(5)\n",
      "memory usage: 112.6+ KB\n"
     ]
    }
   ],
   "source": [
    "df.info()"
   ]
  },
  {
   "cell_type": "markdown",
   "id": "ef968bab",
   "metadata": {},
   "source": [
    "<h3 style='color:Skyblue'>Observation: <ul>\n",
    "<li>Age column must be handled (age col has missing values) </li>\n",
    "<li>fair column must be handled (fair col has missing values) </li>\n",
    "<li>cabin column must be removed (cabin col has too many missing values and unwanted also.) </li>\n",
    "<li>embarked column must be handled (embarked col has missing values) </li>\n",
    "</ul></h3>"
   ]
  },
  {
   "cell_type": "markdown",
   "id": "8d37a0b6",
   "metadata": {},
   "source": [
    "<h3 style='color:pink'>check for duplicates</h3>"
   ]
  },
  {
   "cell_type": "code",
   "execution_count": 212,
   "id": "8a5e9032",
   "metadata": {},
   "outputs": [
    {
     "data": {
      "text/plain": [
       "np.False_"
      ]
     },
     "execution_count": 212,
     "metadata": {},
     "output_type": "execute_result"
    }
   ],
   "source": [
    "df.duplicated().any()"
   ]
  },
  {
   "cell_type": "code",
   "execution_count": 213,
   "id": "497f7c49",
   "metadata": {},
   "outputs": [
    {
     "data": {
      "application/vnd.microsoft.datawrangler.viewer.v0+json": {
       "columns": [
        {
         "name": "index",
         "rawType": "int64",
         "type": "integer"
        },
        {
         "name": "pclass",
         "rawType": "int64",
         "type": "integer"
        },
        {
         "name": "name",
         "rawType": "object",
         "type": "string"
        },
        {
         "name": "sex",
         "rawType": "object",
         "type": "string"
        },
        {
         "name": "age",
         "rawType": "float64",
         "type": "float"
        },
        {
         "name": "sibsp",
         "rawType": "int64",
         "type": "integer"
        },
        {
         "name": "parch",
         "rawType": "int64",
         "type": "integer"
        },
        {
         "name": "ticket",
         "rawType": "object",
         "type": "string"
        },
        {
         "name": "fare",
         "rawType": "float64",
         "type": "float"
        },
        {
         "name": "cabin",
         "rawType": "object",
         "type": "string"
        },
        {
         "name": "embarked",
         "rawType": "object",
         "type": "string"
        },
        {
         "name": "survived",
         "rawType": "int64",
         "type": "integer"
        }
       ],
       "ref": "d7b794c9-05be-443c-932d-86ebcb6ca533",
       "rows": [
        [
         "0",
         "1",
         "Allen, Miss. Elisabeth Walton",
         "female",
         "29.0",
         "0",
         "0",
         "24160",
         "211.3375",
         "B5",
         "S",
         "1"
        ],
        [
         "1",
         "1",
         "Allison, Master. Hudson Trevor",
         "male",
         "0.9167",
         "1",
         "2",
         "113781",
         "151.55",
         "C22 C26",
         "S",
         "1"
        ]
       ],
       "shape": {
        "columns": 11,
        "rows": 2
       }
      },
      "text/html": [
       "<div>\n",
       "<style scoped>\n",
       "    .dataframe tbody tr th:only-of-type {\n",
       "        vertical-align: middle;\n",
       "    }\n",
       "\n",
       "    .dataframe tbody tr th {\n",
       "        vertical-align: top;\n",
       "    }\n",
       "\n",
       "    .dataframe thead th {\n",
       "        text-align: right;\n",
       "    }\n",
       "</style>\n",
       "<table border=\"1\" class=\"dataframe\">\n",
       "  <thead>\n",
       "    <tr style=\"text-align: right;\">\n",
       "      <th></th>\n",
       "      <th>pclass</th>\n",
       "      <th>name</th>\n",
       "      <th>sex</th>\n",
       "      <th>age</th>\n",
       "      <th>sibsp</th>\n",
       "      <th>parch</th>\n",
       "      <th>ticket</th>\n",
       "      <th>fare</th>\n",
       "      <th>cabin</th>\n",
       "      <th>embarked</th>\n",
       "      <th>survived</th>\n",
       "    </tr>\n",
       "  </thead>\n",
       "  <tbody>\n",
       "    <tr>\n",
       "      <th>0</th>\n",
       "      <td>1</td>\n",
       "      <td>Allen, Miss. Elisabeth Walton</td>\n",
       "      <td>female</td>\n",
       "      <td>29.0000</td>\n",
       "      <td>0</td>\n",
       "      <td>0</td>\n",
       "      <td>24160</td>\n",
       "      <td>211.3375</td>\n",
       "      <td>B5</td>\n",
       "      <td>S</td>\n",
       "      <td>1</td>\n",
       "    </tr>\n",
       "    <tr>\n",
       "      <th>1</th>\n",
       "      <td>1</td>\n",
       "      <td>Allison, Master. Hudson Trevor</td>\n",
       "      <td>male</td>\n",
       "      <td>0.9167</td>\n",
       "      <td>1</td>\n",
       "      <td>2</td>\n",
       "      <td>113781</td>\n",
       "      <td>151.5500</td>\n",
       "      <td>C22 C26</td>\n",
       "      <td>S</td>\n",
       "      <td>1</td>\n",
       "    </tr>\n",
       "  </tbody>\n",
       "</table>\n",
       "</div>"
      ],
      "text/plain": [
       "   pclass                            name     sex      age  sibsp  parch  \\\n",
       "0       1   Allen, Miss. Elisabeth Walton  female  29.0000      0      0   \n",
       "1       1  Allison, Master. Hudson Trevor    male   0.9167      1      2   \n",
       "\n",
       "   ticket      fare    cabin embarked  survived  \n",
       "0   24160  211.3375       B5        S         1  \n",
       "1  113781  151.5500  C22 C26        S         1  "
      ]
     },
     "execution_count": 213,
     "metadata": {},
     "output_type": "execute_result"
    }
   ],
   "source": [
    "df.head(2)"
   ]
  },
  {
   "cell_type": "markdown",
   "id": "d9a19e77",
   "metadata": {},
   "source": [
    "<h3 style='color:pink'>check for invalid datatype</h3>"
   ]
  },
  {
   "cell_type": "code",
   "execution_count": null,
   "id": "c083c68d",
   "metadata": {},
   "outputs": [],
   "source": [
    "md_age = df['age'].median()\n",
    "md_fare = df['fare'].median()\n",
    "# -------------------------------------------\n",
    "m_emb = df['embarked'].mode()[0]\n",
    "\n",
    "\n",
    "# -------------------------------------------\n",
    "# check for outliers\n",
    "\n",
    "# sns.boxplot(data=df,x='age')\n",
    "# sns.boxplot(data=df,x='fare')\n",
    "# sns.boxplot(data=df,x='embarked')"
   ]
  },
  {
   "cell_type": "code",
   "execution_count": 215,
   "id": "426159f2",
   "metadata": {},
   "outputs": [],
   "source": [
    "df['age'] = df['age'].fillna(md_age)\n",
    "df['fare'] = df['fare'].fillna(md_fare)\n",
    "df['embarked'] = df['embarked'].fillna(m_emb)"
   ]
  },
  {
   "cell_type": "code",
   "execution_count": 216,
   "id": "b98b7919",
   "metadata": {},
   "outputs": [],
   "source": [
    "# df\n",
    "# df.dropna(axis=1)\n",
    "\n",
    "df=df.drop(columns=['cabin'])"
   ]
  },
  {
   "cell_type": "code",
   "execution_count": 217,
   "id": "aba7e391",
   "metadata": {},
   "outputs": [
    {
     "name": "stdout",
     "output_type": "stream",
     "text": [
      "<class 'pandas.core.frame.DataFrame'>\n",
      "RangeIndex: 1309 entries, 0 to 1308\n",
      "Data columns (total 10 columns):\n",
      " #   Column    Non-Null Count  Dtype  \n",
      "---  ------    --------------  -----  \n",
      " 0   pclass    1309 non-null   int64  \n",
      " 1   name      1309 non-null   object \n",
      " 2   sex       1309 non-null   object \n",
      " 3   age       1309 non-null   float64\n",
      " 4   sibsp     1309 non-null   int64  \n",
      " 5   parch     1309 non-null   int64  \n",
      " 6   ticket    1309 non-null   object \n",
      " 7   fare      1309 non-null   float64\n",
      " 8   embarked  1309 non-null   object \n",
      " 9   survived  1309 non-null   int64  \n",
      "dtypes: float64(2), int64(4), object(4)\n",
      "memory usage: 102.4+ KB\n"
     ]
    }
   ],
   "source": [
    "df.info()"
   ]
  },
  {
   "cell_type": "markdown",
   "id": "5f48fc68",
   "metadata": {},
   "source": [
    "<h1 style=\"color:Red\">Feature engineering / Data transformation  \n",
    "</h1> "
   ]
  },
  {
   "cell_type": "markdown",
   "id": "edb06b34",
   "metadata": {},
   "source": [
    "<ol>\n",
    "<li>create new columns if needed </li>\n",
    "<li>modify the data if needed</li>\n",
    "</ol>"
   ]
  },
  {
   "cell_type": "code",
   "execution_count": 218,
   "id": "331d38fa",
   "metadata": {},
   "outputs": [],
   "source": [
    "# df['embarked'].unique()"
   ]
  },
  {
   "cell_type": "code",
   "execution_count": 219,
   "id": "627d4063",
   "metadata": {},
   "outputs": [],
   "source": [
    "df['embarked']=df['embarked'].replace({'S':'Southampton','C':'Cherbourg','Q':'Queenstown'})"
   ]
  },
  {
   "cell_type": "code",
   "execution_count": 220,
   "id": "78c84844",
   "metadata": {},
   "outputs": [
    {
     "data": {
      "application/vnd.microsoft.datawrangler.viewer.v0+json": {
       "columns": [
        {
         "name": "index",
         "rawType": "int64",
         "type": "integer"
        },
        {
         "name": "pclass",
         "rawType": "int64",
         "type": "integer"
        },
        {
         "name": "name",
         "rawType": "object",
         "type": "string"
        },
        {
         "name": "sex",
         "rawType": "object",
         "type": "string"
        },
        {
         "name": "age",
         "rawType": "float64",
         "type": "float"
        },
        {
         "name": "sibsp",
         "rawType": "int64",
         "type": "integer"
        },
        {
         "name": "parch",
         "rawType": "int64",
         "type": "integer"
        },
        {
         "name": "ticket",
         "rawType": "object",
         "type": "string"
        },
        {
         "name": "fare",
         "rawType": "float64",
         "type": "float"
        },
        {
         "name": "embarked",
         "rawType": "object",
         "type": "string"
        },
        {
         "name": "survived",
         "rawType": "int64",
         "type": "integer"
        }
       ],
       "ref": "829fabc8-5e15-4078-bbe2-6fd0e1498912",
       "rows": [
        [
         "0",
         "1",
         "Allen, Miss. Elisabeth Walton",
         "female",
         "29.0",
         "0",
         "0",
         "24160",
         "211.3375",
         "Southampton",
         "1"
        ],
        [
         "1",
         "1",
         "Allison, Master. Hudson Trevor",
         "male",
         "0.9167",
         "1",
         "2",
         "113781",
         "151.55",
         "Southampton",
         "1"
        ],
        [
         "2",
         "1",
         "Allison, Miss. Helen Loraine",
         "female",
         "2.0",
         "1",
         "2",
         "113781",
         "151.55",
         "Southampton",
         "0"
        ],
        [
         "3",
         "1",
         "Allison, Mr. Hudson Joshua Creighton",
         "male",
         "30.0",
         "1",
         "2",
         "113781",
         "151.55",
         "Southampton",
         "0"
        ],
        [
         "4",
         "1",
         "Allison, Mrs. Hudson J C (Bessie Waldo Daniels)",
         "female",
         "25.0",
         "1",
         "2",
         "113781",
         "151.55",
         "Southampton",
         "0"
        ]
       ],
       "shape": {
        "columns": 10,
        "rows": 5
       }
      },
      "text/html": [
       "<div>\n",
       "<style scoped>\n",
       "    .dataframe tbody tr th:only-of-type {\n",
       "        vertical-align: middle;\n",
       "    }\n",
       "\n",
       "    .dataframe tbody tr th {\n",
       "        vertical-align: top;\n",
       "    }\n",
       "\n",
       "    .dataframe thead th {\n",
       "        text-align: right;\n",
       "    }\n",
       "</style>\n",
       "<table border=\"1\" class=\"dataframe\">\n",
       "  <thead>\n",
       "    <tr style=\"text-align: right;\">\n",
       "      <th></th>\n",
       "      <th>pclass</th>\n",
       "      <th>name</th>\n",
       "      <th>sex</th>\n",
       "      <th>age</th>\n",
       "      <th>sibsp</th>\n",
       "      <th>parch</th>\n",
       "      <th>ticket</th>\n",
       "      <th>fare</th>\n",
       "      <th>embarked</th>\n",
       "      <th>survived</th>\n",
       "    </tr>\n",
       "  </thead>\n",
       "  <tbody>\n",
       "    <tr>\n",
       "      <th>0</th>\n",
       "      <td>1</td>\n",
       "      <td>Allen, Miss. Elisabeth Walton</td>\n",
       "      <td>female</td>\n",
       "      <td>29.0000</td>\n",
       "      <td>0</td>\n",
       "      <td>0</td>\n",
       "      <td>24160</td>\n",
       "      <td>211.3375</td>\n",
       "      <td>Southampton</td>\n",
       "      <td>1</td>\n",
       "    </tr>\n",
       "    <tr>\n",
       "      <th>1</th>\n",
       "      <td>1</td>\n",
       "      <td>Allison, Master. Hudson Trevor</td>\n",
       "      <td>male</td>\n",
       "      <td>0.9167</td>\n",
       "      <td>1</td>\n",
       "      <td>2</td>\n",
       "      <td>113781</td>\n",
       "      <td>151.5500</td>\n",
       "      <td>Southampton</td>\n",
       "      <td>1</td>\n",
       "    </tr>\n",
       "    <tr>\n",
       "      <th>2</th>\n",
       "      <td>1</td>\n",
       "      <td>Allison, Miss. Helen Loraine</td>\n",
       "      <td>female</td>\n",
       "      <td>2.0000</td>\n",
       "      <td>1</td>\n",
       "      <td>2</td>\n",
       "      <td>113781</td>\n",
       "      <td>151.5500</td>\n",
       "      <td>Southampton</td>\n",
       "      <td>0</td>\n",
       "    </tr>\n",
       "    <tr>\n",
       "      <th>3</th>\n",
       "      <td>1</td>\n",
       "      <td>Allison, Mr. Hudson Joshua Creighton</td>\n",
       "      <td>male</td>\n",
       "      <td>30.0000</td>\n",
       "      <td>1</td>\n",
       "      <td>2</td>\n",
       "      <td>113781</td>\n",
       "      <td>151.5500</td>\n",
       "      <td>Southampton</td>\n",
       "      <td>0</td>\n",
       "    </tr>\n",
       "    <tr>\n",
       "      <th>4</th>\n",
       "      <td>1</td>\n",
       "      <td>Allison, Mrs. Hudson J C (Bessie Waldo Daniels)</td>\n",
       "      <td>female</td>\n",
       "      <td>25.0000</td>\n",
       "      <td>1</td>\n",
       "      <td>2</td>\n",
       "      <td>113781</td>\n",
       "      <td>151.5500</td>\n",
       "      <td>Southampton</td>\n",
       "      <td>0</td>\n",
       "    </tr>\n",
       "  </tbody>\n",
       "</table>\n",
       "</div>"
      ],
      "text/plain": [
       "   pclass                                             name     sex      age  \\\n",
       "0       1                    Allen, Miss. Elisabeth Walton  female  29.0000   \n",
       "1       1                   Allison, Master. Hudson Trevor    male   0.9167   \n",
       "2       1                     Allison, Miss. Helen Loraine  female   2.0000   \n",
       "3       1             Allison, Mr. Hudson Joshua Creighton    male  30.0000   \n",
       "4       1  Allison, Mrs. Hudson J C (Bessie Waldo Daniels)  female  25.0000   \n",
       "\n",
       "   sibsp  parch  ticket      fare     embarked  survived  \n",
       "0      0      0   24160  211.3375  Southampton         1  \n",
       "1      1      2  113781  151.5500  Southampton         1  \n",
       "2      1      2  113781  151.5500  Southampton         0  \n",
       "3      1      2  113781  151.5500  Southampton         0  \n",
       "4      1      2  113781  151.5500  Southampton         0  "
      ]
     },
     "execution_count": 220,
     "metadata": {},
     "output_type": "execute_result"
    }
   ],
   "source": [
    "df.head()"
   ]
  },
  {
   "cell_type": "code",
   "execution_count": 221,
   "id": "fee134c4",
   "metadata": {},
   "outputs": [],
   "source": [
    "df['family_count']=df['sibsp']+df['parch']"
   ]
  },
  {
   "cell_type": "code",
   "execution_count": 222,
   "id": "3184c241",
   "metadata": {},
   "outputs": [],
   "source": [
    "df=df.drop(columns=['sibsp','parch'])"
   ]
  },
  {
   "cell_type": "code",
   "execution_count": 223,
   "id": "86a3e4fb",
   "metadata": {},
   "outputs": [],
   "source": [
    "df[['last_name','tit_fname']]=df['name'].str.split(',',expand=True)"
   ]
  },
  {
   "cell_type": "code",
   "execution_count": 224,
   "id": "5aa18f12",
   "metadata": {},
   "outputs": [],
   "source": [
    "df[['title','first_name']]=df['tit_fname'].str.split('.',n=1,expand=True)"
   ]
  },
  {
   "cell_type": "code",
   "execution_count": 225,
   "id": "55f930db",
   "metadata": {},
   "outputs": [],
   "source": [
    "for col in ['title','first_name','last_name']:\n",
    "    df[col]=df[col].str.strip()"
   ]
  },
  {
   "cell_type": "code",
   "execution_count": 226,
   "id": "92c7be94",
   "metadata": {},
   "outputs": [],
   "source": [
    "df=df.drop(columns=['name','tit_fname'])"
   ]
  },
  {
   "cell_type": "code",
   "execution_count": 227,
   "id": "45d4212f",
   "metadata": {},
   "outputs": [
    {
     "data": {
      "text/plain": [
       "Index(['pclass', 'sex', 'age', 'ticket', 'fare', 'embarked', 'survived',\n",
       "       'family_count', 'last_name', 'title', 'first_name'],\n",
       "      dtype='object')"
      ]
     },
     "execution_count": 227,
     "metadata": {},
     "output_type": "execute_result"
    }
   ],
   "source": [
    "df.columns"
   ]
  },
  {
   "cell_type": "code",
   "execution_count": 228,
   "id": "0ba28111",
   "metadata": {},
   "outputs": [],
   "source": [
    "lst=['title','first_name','last_name','sex','age','family_count','ticket','pclass','fare','embarked','survived']\n",
    "df=df[lst]"
   ]
  },
  {
   "cell_type": "code",
   "execution_count": 229,
   "id": "daac33b7",
   "metadata": {},
   "outputs": [],
   "source": [
    "df=df.rename(columns={'sex':'gender'})"
   ]
  },
  {
   "cell_type": "code",
   "execution_count": 230,
   "id": "e3876ebb",
   "metadata": {},
   "outputs": [],
   "source": [
    "df['age']=df['age'].round(2)\n",
    "df['fare']=df['fare'].round(2)"
   ]
  },
  {
   "cell_type": "code",
   "execution_count": 231,
   "id": "40b82be1",
   "metadata": {},
   "outputs": [
    {
     "data": {
      "application/vnd.microsoft.datawrangler.viewer.v0+json": {
       "columns": [
        {
         "name": "index",
         "rawType": "int64",
         "type": "integer"
        },
        {
         "name": "title",
         "rawType": "object",
         "type": "string"
        },
        {
         "name": "first_name",
         "rawType": "object",
         "type": "string"
        },
        {
         "name": "last_name",
         "rawType": "object",
         "type": "string"
        },
        {
         "name": "gender",
         "rawType": "object",
         "type": "string"
        },
        {
         "name": "age",
         "rawType": "float64",
         "type": "float"
        },
        {
         "name": "family_count",
         "rawType": "int64",
         "type": "integer"
        },
        {
         "name": "ticket",
         "rawType": "object",
         "type": "string"
        },
        {
         "name": "pclass",
         "rawType": "int64",
         "type": "integer"
        },
        {
         "name": "fare",
         "rawType": "float64",
         "type": "float"
        },
        {
         "name": "embarked",
         "rawType": "object",
         "type": "string"
        },
        {
         "name": "survived",
         "rawType": "int64",
         "type": "integer"
        }
       ],
       "ref": "cc9c65b9-fb0e-4e56-b099-89cf2608a7ec",
       "rows": [
        [
         "0",
         "Miss",
         "Elisabeth Walton",
         "Allen",
         "female",
         "29.0",
         "0",
         "24160",
         "1",
         "211.34",
         "Southampton",
         "1"
        ],
        [
         "1",
         "Master",
         "Hudson Trevor",
         "Allison",
         "male",
         "0.92",
         "3",
         "113781",
         "1",
         "151.55",
         "Southampton",
         "1"
        ],
        [
         "2",
         "Miss",
         "Helen Loraine",
         "Allison",
         "female",
         "2.0",
         "3",
         "113781",
         "1",
         "151.55",
         "Southampton",
         "0"
        ],
        [
         "3",
         "Mr",
         "Hudson Joshua Creighton",
         "Allison",
         "male",
         "30.0",
         "3",
         "113781",
         "1",
         "151.55",
         "Southampton",
         "0"
        ],
        [
         "4",
         "Mrs",
         "Hudson J C (Bessie Waldo Daniels)",
         "Allison",
         "female",
         "25.0",
         "3",
         "113781",
         "1",
         "151.55",
         "Southampton",
         "0"
        ],
        [
         "5",
         "Mr",
         "Harry",
         "Anderson",
         "male",
         "48.0",
         "0",
         "19952",
         "1",
         "26.55",
         "Southampton",
         "1"
        ],
        [
         "6",
         "Miss",
         "Kornelia Theodosia",
         "Andrews",
         "female",
         "63.0",
         "1",
         "13502",
         "1",
         "77.96",
         "Southampton",
         "1"
        ],
        [
         "7",
         "Mr",
         "Thomas Jr",
         "Andrews",
         "male",
         "39.0",
         "0",
         "112050",
         "1",
         "0.0",
         "Southampton",
         "0"
        ],
        [
         "8",
         "Mrs",
         "Edward Dale (Charlotte Lamson)",
         "Appleton",
         "female",
         "53.0",
         "2",
         "11769",
         "1",
         "51.48",
         "Southampton",
         "1"
        ],
        [
         "9",
         "Mr",
         "Ramon",
         "Artagaveytia",
         "male",
         "71.0",
         "0",
         "PC 17609",
         "1",
         "49.5",
         "Cherbourg",
         "0"
        ],
        [
         "10",
         "Col",
         "John Jacob",
         "Astor",
         "male",
         "47.0",
         "1",
         "PC 17757",
         "1",
         "227.52",
         "Cherbourg",
         "0"
        ],
        [
         "11",
         "Mrs",
         "John Jacob (Madeleine Talmadge Force)",
         "Astor",
         "female",
         "18.0",
         "1",
         "PC 17757",
         "1",
         "227.52",
         "Cherbourg",
         "1"
        ],
        [
         "12",
         "Mme",
         "Leontine Pauline",
         "Aubart",
         "female",
         "24.0",
         "0",
         "PC 17477",
         "1",
         "69.3",
         "Cherbourg",
         "1"
        ],
        [
         "13",
         "Miss",
         "Ellen \"Nellie\"",
         "Barber",
         "female",
         "26.0",
         "0",
         "19877",
         "1",
         "78.85",
         "Southampton",
         "1"
        ],
        [
         "14",
         "Mr",
         "Algernon Henry Wilson",
         "Barkworth",
         "male",
         "80.0",
         "0",
         "27042",
         "1",
         "30.0",
         "Southampton",
         "1"
        ],
        [
         "15",
         "Mr",
         "John D",
         "Baumann",
         "male",
         "28.0",
         "0",
         "PC 17318",
         "1",
         "25.92",
         "Southampton",
         "0"
        ],
        [
         "16",
         "Mr",
         "Quigg Edmond",
         "Baxter",
         "male",
         "24.0",
         "1",
         "PC 17558",
         "1",
         "247.52",
         "Cherbourg",
         "0"
        ],
        [
         "17",
         "Mrs",
         "James (Helene DeLaudeniere Chaput)",
         "Baxter",
         "female",
         "50.0",
         "1",
         "PC 17558",
         "1",
         "247.52",
         "Cherbourg",
         "1"
        ],
        [
         "18",
         "Miss",
         "Albina",
         "Bazzani",
         "female",
         "32.0",
         "0",
         "11813",
         "1",
         "76.29",
         "Cherbourg",
         "1"
        ],
        [
         "19",
         "Mr",
         "Thomson",
         "Beattie",
         "male",
         "36.0",
         "0",
         "13050",
         "1",
         "75.24",
         "Cherbourg",
         "0"
        ],
        [
         "20",
         "Mr",
         "Richard Leonard",
         "Beckwith",
         "male",
         "37.0",
         "2",
         "11751",
         "1",
         "52.55",
         "Southampton",
         "1"
        ],
        [
         "21",
         "Mrs",
         "Richard Leonard (Sallie Monypeny)",
         "Beckwith",
         "female",
         "47.0",
         "2",
         "11751",
         "1",
         "52.55",
         "Southampton",
         "1"
        ],
        [
         "22",
         "Mr",
         "Karl Howell",
         "Behr",
         "male",
         "26.0",
         "0",
         "111369",
         "1",
         "30.0",
         "Cherbourg",
         "1"
        ],
        [
         "23",
         "Miss",
         "Rosalie",
         "Bidois",
         "female",
         "42.0",
         "0",
         "PC 17757",
         "1",
         "227.52",
         "Cherbourg",
         "1"
        ],
        [
         "24",
         "Miss",
         "Ellen",
         "Bird",
         "female",
         "29.0",
         "0",
         "PC 17483",
         "1",
         "221.78",
         "Southampton",
         "1"
        ],
        [
         "25",
         "Mr",
         "Jakob",
         "Birnbaum",
         "male",
         "25.0",
         "0",
         "13905",
         "1",
         "26.0",
         "Cherbourg",
         "0"
        ],
        [
         "26",
         "Mr",
         "Dickinson H",
         "Bishop",
         "male",
         "25.0",
         "1",
         "11967",
         "1",
         "91.08",
         "Cherbourg",
         "1"
        ],
        [
         "27",
         "Mrs",
         "Dickinson H (Helen Walton)",
         "Bishop",
         "female",
         "19.0",
         "1",
         "11967",
         "1",
         "91.08",
         "Cherbourg",
         "1"
        ],
        [
         "28",
         "Miss",
         "Amelia",
         "Bissette",
         "female",
         "35.0",
         "0",
         "PC 17760",
         "1",
         "135.63",
         "Southampton",
         "1"
        ],
        [
         "29",
         "Mr",
         "Mauritz Hakan",
         "Bjornstrom-Steffansson",
         "male",
         "28.0",
         "0",
         "110564",
         "1",
         "26.55",
         "Southampton",
         "1"
        ],
        [
         "30",
         "Mr",
         "Stephen Weart",
         "Blackwell",
         "male",
         "45.0",
         "0",
         "113784",
         "1",
         "35.5",
         "Southampton",
         "0"
        ],
        [
         "31",
         "Mr",
         "Henry",
         "Blank",
         "male",
         "40.0",
         "0",
         "112277",
         "1",
         "31.0",
         "Cherbourg",
         "1"
        ],
        [
         "32",
         "Miss",
         "Caroline",
         "Bonnell",
         "female",
         "30.0",
         "0",
         "36928",
         "1",
         "164.87",
         "Southampton",
         "1"
        ],
        [
         "33",
         "Miss",
         "Elizabeth",
         "Bonnell",
         "female",
         "58.0",
         "0",
         "113783",
         "1",
         "26.55",
         "Southampton",
         "1"
        ],
        [
         "34",
         "Mr",
         "John James",
         "Borebank",
         "male",
         "42.0",
         "0",
         "110489",
         "1",
         "26.55",
         "Southampton",
         "0"
        ],
        [
         "35",
         "Miss",
         "Grace Scott",
         "Bowen",
         "female",
         "45.0",
         "0",
         "PC 17608",
         "1",
         "262.38",
         "Cherbourg",
         "1"
        ],
        [
         "36",
         "Miss",
         "Elsie Edith",
         "Bowerman",
         "female",
         "22.0",
         "1",
         "113505",
         "1",
         "55.0",
         "Southampton",
         "1"
        ],
        [
         "37",
         "Mr",
         "George (\"George Arthur Brayton\")",
         "Bradley",
         "male",
         "28.0",
         "0",
         "111427",
         "1",
         "26.55",
         "Southampton",
         "1"
        ],
        [
         "38",
         "Mr",
         "John Bertram",
         "Brady",
         "male",
         "41.0",
         "0",
         "113054",
         "1",
         "30.5",
         "Southampton",
         "0"
        ],
        [
         "39",
         "Mr",
         "Emil",
         "Brandeis",
         "male",
         "48.0",
         "0",
         "PC 17591",
         "1",
         "50.5",
         "Cherbourg",
         "0"
        ],
        [
         "40",
         "Dr",
         "Arthur Jackson",
         "Brewe",
         "male",
         "28.0",
         "0",
         "112379",
         "1",
         "39.6",
         "Cherbourg",
         "0"
        ],
        [
         "41",
         "Mrs",
         "James Joseph (Margaret Tobin)",
         "Brown",
         "female",
         "44.0",
         "0",
         "PC 17610",
         "1",
         "27.72",
         "Cherbourg",
         "1"
        ],
        [
         "42",
         "Mrs",
         "John Murray (Caroline Lane Lamson)",
         "Brown",
         "female",
         "59.0",
         "2",
         "11769",
         "1",
         "51.48",
         "Southampton",
         "1"
        ],
        [
         "43",
         "Mrs",
         "William Robert (Emma Eliza Ward)",
         "Bucknell",
         "female",
         "60.0",
         "0",
         "11813",
         "1",
         "76.29",
         "Cherbourg",
         "1"
        ],
        [
         "44",
         "Miss",
         "Elizabeth Margaret",
         "Burns",
         "female",
         "41.0",
         "0",
         "16966",
         "1",
         "134.5",
         "Cherbourg",
         "1"
        ],
        [
         "45",
         "Major",
         "Archibald Willingham",
         "Butt",
         "male",
         "45.0",
         "0",
         "113050",
         "1",
         "26.55",
         "Southampton",
         "0"
        ],
        [
         "46",
         "Mr",
         "Alexander",
         "Cairns",
         "male",
         "28.0",
         "0",
         "113798",
         "1",
         "31.0",
         "Southampton",
         "0"
        ],
        [
         "47",
         "Mr",
         "Edward Pennington",
         "Calderhead",
         "male",
         "42.0",
         "0",
         "PC 17476",
         "1",
         "26.29",
         "Southampton",
         "1"
        ],
        [
         "48",
         "Mrs",
         "Edward (Helen Churchill Hungerford)",
         "Candee",
         "female",
         "53.0",
         "0",
         "PC 17606",
         "1",
         "27.45",
         "Cherbourg",
         "1"
        ],
        [
         "49",
         "Mr",
         "Thomas Drake Martinez",
         "Cardeza",
         "male",
         "36.0",
         "1",
         "PC 17755",
         "1",
         "512.33",
         "Cherbourg",
         "1"
        ]
       ],
       "shape": {
        "columns": 11,
        "rows": 1309
       }
      },
      "text/html": [
       "<div>\n",
       "<style scoped>\n",
       "    .dataframe tbody tr th:only-of-type {\n",
       "        vertical-align: middle;\n",
       "    }\n",
       "\n",
       "    .dataframe tbody tr th {\n",
       "        vertical-align: top;\n",
       "    }\n",
       "\n",
       "    .dataframe thead th {\n",
       "        text-align: right;\n",
       "    }\n",
       "</style>\n",
       "<table border=\"1\" class=\"dataframe\">\n",
       "  <thead>\n",
       "    <tr style=\"text-align: right;\">\n",
       "      <th></th>\n",
       "      <th>title</th>\n",
       "      <th>first_name</th>\n",
       "      <th>last_name</th>\n",
       "      <th>gender</th>\n",
       "      <th>age</th>\n",
       "      <th>family_count</th>\n",
       "      <th>ticket</th>\n",
       "      <th>pclass</th>\n",
       "      <th>fare</th>\n",
       "      <th>embarked</th>\n",
       "      <th>survived</th>\n",
       "    </tr>\n",
       "  </thead>\n",
       "  <tbody>\n",
       "    <tr>\n",
       "      <th>0</th>\n",
       "      <td>Miss</td>\n",
       "      <td>Elisabeth Walton</td>\n",
       "      <td>Allen</td>\n",
       "      <td>female</td>\n",
       "      <td>29.00</td>\n",
       "      <td>0</td>\n",
       "      <td>24160</td>\n",
       "      <td>1</td>\n",
       "      <td>211.34</td>\n",
       "      <td>Southampton</td>\n",
       "      <td>1</td>\n",
       "    </tr>\n",
       "    <tr>\n",
       "      <th>1</th>\n",
       "      <td>Master</td>\n",
       "      <td>Hudson Trevor</td>\n",
       "      <td>Allison</td>\n",
       "      <td>male</td>\n",
       "      <td>0.92</td>\n",
       "      <td>3</td>\n",
       "      <td>113781</td>\n",
       "      <td>1</td>\n",
       "      <td>151.55</td>\n",
       "      <td>Southampton</td>\n",
       "      <td>1</td>\n",
       "    </tr>\n",
       "    <tr>\n",
       "      <th>2</th>\n",
       "      <td>Miss</td>\n",
       "      <td>Helen Loraine</td>\n",
       "      <td>Allison</td>\n",
       "      <td>female</td>\n",
       "      <td>2.00</td>\n",
       "      <td>3</td>\n",
       "      <td>113781</td>\n",
       "      <td>1</td>\n",
       "      <td>151.55</td>\n",
       "      <td>Southampton</td>\n",
       "      <td>0</td>\n",
       "    </tr>\n",
       "    <tr>\n",
       "      <th>3</th>\n",
       "      <td>Mr</td>\n",
       "      <td>Hudson Joshua Creighton</td>\n",
       "      <td>Allison</td>\n",
       "      <td>male</td>\n",
       "      <td>30.00</td>\n",
       "      <td>3</td>\n",
       "      <td>113781</td>\n",
       "      <td>1</td>\n",
       "      <td>151.55</td>\n",
       "      <td>Southampton</td>\n",
       "      <td>0</td>\n",
       "    </tr>\n",
       "    <tr>\n",
       "      <th>4</th>\n",
       "      <td>Mrs</td>\n",
       "      <td>Hudson J C (Bessie Waldo Daniels)</td>\n",
       "      <td>Allison</td>\n",
       "      <td>female</td>\n",
       "      <td>25.00</td>\n",
       "      <td>3</td>\n",
       "      <td>113781</td>\n",
       "      <td>1</td>\n",
       "      <td>151.55</td>\n",
       "      <td>Southampton</td>\n",
       "      <td>0</td>\n",
       "    </tr>\n",
       "    <tr>\n",
       "      <th>...</th>\n",
       "      <td>...</td>\n",
       "      <td>...</td>\n",
       "      <td>...</td>\n",
       "      <td>...</td>\n",
       "      <td>...</td>\n",
       "      <td>...</td>\n",
       "      <td>...</td>\n",
       "      <td>...</td>\n",
       "      <td>...</td>\n",
       "      <td>...</td>\n",
       "      <td>...</td>\n",
       "    </tr>\n",
       "    <tr>\n",
       "      <th>1304</th>\n",
       "      <td>Miss</td>\n",
       "      <td>Hileni</td>\n",
       "      <td>Zabour</td>\n",
       "      <td>female</td>\n",
       "      <td>14.50</td>\n",
       "      <td>1</td>\n",
       "      <td>2665</td>\n",
       "      <td>3</td>\n",
       "      <td>14.45</td>\n",
       "      <td>Cherbourg</td>\n",
       "      <td>0</td>\n",
       "    </tr>\n",
       "    <tr>\n",
       "      <th>1305</th>\n",
       "      <td>Miss</td>\n",
       "      <td>Thamine</td>\n",
       "      <td>Zabour</td>\n",
       "      <td>female</td>\n",
       "      <td>28.00</td>\n",
       "      <td>1</td>\n",
       "      <td>2665</td>\n",
       "      <td>3</td>\n",
       "      <td>14.45</td>\n",
       "      <td>Cherbourg</td>\n",
       "      <td>0</td>\n",
       "    </tr>\n",
       "    <tr>\n",
       "      <th>1306</th>\n",
       "      <td>Mr</td>\n",
       "      <td>Mapriededer</td>\n",
       "      <td>Zakarian</td>\n",
       "      <td>male</td>\n",
       "      <td>26.50</td>\n",
       "      <td>0</td>\n",
       "      <td>2656</td>\n",
       "      <td>3</td>\n",
       "      <td>7.22</td>\n",
       "      <td>Cherbourg</td>\n",
       "      <td>0</td>\n",
       "    </tr>\n",
       "    <tr>\n",
       "      <th>1307</th>\n",
       "      <td>Mr</td>\n",
       "      <td>Ortin</td>\n",
       "      <td>Zakarian</td>\n",
       "      <td>male</td>\n",
       "      <td>27.00</td>\n",
       "      <td>0</td>\n",
       "      <td>2670</td>\n",
       "      <td>3</td>\n",
       "      <td>7.22</td>\n",
       "      <td>Cherbourg</td>\n",
       "      <td>0</td>\n",
       "    </tr>\n",
       "    <tr>\n",
       "      <th>1308</th>\n",
       "      <td>Mr</td>\n",
       "      <td>Leo</td>\n",
       "      <td>Zimmerman</td>\n",
       "      <td>male</td>\n",
       "      <td>29.00</td>\n",
       "      <td>0</td>\n",
       "      <td>315082</td>\n",
       "      <td>3</td>\n",
       "      <td>7.88</td>\n",
       "      <td>Southampton</td>\n",
       "      <td>0</td>\n",
       "    </tr>\n",
       "  </tbody>\n",
       "</table>\n",
       "<p>1309 rows × 11 columns</p>\n",
       "</div>"
      ],
      "text/plain": [
       "       title                         first_name  last_name  gender    age  \\\n",
       "0       Miss                   Elisabeth Walton      Allen  female  29.00   \n",
       "1     Master                      Hudson Trevor    Allison    male   0.92   \n",
       "2       Miss                      Helen Loraine    Allison  female   2.00   \n",
       "3         Mr            Hudson Joshua Creighton    Allison    male  30.00   \n",
       "4        Mrs  Hudson J C (Bessie Waldo Daniels)    Allison  female  25.00   \n",
       "...      ...                                ...        ...     ...    ...   \n",
       "1304    Miss                             Hileni     Zabour  female  14.50   \n",
       "1305    Miss                            Thamine     Zabour  female  28.00   \n",
       "1306      Mr                        Mapriededer   Zakarian    male  26.50   \n",
       "1307      Mr                              Ortin   Zakarian    male  27.00   \n",
       "1308      Mr                                Leo  Zimmerman    male  29.00   \n",
       "\n",
       "      family_count  ticket  pclass    fare     embarked  survived  \n",
       "0                0   24160       1  211.34  Southampton         1  \n",
       "1                3  113781       1  151.55  Southampton         1  \n",
       "2                3  113781       1  151.55  Southampton         0  \n",
       "3                3  113781       1  151.55  Southampton         0  \n",
       "4                3  113781       1  151.55  Southampton         0  \n",
       "...            ...     ...     ...     ...          ...       ...  \n",
       "1304             1    2665       3   14.45    Cherbourg         0  \n",
       "1305             1    2665       3   14.45    Cherbourg         0  \n",
       "1306             0    2656       3    7.22    Cherbourg         0  \n",
       "1307             0    2670       3    7.22    Cherbourg         0  \n",
       "1308             0  315082       3    7.88  Southampton         0  \n",
       "\n",
       "[1309 rows x 11 columns]"
      ]
     },
     "execution_count": 231,
     "metadata": {},
     "output_type": "execute_result"
    }
   ],
   "source": [
    "df"
   ]
  },
  {
   "cell_type": "code",
   "execution_count": 232,
   "id": "f4fde95e",
   "metadata": {},
   "outputs": [],
   "source": [
    "def f1(d):\n",
    "    if d['family_count']>0:\n",
    "        return 'family/friends'\n",
    "    else:\n",
    "        return 'solo'\n",
    "df['companion_type']=df.apply(f1,axis=1)    "
   ]
  },
  {
   "cell_type": "code",
   "execution_count": 233,
   "id": "479656d7",
   "metadata": {},
   "outputs": [
    {
     "data": {
      "application/vnd.microsoft.datawrangler.viewer.v0+json": {
       "columns": [
        {
         "name": "index",
         "rawType": "int64",
         "type": "integer"
        },
        {
         "name": "title",
         "rawType": "object",
         "type": "string"
        },
        {
         "name": "first_name",
         "rawType": "object",
         "type": "string"
        },
        {
         "name": "last_name",
         "rawType": "object",
         "type": "string"
        },
        {
         "name": "gender",
         "rawType": "object",
         "type": "string"
        },
        {
         "name": "age",
         "rawType": "float64",
         "type": "float"
        },
        {
         "name": "family_count",
         "rawType": "int64",
         "type": "integer"
        },
        {
         "name": "ticket",
         "rawType": "object",
         "type": "string"
        },
        {
         "name": "pclass",
         "rawType": "int64",
         "type": "integer"
        },
        {
         "name": "fare",
         "rawType": "float64",
         "type": "float"
        },
        {
         "name": "embarked",
         "rawType": "object",
         "type": "string"
        },
        {
         "name": "survived",
         "rawType": "int64",
         "type": "integer"
        },
        {
         "name": "companion_type",
         "rawType": "object",
         "type": "string"
        }
       ],
       "ref": "44cd72c0-c466-4120-80bd-effa020982a1",
       "rows": [
        [
         "0",
         "Miss",
         "Elisabeth Walton",
         "Allen",
         "female",
         "29.0",
         "0",
         "24160",
         "1",
         "211.34",
         "Southampton",
         "1",
         "solo"
        ],
        [
         "1",
         "Master",
         "Hudson Trevor",
         "Allison",
         "male",
         "0.92",
         "3",
         "113781",
         "1",
         "151.55",
         "Southampton",
         "1",
         "family/friends"
        ],
        [
         "2",
         "Miss",
         "Helen Loraine",
         "Allison",
         "female",
         "2.0",
         "3",
         "113781",
         "1",
         "151.55",
         "Southampton",
         "0",
         "family/friends"
        ],
        [
         "3",
         "Mr",
         "Hudson Joshua Creighton",
         "Allison",
         "male",
         "30.0",
         "3",
         "113781",
         "1",
         "151.55",
         "Southampton",
         "0",
         "family/friends"
        ],
        [
         "4",
         "Mrs",
         "Hudson J C (Bessie Waldo Daniels)",
         "Allison",
         "female",
         "25.0",
         "3",
         "113781",
         "1",
         "151.55",
         "Southampton",
         "0",
         "family/friends"
        ]
       ],
       "shape": {
        "columns": 12,
        "rows": 5
       }
      },
      "text/html": [
       "<div>\n",
       "<style scoped>\n",
       "    .dataframe tbody tr th:only-of-type {\n",
       "        vertical-align: middle;\n",
       "    }\n",
       "\n",
       "    .dataframe tbody tr th {\n",
       "        vertical-align: top;\n",
       "    }\n",
       "\n",
       "    .dataframe thead th {\n",
       "        text-align: right;\n",
       "    }\n",
       "</style>\n",
       "<table border=\"1\" class=\"dataframe\">\n",
       "  <thead>\n",
       "    <tr style=\"text-align: right;\">\n",
       "      <th></th>\n",
       "      <th>title</th>\n",
       "      <th>first_name</th>\n",
       "      <th>last_name</th>\n",
       "      <th>gender</th>\n",
       "      <th>age</th>\n",
       "      <th>family_count</th>\n",
       "      <th>ticket</th>\n",
       "      <th>pclass</th>\n",
       "      <th>fare</th>\n",
       "      <th>embarked</th>\n",
       "      <th>survived</th>\n",
       "      <th>companion_type</th>\n",
       "    </tr>\n",
       "  </thead>\n",
       "  <tbody>\n",
       "    <tr>\n",
       "      <th>0</th>\n",
       "      <td>Miss</td>\n",
       "      <td>Elisabeth Walton</td>\n",
       "      <td>Allen</td>\n",
       "      <td>female</td>\n",
       "      <td>29.00</td>\n",
       "      <td>0</td>\n",
       "      <td>24160</td>\n",
       "      <td>1</td>\n",
       "      <td>211.34</td>\n",
       "      <td>Southampton</td>\n",
       "      <td>1</td>\n",
       "      <td>solo</td>\n",
       "    </tr>\n",
       "    <tr>\n",
       "      <th>1</th>\n",
       "      <td>Master</td>\n",
       "      <td>Hudson Trevor</td>\n",
       "      <td>Allison</td>\n",
       "      <td>male</td>\n",
       "      <td>0.92</td>\n",
       "      <td>3</td>\n",
       "      <td>113781</td>\n",
       "      <td>1</td>\n",
       "      <td>151.55</td>\n",
       "      <td>Southampton</td>\n",
       "      <td>1</td>\n",
       "      <td>family/friends</td>\n",
       "    </tr>\n",
       "    <tr>\n",
       "      <th>2</th>\n",
       "      <td>Miss</td>\n",
       "      <td>Helen Loraine</td>\n",
       "      <td>Allison</td>\n",
       "      <td>female</td>\n",
       "      <td>2.00</td>\n",
       "      <td>3</td>\n",
       "      <td>113781</td>\n",
       "      <td>1</td>\n",
       "      <td>151.55</td>\n",
       "      <td>Southampton</td>\n",
       "      <td>0</td>\n",
       "      <td>family/friends</td>\n",
       "    </tr>\n",
       "    <tr>\n",
       "      <th>3</th>\n",
       "      <td>Mr</td>\n",
       "      <td>Hudson Joshua Creighton</td>\n",
       "      <td>Allison</td>\n",
       "      <td>male</td>\n",
       "      <td>30.00</td>\n",
       "      <td>3</td>\n",
       "      <td>113781</td>\n",
       "      <td>1</td>\n",
       "      <td>151.55</td>\n",
       "      <td>Southampton</td>\n",
       "      <td>0</td>\n",
       "      <td>family/friends</td>\n",
       "    </tr>\n",
       "    <tr>\n",
       "      <th>4</th>\n",
       "      <td>Mrs</td>\n",
       "      <td>Hudson J C (Bessie Waldo Daniels)</td>\n",
       "      <td>Allison</td>\n",
       "      <td>female</td>\n",
       "      <td>25.00</td>\n",
       "      <td>3</td>\n",
       "      <td>113781</td>\n",
       "      <td>1</td>\n",
       "      <td>151.55</td>\n",
       "      <td>Southampton</td>\n",
       "      <td>0</td>\n",
       "      <td>family/friends</td>\n",
       "    </tr>\n",
       "  </tbody>\n",
       "</table>\n",
       "</div>"
      ],
      "text/plain": [
       "    title                         first_name last_name  gender    age  \\\n",
       "0    Miss                   Elisabeth Walton     Allen  female  29.00   \n",
       "1  Master                      Hudson Trevor   Allison    male   0.92   \n",
       "2    Miss                      Helen Loraine   Allison  female   2.00   \n",
       "3      Mr            Hudson Joshua Creighton   Allison    male  30.00   \n",
       "4     Mrs  Hudson J C (Bessie Waldo Daniels)   Allison  female  25.00   \n",
       "\n",
       "   family_count  ticket  pclass    fare     embarked  survived  companion_type  \n",
       "0             0   24160       1  211.34  Southampton         1            solo  \n",
       "1             3  113781       1  151.55  Southampton         1  family/friends  \n",
       "2             3  113781       1  151.55  Southampton         0  family/friends  \n",
       "3             3  113781       1  151.55  Southampton         0  family/friends  \n",
       "4             3  113781       1  151.55  Southampton         0  family/friends  "
      ]
     },
     "execution_count": 233,
     "metadata": {},
     "output_type": "execute_result"
    }
   ],
   "source": [
    "df.head()"
   ]
  },
  {
   "cell_type": "markdown",
   "id": "8a5a632b",
   "metadata": {},
   "source": [
    "<h1 style=\"color:Red\">PANDAS QUESTIONS :</h1>"
   ]
  },
  {
   "cell_type": "markdown",
   "id": "be3105bb",
   "metadata": {},
   "source": [
    "<h3 style=\"color:orange\">1. Sort the data according to the ascending order of the ticket. </h3>"
   ]
  },
  {
   "cell_type": "code",
   "execution_count": 234,
   "id": "1a13fa2f",
   "metadata": {},
   "outputs": [],
   "source": [
    "df=df.sort_values(by=['ticket'],ascending=True)"
   ]
  },
  {
   "cell_type": "code",
   "execution_count": 235,
   "id": "08f9a06c",
   "metadata": {},
   "outputs": [],
   "source": [
    "df= df.reset_index(drop = True)"
   ]
  },
  {
   "cell_type": "markdown",
   "id": "f2fcd28c",
   "metadata": {},
   "source": [
    "<h3 style=\"color:orange\">2. Create a new column called age_category (child,teen,adult,senior)</h3>"
   ]
  },
  {
   "cell_type": "code",
   "execution_count": 236,
   "id": "268cd74f",
   "metadata": {},
   "outputs": [],
   "source": [
    "def f2(d):\n",
    "    if d['age']<=12:\n",
    "        return 'child'\n",
    "    elif d['age']>12 and d['age']<=18:\n",
    "        return 'teen'\n",
    "    elif d['age']>18 and d['age']<=55:\n",
    "        return 'adult'\n",
    "    else:\n",
    "        return 'senior'\n",
    "\n",
    "df['age_category']=df.apply(f2,axis=1)"
   ]
  },
  {
   "cell_type": "code",
   "execution_count": 237,
   "id": "983762d2",
   "metadata": {},
   "outputs": [],
   "source": [
    "df['age_category']=pd.cut(df['age'],bins=[0,12,18,55,90],labels=['child','teen','adult','senior'],include_lowest=True)"
   ]
  },
  {
   "cell_type": "markdown",
   "id": "a376bb12",
   "metadata": {},
   "source": [
    "<h3 style=\"color:orange\">3. Get the count of passengers</h3>"
   ]
  },
  {
   "cell_type": "code",
   "execution_count": 238,
   "id": "997dea6e",
   "metadata": {},
   "outputs": [
    {
     "data": {
      "text/plain": [
       "1309"
      ]
     },
     "execution_count": 238,
     "metadata": {},
     "output_type": "execute_result"
    }
   ],
   "source": [
    "df.shape[0]\n",
    "\n",
    "# or\n",
    "\n",
    "len(df)"
   ]
  },
  {
   "cell_type": "code",
   "execution_count": 239,
   "id": "fcc3472a",
   "metadata": {},
   "outputs": [
    {
     "name": "stdout",
     "output_type": "stream",
     "text": [
      "1309\n"
     ]
    }
   ],
   "source": [
    "print(df['family_count'].count())"
   ]
  },
  {
   "cell_type": "markdown",
   "id": "7cf5aa84",
   "metadata": {},
   "source": [
    "<h3 style=\"color:orange\">4. Get the passengers details if their fare is 0.</h3>"
   ]
  },
  {
   "cell_type": "code",
   "execution_count": 240,
   "id": "df971e1c",
   "metadata": {},
   "outputs": [
    {
     "data": {
      "application/vnd.microsoft.datawrangler.viewer.v0+json": {
       "columns": [
        {
         "name": "index",
         "rawType": "int64",
         "type": "integer"
        },
        {
         "name": "title",
         "rawType": "object",
         "type": "string"
        },
        {
         "name": "first_name",
         "rawType": "object",
         "type": "string"
        },
        {
         "name": "last_name",
         "rawType": "object",
         "type": "string"
        },
        {
         "name": "gender",
         "rawType": "object",
         "type": "string"
        },
        {
         "name": "age",
         "rawType": "float64",
         "type": "float"
        },
        {
         "name": "family_count",
         "rawType": "int64",
         "type": "integer"
        },
        {
         "name": "ticket",
         "rawType": "object",
         "type": "string"
        },
        {
         "name": "pclass",
         "rawType": "int64",
         "type": "integer"
        },
        {
         "name": "fare",
         "rawType": "float64",
         "type": "float"
        },
        {
         "name": "embarked",
         "rawType": "object",
         "type": "string"
        },
        {
         "name": "survived",
         "rawType": "int64",
         "type": "integer"
        },
        {
         "name": "companion_type",
         "rawType": "object",
         "type": "string"
        },
        {
         "name": "age_category",
         "rawType": "category",
         "type": "unknown"
        }
       ],
       "ref": "e9d91277-b10c-4012-b4e8-70644af0a96d",
       "rows": [
        [
         "22",
         "Mr",
         "Thomas Jr",
         "Andrews",
         "male",
         "39.0",
         "0",
         "112050",
         "1",
         "0.0",
         "Southampton",
         "0",
         "solo",
         "adult"
        ],
        [
         "23",
         "Mr",
         "Roderick Robert Crispin",
         "Chisholm",
         "male",
         "28.0",
         "0",
         "112051",
         "1",
         "0.0",
         "Southampton",
         "0",
         "solo",
         "adult"
        ],
        [
         "24",
         "Mr",
         "William Henry Marsh",
         "Parr",
         "male",
         "28.0",
         "0",
         "112052",
         "1",
         "0.0",
         "Southampton",
         "0",
         "solo",
         "adult"
        ],
        [
         "26",
         "Mr",
         "Joseph Bruce",
         "Ismay",
         "male",
         "49.0",
         "0",
         "112058",
         "1",
         "0.0",
         "Southampton",
         "1",
         "solo",
         "adult"
        ],
        [
         "27",
         "Mr",
         "Richard",
         "Fry",
         "male",
         "28.0",
         "0",
         "112058",
         "1",
         "0.0",
         "Southampton",
         "0",
         "solo",
         "adult"
        ],
        [
         "28",
         "Mr",
         "William",
         "Harrison",
         "male",
         "40.0",
         "0",
         "112059",
         "1",
         "0.0",
         "Southampton",
         "0",
         "solo",
         "adult"
        ],
        [
         "206",
         "Jonkheer",
         "John George",
         "Reuchlin",
         "male",
         "38.0",
         "0",
         "19972",
         "1",
         "0.0",
         "Southampton",
         "0",
         "solo",
         "adult"
        ],
        [
         "278",
         "Mr",
         "Francis \"Frank\"",
         "Parkes",
         "male",
         "28.0",
         "0",
         "239853",
         "2",
         "0.0",
         "Southampton",
         "0",
         "solo",
         "adult"
        ],
        [
         "279",
         "Mr",
         "Alfred Fleming",
         "Cunningham",
         "male",
         "28.0",
         "0",
         "239853",
         "2",
         "0.0",
         "Southampton",
         "0",
         "solo",
         "adult"
        ],
        [
         "280",
         "Mr",
         "William",
         "Campbell",
         "male",
         "28.0",
         "0",
         "239853",
         "2",
         "0.0",
         "Southampton",
         "0",
         "solo",
         "adult"
        ],
        [
         "281",
         "Mr",
         "Anthony Wood \"Archie\"",
         "Frost",
         "male",
         "28.0",
         "0",
         "239854",
         "2",
         "0.0",
         "Southampton",
         "0",
         "solo",
         "adult"
        ],
        [
         "282",
         "Mr",
         "Robert J",
         "Knight",
         "male",
         "28.0",
         "0",
         "239855",
         "2",
         "0.0",
         "Southampton",
         "0",
         "solo",
         "adult"
        ],
        [
         "283",
         "Mr",
         "Ennis Hastings",
         "Watson",
         "male",
         "28.0",
         "0",
         "239856",
         "2",
         "0.0",
         "Southampton",
         "0",
         "solo",
         "adult"
        ],
        [
         "1089",
         "Mr",
         "William Cahoone Jr",
         "Johnson",
         "male",
         "19.0",
         "0",
         "LINE",
         "3",
         "0.0",
         "Southampton",
         "0",
         "solo",
         "adult"
        ],
        [
         "1090",
         "Mr",
         "Alfred",
         "Johnson",
         "male",
         "49.0",
         "0",
         "LINE",
         "3",
         "0.0",
         "Southampton",
         "0",
         "solo",
         "adult"
        ],
        [
         "1091",
         "Mr",
         "Lionel",
         "Leonard",
         "male",
         "36.0",
         "0",
         "LINE",
         "3",
         "0.0",
         "Southampton",
         "0",
         "solo",
         "adult"
        ],
        [
         "1092",
         "Mr",
         "William Henry",
         "Tornquist",
         "male",
         "25.0",
         "0",
         "LINE",
         "3",
         "0.0",
         "Southampton",
         "1",
         "solo",
         "adult"
        ]
       ],
       "shape": {
        "columns": 13,
        "rows": 17
       }
      },
      "text/html": [
       "<div>\n",
       "<style scoped>\n",
       "    .dataframe tbody tr th:only-of-type {\n",
       "        vertical-align: middle;\n",
       "    }\n",
       "\n",
       "    .dataframe tbody tr th {\n",
       "        vertical-align: top;\n",
       "    }\n",
       "\n",
       "    .dataframe thead th {\n",
       "        text-align: right;\n",
       "    }\n",
       "</style>\n",
       "<table border=\"1\" class=\"dataframe\">\n",
       "  <thead>\n",
       "    <tr style=\"text-align: right;\">\n",
       "      <th></th>\n",
       "      <th>title</th>\n",
       "      <th>first_name</th>\n",
       "      <th>last_name</th>\n",
       "      <th>gender</th>\n",
       "      <th>age</th>\n",
       "      <th>family_count</th>\n",
       "      <th>ticket</th>\n",
       "      <th>pclass</th>\n",
       "      <th>fare</th>\n",
       "      <th>embarked</th>\n",
       "      <th>survived</th>\n",
       "      <th>companion_type</th>\n",
       "      <th>age_category</th>\n",
       "    </tr>\n",
       "  </thead>\n",
       "  <tbody>\n",
       "    <tr>\n",
       "      <th>22</th>\n",
       "      <td>Mr</td>\n",
       "      <td>Thomas Jr</td>\n",
       "      <td>Andrews</td>\n",
       "      <td>male</td>\n",
       "      <td>39.0</td>\n",
       "      <td>0</td>\n",
       "      <td>112050</td>\n",
       "      <td>1</td>\n",
       "      <td>0.0</td>\n",
       "      <td>Southampton</td>\n",
       "      <td>0</td>\n",
       "      <td>solo</td>\n",
       "      <td>adult</td>\n",
       "    </tr>\n",
       "    <tr>\n",
       "      <th>23</th>\n",
       "      <td>Mr</td>\n",
       "      <td>Roderick Robert Crispin</td>\n",
       "      <td>Chisholm</td>\n",
       "      <td>male</td>\n",
       "      <td>28.0</td>\n",
       "      <td>0</td>\n",
       "      <td>112051</td>\n",
       "      <td>1</td>\n",
       "      <td>0.0</td>\n",
       "      <td>Southampton</td>\n",
       "      <td>0</td>\n",
       "      <td>solo</td>\n",
       "      <td>adult</td>\n",
       "    </tr>\n",
       "    <tr>\n",
       "      <th>24</th>\n",
       "      <td>Mr</td>\n",
       "      <td>William Henry Marsh</td>\n",
       "      <td>Parr</td>\n",
       "      <td>male</td>\n",
       "      <td>28.0</td>\n",
       "      <td>0</td>\n",
       "      <td>112052</td>\n",
       "      <td>1</td>\n",
       "      <td>0.0</td>\n",
       "      <td>Southampton</td>\n",
       "      <td>0</td>\n",
       "      <td>solo</td>\n",
       "      <td>adult</td>\n",
       "    </tr>\n",
       "    <tr>\n",
       "      <th>26</th>\n",
       "      <td>Mr</td>\n",
       "      <td>Joseph Bruce</td>\n",
       "      <td>Ismay</td>\n",
       "      <td>male</td>\n",
       "      <td>49.0</td>\n",
       "      <td>0</td>\n",
       "      <td>112058</td>\n",
       "      <td>1</td>\n",
       "      <td>0.0</td>\n",
       "      <td>Southampton</td>\n",
       "      <td>1</td>\n",
       "      <td>solo</td>\n",
       "      <td>adult</td>\n",
       "    </tr>\n",
       "    <tr>\n",
       "      <th>27</th>\n",
       "      <td>Mr</td>\n",
       "      <td>Richard</td>\n",
       "      <td>Fry</td>\n",
       "      <td>male</td>\n",
       "      <td>28.0</td>\n",
       "      <td>0</td>\n",
       "      <td>112058</td>\n",
       "      <td>1</td>\n",
       "      <td>0.0</td>\n",
       "      <td>Southampton</td>\n",
       "      <td>0</td>\n",
       "      <td>solo</td>\n",
       "      <td>adult</td>\n",
       "    </tr>\n",
       "    <tr>\n",
       "      <th>28</th>\n",
       "      <td>Mr</td>\n",
       "      <td>William</td>\n",
       "      <td>Harrison</td>\n",
       "      <td>male</td>\n",
       "      <td>40.0</td>\n",
       "      <td>0</td>\n",
       "      <td>112059</td>\n",
       "      <td>1</td>\n",
       "      <td>0.0</td>\n",
       "      <td>Southampton</td>\n",
       "      <td>0</td>\n",
       "      <td>solo</td>\n",
       "      <td>adult</td>\n",
       "    </tr>\n",
       "    <tr>\n",
       "      <th>206</th>\n",
       "      <td>Jonkheer</td>\n",
       "      <td>John George</td>\n",
       "      <td>Reuchlin</td>\n",
       "      <td>male</td>\n",
       "      <td>38.0</td>\n",
       "      <td>0</td>\n",
       "      <td>19972</td>\n",
       "      <td>1</td>\n",
       "      <td>0.0</td>\n",
       "      <td>Southampton</td>\n",
       "      <td>0</td>\n",
       "      <td>solo</td>\n",
       "      <td>adult</td>\n",
       "    </tr>\n",
       "    <tr>\n",
       "      <th>278</th>\n",
       "      <td>Mr</td>\n",
       "      <td>Francis \"Frank\"</td>\n",
       "      <td>Parkes</td>\n",
       "      <td>male</td>\n",
       "      <td>28.0</td>\n",
       "      <td>0</td>\n",
       "      <td>239853</td>\n",
       "      <td>2</td>\n",
       "      <td>0.0</td>\n",
       "      <td>Southampton</td>\n",
       "      <td>0</td>\n",
       "      <td>solo</td>\n",
       "      <td>adult</td>\n",
       "    </tr>\n",
       "    <tr>\n",
       "      <th>279</th>\n",
       "      <td>Mr</td>\n",
       "      <td>Alfred Fleming</td>\n",
       "      <td>Cunningham</td>\n",
       "      <td>male</td>\n",
       "      <td>28.0</td>\n",
       "      <td>0</td>\n",
       "      <td>239853</td>\n",
       "      <td>2</td>\n",
       "      <td>0.0</td>\n",
       "      <td>Southampton</td>\n",
       "      <td>0</td>\n",
       "      <td>solo</td>\n",
       "      <td>adult</td>\n",
       "    </tr>\n",
       "    <tr>\n",
       "      <th>280</th>\n",
       "      <td>Mr</td>\n",
       "      <td>William</td>\n",
       "      <td>Campbell</td>\n",
       "      <td>male</td>\n",
       "      <td>28.0</td>\n",
       "      <td>0</td>\n",
       "      <td>239853</td>\n",
       "      <td>2</td>\n",
       "      <td>0.0</td>\n",
       "      <td>Southampton</td>\n",
       "      <td>0</td>\n",
       "      <td>solo</td>\n",
       "      <td>adult</td>\n",
       "    </tr>\n",
       "    <tr>\n",
       "      <th>281</th>\n",
       "      <td>Mr</td>\n",
       "      <td>Anthony Wood \"Archie\"</td>\n",
       "      <td>Frost</td>\n",
       "      <td>male</td>\n",
       "      <td>28.0</td>\n",
       "      <td>0</td>\n",
       "      <td>239854</td>\n",
       "      <td>2</td>\n",
       "      <td>0.0</td>\n",
       "      <td>Southampton</td>\n",
       "      <td>0</td>\n",
       "      <td>solo</td>\n",
       "      <td>adult</td>\n",
       "    </tr>\n",
       "    <tr>\n",
       "      <th>282</th>\n",
       "      <td>Mr</td>\n",
       "      <td>Robert J</td>\n",
       "      <td>Knight</td>\n",
       "      <td>male</td>\n",
       "      <td>28.0</td>\n",
       "      <td>0</td>\n",
       "      <td>239855</td>\n",
       "      <td>2</td>\n",
       "      <td>0.0</td>\n",
       "      <td>Southampton</td>\n",
       "      <td>0</td>\n",
       "      <td>solo</td>\n",
       "      <td>adult</td>\n",
       "    </tr>\n",
       "    <tr>\n",
       "      <th>283</th>\n",
       "      <td>Mr</td>\n",
       "      <td>Ennis Hastings</td>\n",
       "      <td>Watson</td>\n",
       "      <td>male</td>\n",
       "      <td>28.0</td>\n",
       "      <td>0</td>\n",
       "      <td>239856</td>\n",
       "      <td>2</td>\n",
       "      <td>0.0</td>\n",
       "      <td>Southampton</td>\n",
       "      <td>0</td>\n",
       "      <td>solo</td>\n",
       "      <td>adult</td>\n",
       "    </tr>\n",
       "    <tr>\n",
       "      <th>1089</th>\n",
       "      <td>Mr</td>\n",
       "      <td>William Cahoone Jr</td>\n",
       "      <td>Johnson</td>\n",
       "      <td>male</td>\n",
       "      <td>19.0</td>\n",
       "      <td>0</td>\n",
       "      <td>LINE</td>\n",
       "      <td>3</td>\n",
       "      <td>0.0</td>\n",
       "      <td>Southampton</td>\n",
       "      <td>0</td>\n",
       "      <td>solo</td>\n",
       "      <td>adult</td>\n",
       "    </tr>\n",
       "    <tr>\n",
       "      <th>1090</th>\n",
       "      <td>Mr</td>\n",
       "      <td>Alfred</td>\n",
       "      <td>Johnson</td>\n",
       "      <td>male</td>\n",
       "      <td>49.0</td>\n",
       "      <td>0</td>\n",
       "      <td>LINE</td>\n",
       "      <td>3</td>\n",
       "      <td>0.0</td>\n",
       "      <td>Southampton</td>\n",
       "      <td>0</td>\n",
       "      <td>solo</td>\n",
       "      <td>adult</td>\n",
       "    </tr>\n",
       "    <tr>\n",
       "      <th>1091</th>\n",
       "      <td>Mr</td>\n",
       "      <td>Lionel</td>\n",
       "      <td>Leonard</td>\n",
       "      <td>male</td>\n",
       "      <td>36.0</td>\n",
       "      <td>0</td>\n",
       "      <td>LINE</td>\n",
       "      <td>3</td>\n",
       "      <td>0.0</td>\n",
       "      <td>Southampton</td>\n",
       "      <td>0</td>\n",
       "      <td>solo</td>\n",
       "      <td>adult</td>\n",
       "    </tr>\n",
       "    <tr>\n",
       "      <th>1092</th>\n",
       "      <td>Mr</td>\n",
       "      <td>William Henry</td>\n",
       "      <td>Tornquist</td>\n",
       "      <td>male</td>\n",
       "      <td>25.0</td>\n",
       "      <td>0</td>\n",
       "      <td>LINE</td>\n",
       "      <td>3</td>\n",
       "      <td>0.0</td>\n",
       "      <td>Southampton</td>\n",
       "      <td>1</td>\n",
       "      <td>solo</td>\n",
       "      <td>adult</td>\n",
       "    </tr>\n",
       "  </tbody>\n",
       "</table>\n",
       "</div>"
      ],
      "text/plain": [
       "         title               first_name   last_name gender   age  \\\n",
       "22          Mr                Thomas Jr     Andrews   male  39.0   \n",
       "23          Mr  Roderick Robert Crispin    Chisholm   male  28.0   \n",
       "24          Mr      William Henry Marsh        Parr   male  28.0   \n",
       "26          Mr             Joseph Bruce       Ismay   male  49.0   \n",
       "27          Mr                  Richard         Fry   male  28.0   \n",
       "28          Mr                  William    Harrison   male  40.0   \n",
       "206   Jonkheer              John George    Reuchlin   male  38.0   \n",
       "278         Mr          Francis \"Frank\"      Parkes   male  28.0   \n",
       "279         Mr           Alfred Fleming  Cunningham   male  28.0   \n",
       "280         Mr                  William    Campbell   male  28.0   \n",
       "281         Mr    Anthony Wood \"Archie\"       Frost   male  28.0   \n",
       "282         Mr                 Robert J      Knight   male  28.0   \n",
       "283         Mr           Ennis Hastings      Watson   male  28.0   \n",
       "1089        Mr       William Cahoone Jr     Johnson   male  19.0   \n",
       "1090        Mr                   Alfred     Johnson   male  49.0   \n",
       "1091        Mr                   Lionel     Leonard   male  36.0   \n",
       "1092        Mr            William Henry   Tornquist   male  25.0   \n",
       "\n",
       "      family_count  ticket  pclass  fare     embarked  survived  \\\n",
       "22               0  112050       1   0.0  Southampton         0   \n",
       "23               0  112051       1   0.0  Southampton         0   \n",
       "24               0  112052       1   0.0  Southampton         0   \n",
       "26               0  112058       1   0.0  Southampton         1   \n",
       "27               0  112058       1   0.0  Southampton         0   \n",
       "28               0  112059       1   0.0  Southampton         0   \n",
       "206              0   19972       1   0.0  Southampton         0   \n",
       "278              0  239853       2   0.0  Southampton         0   \n",
       "279              0  239853       2   0.0  Southampton         0   \n",
       "280              0  239853       2   0.0  Southampton         0   \n",
       "281              0  239854       2   0.0  Southampton         0   \n",
       "282              0  239855       2   0.0  Southampton         0   \n",
       "283              0  239856       2   0.0  Southampton         0   \n",
       "1089             0    LINE       3   0.0  Southampton         0   \n",
       "1090             0    LINE       3   0.0  Southampton         0   \n",
       "1091             0    LINE       3   0.0  Southampton         0   \n",
       "1092             0    LINE       3   0.0  Southampton         1   \n",
       "\n",
       "     companion_type age_category  \n",
       "22             solo        adult  \n",
       "23             solo        adult  \n",
       "24             solo        adult  \n",
       "26             solo        adult  \n",
       "27             solo        adult  \n",
       "28             solo        adult  \n",
       "206            solo        adult  \n",
       "278            solo        adult  \n",
       "279            solo        adult  \n",
       "280            solo        adult  \n",
       "281            solo        adult  \n",
       "282            solo        adult  \n",
       "283            solo        adult  \n",
       "1089           solo        adult  \n",
       "1090           solo        adult  \n",
       "1091           solo        adult  \n",
       "1092           solo        adult  "
      ]
     },
     "execution_count": 240,
     "metadata": {},
     "output_type": "execute_result"
    }
   ],
   "source": [
    "df.loc[df['fare']==0]\n",
    "\n",
    "# or\n",
    "\n",
    "\n",
    "df.query('fare==0')"
   ]
  },
  {
   "cell_type": "markdown",
   "id": "1448c217",
   "metadata": {},
   "source": [
    "<h3 style=\"color:orange\">5. Get the gender wise passengers count and survival rate.</h3>"
   ]
  },
  {
   "cell_type": "code",
   "execution_count": 241,
   "id": "2a32031f",
   "metadata": {
    "vscode": {
     "languageId": "ruby"
    }
   },
   "outputs": [
    {
     "data": {
      "application/vnd.microsoft.datawrangler.viewer.v0+json": {
       "columns": [
        {
         "name": "gender",
         "rawType": "object",
         "type": "string"
        },
        {
         "name": "passenger_count",
         "rawType": "int64",
         "type": "integer"
        },
        {
         "name": "survival_rate",
         "rawType": "float64",
         "type": "float"
        }
       ],
       "ref": "74af3091-b7c7-4bf4-a23e-849692bbfff2",
       "rows": [
        [
         "female",
         "466",
         "72.75"
        ],
        [
         "male",
         "843",
         "19.1"
        ]
       ],
       "shape": {
        "columns": 2,
        "rows": 2
       }
      },
      "text/html": [
       "<div>\n",
       "<style scoped>\n",
       "    .dataframe tbody tr th:only-of-type {\n",
       "        vertical-align: middle;\n",
       "    }\n",
       "\n",
       "    .dataframe tbody tr th {\n",
       "        vertical-align: top;\n",
       "    }\n",
       "\n",
       "    .dataframe thead th {\n",
       "        text-align: right;\n",
       "    }\n",
       "</style>\n",
       "<table border=\"1\" class=\"dataframe\">\n",
       "  <thead>\n",
       "    <tr style=\"text-align: right;\">\n",
       "      <th></th>\n",
       "      <th>passenger_count</th>\n",
       "      <th>survival_rate</th>\n",
       "    </tr>\n",
       "    <tr>\n",
       "      <th>gender</th>\n",
       "      <th></th>\n",
       "      <th></th>\n",
       "    </tr>\n",
       "  </thead>\n",
       "  <tbody>\n",
       "    <tr>\n",
       "      <th>female</th>\n",
       "      <td>466</td>\n",
       "      <td>72.75</td>\n",
       "    </tr>\n",
       "    <tr>\n",
       "      <th>male</th>\n",
       "      <td>843</td>\n",
       "      <td>19.10</td>\n",
       "    </tr>\n",
       "  </tbody>\n",
       "</table>\n",
       "</div>"
      ],
      "text/plain": [
       "        passenger_count  survival_rate\n",
       "gender                                \n",
       "female              466          72.75\n",
       "male                843          19.10"
      ]
     },
     "execution_count": 241,
     "metadata": {},
     "output_type": "execute_result"
    }
   ],
   "source": [
    "gender_stats = df.groupby('gender').agg(\n",
    "    passenger_count=('gender', 'count'),\n",
    "    survival_rate=('survived', 'mean')\n",
    ")\n",
    "gender_stats['survival_rate'] = (gender_stats['survival_rate'] * 100).round(2)\n",
    "gender_stats"
   ]
  },
  {
   "cell_type": "code",
   "execution_count": 242,
   "id": "85899c45",
   "metadata": {
    "vscode": {
     "languageId": "ruby"
    }
   },
   "outputs": [
    {
     "data": {
      "application/vnd.microsoft.datawrangler.viewer.v0+json": {
       "columns": [
        {
         "name": "gender",
         "rawType": "object",
         "type": "string"
        },
        {
         "name": "family_count",
         "rawType": "int64",
         "type": "integer"
        },
        {
         "name": "gender",
         "rawType": "int64",
         "type": "integer"
        },
        {
         "name": "survived",
         "rawType": "float64",
         "type": "float"
        }
       ],
       "ref": "fb29e0d5-37df-4eb8-adf4-d0d7db077e9f",
       "rows": [
        [
         "female",
         "466",
         "466",
         "0.73"
        ],
        [
         "male",
         "843",
         "843",
         "0.19"
        ]
       ],
       "shape": {
        "columns": 3,
        "rows": 2
       }
      },
      "text/html": [
       "<div>\n",
       "<style scoped>\n",
       "    .dataframe tbody tr th:only-of-type {\n",
       "        vertical-align: middle;\n",
       "    }\n",
       "\n",
       "    .dataframe tbody tr th {\n",
       "        vertical-align: top;\n",
       "    }\n",
       "\n",
       "    .dataframe thead th {\n",
       "        text-align: right;\n",
       "    }\n",
       "</style>\n",
       "<table border=\"1\" class=\"dataframe\">\n",
       "  <thead>\n",
       "    <tr style=\"text-align: right;\">\n",
       "      <th></th>\n",
       "      <th>family_count</th>\n",
       "      <th>gender</th>\n",
       "      <th>survived</th>\n",
       "    </tr>\n",
       "    <tr>\n",
       "      <th>gender</th>\n",
       "      <th></th>\n",
       "      <th></th>\n",
       "      <th></th>\n",
       "    </tr>\n",
       "  </thead>\n",
       "  <tbody>\n",
       "    <tr>\n",
       "      <th>female</th>\n",
       "      <td>466</td>\n",
       "      <td>466</td>\n",
       "      <td>0.73</td>\n",
       "    </tr>\n",
       "    <tr>\n",
       "      <th>male</th>\n",
       "      <td>843</td>\n",
       "      <td>843</td>\n",
       "      <td>0.19</td>\n",
       "    </tr>\n",
       "  </tbody>\n",
       "</table>\n",
       "</div>"
      ],
      "text/plain": [
       "        family_count  gender  survived\n",
       "gender                                \n",
       "female           466     466      0.73\n",
       "male             843     843      0.19"
      ]
     },
     "execution_count": 242,
     "metadata": {},
     "output_type": "execute_result"
    }
   ],
   "source": [
    "df.groupby('gender').agg({'family_count':'count','gender':'count','survived':'mean'}).round(2)"
   ]
  },
  {
   "cell_type": "markdown",
   "id": "b69cbaf6",
   "metadata": {},
   "source": [
    "<h3 style=\"color:orange\">6. Get the pclass wise passengers count,total_fare and survival rate.</h3>"
   ]
  },
  {
   "cell_type": "code",
   "execution_count": 243,
   "id": "5cf886fc",
   "metadata": {},
   "outputs": [
    {
     "data": {
      "application/vnd.microsoft.datawrangler.viewer.v0+json": {
       "columns": [
        {
         "name": "pclass",
         "rawType": "int64",
         "type": "integer"
        },
        {
         "name": "pclass",
         "rawType": "int64",
         "type": "integer"
        },
        {
         "name": "fare",
         "rawType": "float64",
         "type": "float"
        },
        {
         "name": "survived",
         "rawType": "float64",
         "type": "float"
        }
       ],
       "ref": "3e8ca7b9-e3c5-4c8f-822a-58714dbd47be",
       "rows": [
        [
         "1",
         "323",
         "28265.42",
         "0.62"
        ],
        [
         "2",
         "277",
         "5866.65",
         "0.43"
        ],
        [
         "3",
         "709",
         "9433.07",
         "0.26"
        ]
       ],
       "shape": {
        "columns": 3,
        "rows": 3
       }
      },
      "text/html": [
       "<div>\n",
       "<style scoped>\n",
       "    .dataframe tbody tr th:only-of-type {\n",
       "        vertical-align: middle;\n",
       "    }\n",
       "\n",
       "    .dataframe tbody tr th {\n",
       "        vertical-align: top;\n",
       "    }\n",
       "\n",
       "    .dataframe thead th {\n",
       "        text-align: right;\n",
       "    }\n",
       "</style>\n",
       "<table border=\"1\" class=\"dataframe\">\n",
       "  <thead>\n",
       "    <tr style=\"text-align: right;\">\n",
       "      <th></th>\n",
       "      <th>pclass</th>\n",
       "      <th>fare</th>\n",
       "      <th>survived</th>\n",
       "    </tr>\n",
       "    <tr>\n",
       "      <th>pclass</th>\n",
       "      <th></th>\n",
       "      <th></th>\n",
       "      <th></th>\n",
       "    </tr>\n",
       "  </thead>\n",
       "  <tbody>\n",
       "    <tr>\n",
       "      <th>1</th>\n",
       "      <td>323</td>\n",
       "      <td>28265.42</td>\n",
       "      <td>0.62</td>\n",
       "    </tr>\n",
       "    <tr>\n",
       "      <th>2</th>\n",
       "      <td>277</td>\n",
       "      <td>5866.65</td>\n",
       "      <td>0.43</td>\n",
       "    </tr>\n",
       "    <tr>\n",
       "      <th>3</th>\n",
       "      <td>709</td>\n",
       "      <td>9433.07</td>\n",
       "      <td>0.26</td>\n",
       "    </tr>\n",
       "  </tbody>\n",
       "</table>\n",
       "</div>"
      ],
      "text/plain": [
       "        pclass      fare  survived\n",
       "pclass                            \n",
       "1          323  28265.42      0.62\n",
       "2          277   5866.65      0.43\n",
       "3          709   9433.07      0.26"
      ]
     },
     "execution_count": 243,
     "metadata": {},
     "output_type": "execute_result"
    }
   ],
   "source": [
    "df.groupby('pclass').agg({'pclass':'count','fare':'sum','survived':'mean'}).round(2)"
   ]
  },
  {
   "cell_type": "markdown",
   "id": "7efdfe44",
   "metadata": {},
   "source": [
    "<h3 style=\"color:orange\">7. Get the gender wise highest and lowest fare.</h3>"
   ]
  },
  {
   "cell_type": "code",
   "execution_count": 244,
   "id": "38110043",
   "metadata": {},
   "outputs": [
    {
     "data": {
      "application/vnd.microsoft.datawrangler.viewer.v0+json": {
       "columns": [
        {
         "name": "gender",
         "rawType": "object",
         "type": "string"
        },
        {
         "name": "('fare', 'max')",
         "rawType": "float64",
         "type": "float"
        },
        {
         "name": "('fare', 'min')",
         "rawType": "float64",
         "type": "float"
        }
       ],
       "ref": "cdae4180-5cdf-49c3-b5be-d3e41634881a",
       "rows": [
        [
         "female",
         "512.33",
         "6.75"
        ],
        [
         "male",
         "512.33",
         "0.0"
        ]
       ],
       "shape": {
        "columns": 2,
        "rows": 2
       }
      },
      "text/html": [
       "<div>\n",
       "<style scoped>\n",
       "    .dataframe tbody tr th:only-of-type {\n",
       "        vertical-align: middle;\n",
       "    }\n",
       "\n",
       "    .dataframe tbody tr th {\n",
       "        vertical-align: top;\n",
       "    }\n",
       "\n",
       "    .dataframe thead tr th {\n",
       "        text-align: left;\n",
       "    }\n",
       "\n",
       "    .dataframe thead tr:last-of-type th {\n",
       "        text-align: right;\n",
       "    }\n",
       "</style>\n",
       "<table border=\"1\" class=\"dataframe\">\n",
       "  <thead>\n",
       "    <tr>\n",
       "      <th></th>\n",
       "      <th colspan=\"2\" halign=\"left\">fare</th>\n",
       "    </tr>\n",
       "    <tr>\n",
       "      <th></th>\n",
       "      <th>max</th>\n",
       "      <th>min</th>\n",
       "    </tr>\n",
       "    <tr>\n",
       "      <th>gender</th>\n",
       "      <th></th>\n",
       "      <th></th>\n",
       "    </tr>\n",
       "  </thead>\n",
       "  <tbody>\n",
       "    <tr>\n",
       "      <th>female</th>\n",
       "      <td>512.33</td>\n",
       "      <td>6.75</td>\n",
       "    </tr>\n",
       "    <tr>\n",
       "      <th>male</th>\n",
       "      <td>512.33</td>\n",
       "      <td>0.00</td>\n",
       "    </tr>\n",
       "  </tbody>\n",
       "</table>\n",
       "</div>"
      ],
      "text/plain": [
       "          fare      \n",
       "           max   min\n",
       "gender              \n",
       "female  512.33  6.75\n",
       "male    512.33  0.00"
      ]
     },
     "execution_count": 244,
     "metadata": {},
     "output_type": "execute_result"
    }
   ],
   "source": [
    "df.groupby('gender').agg({'fare':['max','min']}).round(2)"
   ]
  },
  {
   "cell_type": "markdown",
   "id": "fe5755e3",
   "metadata": {},
   "source": [
    "<h3 style=\"color:orange\">8. Get the no_of_unique values from ticket column.</h3>"
   ]
  },
  {
   "cell_type": "code",
   "execution_count": 245,
   "id": "fdcea409",
   "metadata": {},
   "outputs": [
    {
     "data": {
      "text/plain": [
       "929"
      ]
     },
     "execution_count": 245,
     "metadata": {},
     "output_type": "execute_result"
    }
   ],
   "source": [
    "df['ticket'].nunique()"
   ]
  },
  {
   "cell_type": "markdown",
   "id": "da58e042",
   "metadata": {},
   "source": [
    "<h3 style=\"color:orange\">9. Get the ticket wise no_of_passenger.</h3>"
   ]
  },
  {
   "cell_type": "code",
   "execution_count": 246,
   "id": "4c49e120",
   "metadata": {},
   "outputs": [
    {
     "data": {
      "application/vnd.microsoft.datawrangler.viewer.v0+json": {
       "columns": [
        {
         "name": "ticket",
         "rawType": "object",
         "type": "string"
        },
        {
         "name": "pclass",
         "rawType": "int64",
         "type": "integer"
        }
       ],
       "ref": "76887960-92f8-4e96-802e-66168d464d84",
       "rows": [
        [
         "110152",
         "3"
        ],
        [
         "110413",
         "3"
        ],
        [
         "110465",
         "2"
        ],
        [
         "110469",
         "1"
        ],
        [
         "110489",
         "1"
        ],
        [
         "110564",
         "1"
        ],
        [
         "110813",
         "2"
        ],
        [
         "111163",
         "1"
        ],
        [
         "111240",
         "1"
        ],
        [
         "111320",
         "1"
        ],
        [
         "111361",
         "2"
        ],
        [
         "111369",
         "1"
        ],
        [
         "111426",
         "1"
        ],
        [
         "111427",
         "1"
        ],
        [
         "111428",
         "1"
        ],
        [
         "112050",
         "1"
        ],
        [
         "112051",
         "1"
        ],
        [
         "112052",
         "1"
        ],
        [
         "112053",
         "1"
        ],
        [
         "112058",
         "2"
        ],
        [
         "112059",
         "1"
        ],
        [
         "112277",
         "1"
        ],
        [
         "112377",
         "1"
        ],
        [
         "112378",
         "2"
        ],
        [
         "112379",
         "1"
        ],
        [
         "112901",
         "1"
        ],
        [
         "113028",
         "1"
        ],
        [
         "113038",
         "1"
        ],
        [
         "113043",
         "1"
        ],
        [
         "113044",
         "1"
        ],
        [
         "113050",
         "1"
        ],
        [
         "113051",
         "1"
        ],
        [
         "113054",
         "1"
        ],
        [
         "113055",
         "1"
        ],
        [
         "113056",
         "1"
        ],
        [
         "113059",
         "2"
        ],
        [
         "113501",
         "1"
        ],
        [
         "113503",
         "5"
        ],
        [
         "113505",
         "2"
        ],
        [
         "113509",
         "2"
        ],
        [
         "113510",
         "1"
        ],
        [
         "113514",
         "1"
        ],
        [
         "113572",
         "2"
        ],
        [
         "113760",
         "4"
        ],
        [
         "113767",
         "1"
        ],
        [
         "113773",
         "2"
        ],
        [
         "113776",
         "2"
        ],
        [
         "113778",
         "1"
        ],
        [
         "113780",
         "1"
        ],
        [
         "113781",
         "6"
        ]
       ],
       "shape": {
        "columns": 1,
        "rows": 929
       }
      },
      "text/html": [
       "<div>\n",
       "<style scoped>\n",
       "    .dataframe tbody tr th:only-of-type {\n",
       "        vertical-align: middle;\n",
       "    }\n",
       "\n",
       "    .dataframe tbody tr th {\n",
       "        vertical-align: top;\n",
       "    }\n",
       "\n",
       "    .dataframe thead th {\n",
       "        text-align: right;\n",
       "    }\n",
       "</style>\n",
       "<table border=\"1\" class=\"dataframe\">\n",
       "  <thead>\n",
       "    <tr style=\"text-align: right;\">\n",
       "      <th></th>\n",
       "      <th>pclass</th>\n",
       "    </tr>\n",
       "    <tr>\n",
       "      <th>ticket</th>\n",
       "      <th></th>\n",
       "    </tr>\n",
       "  </thead>\n",
       "  <tbody>\n",
       "    <tr>\n",
       "      <th>110152</th>\n",
       "      <td>3</td>\n",
       "    </tr>\n",
       "    <tr>\n",
       "      <th>110413</th>\n",
       "      <td>3</td>\n",
       "    </tr>\n",
       "    <tr>\n",
       "      <th>110465</th>\n",
       "      <td>2</td>\n",
       "    </tr>\n",
       "    <tr>\n",
       "      <th>110469</th>\n",
       "      <td>1</td>\n",
       "    </tr>\n",
       "    <tr>\n",
       "      <th>110489</th>\n",
       "      <td>1</td>\n",
       "    </tr>\n",
       "    <tr>\n",
       "      <th>...</th>\n",
       "      <td>...</td>\n",
       "    </tr>\n",
       "    <tr>\n",
       "      <th>W./C. 6608</th>\n",
       "      <td>5</td>\n",
       "    </tr>\n",
       "    <tr>\n",
       "      <th>W./C. 6609</th>\n",
       "      <td>1</td>\n",
       "    </tr>\n",
       "    <tr>\n",
       "      <th>W.E.P. 5734</th>\n",
       "      <td>2</td>\n",
       "    </tr>\n",
       "    <tr>\n",
       "      <th>W/C 14208</th>\n",
       "      <td>1</td>\n",
       "    </tr>\n",
       "    <tr>\n",
       "      <th>WE/P 5735</th>\n",
       "      <td>2</td>\n",
       "    </tr>\n",
       "  </tbody>\n",
       "</table>\n",
       "<p>929 rows × 1 columns</p>\n",
       "</div>"
      ],
      "text/plain": [
       "             pclass\n",
       "ticket             \n",
       "110152            3\n",
       "110413            3\n",
       "110465            2\n",
       "110469            1\n",
       "110489            1\n",
       "...             ...\n",
       "W./C. 6608        5\n",
       "W./C. 6609        1\n",
       "W.E.P. 5734       2\n",
       "W/C 14208         1\n",
       "WE/P 5735         2\n",
       "\n",
       "[929 rows x 1 columns]"
      ]
     },
     "execution_count": 246,
     "metadata": {},
     "output_type": "execute_result"
    }
   ],
   "source": [
    "df.groupby('ticket').size().rename('no_of_passenger')\n",
    "\n",
    "# or\n",
    "\n",
    "df.groupby('ticket').agg({'pclass':'count'})\n"
   ]
  },
  {
   "cell_type": "markdown",
   "id": "e21bc502",
   "metadata": {},
   "source": [
    "<h3 style=\"color:orange\">10. Get the survived and non-survived passenger count.</h3>"
   ]
  },
  {
   "cell_type": "code",
   "execution_count": 247,
   "id": "34c511de",
   "metadata": {},
   "outputs": [
    {
     "data": {
      "application/vnd.microsoft.datawrangler.viewer.v0+json": {
       "columns": [
        {
         "name": "survived",
         "rawType": "int64",
         "type": "integer"
        },
        {
         "name": "survived",
         "rawType": "int64",
         "type": "integer"
        }
       ],
       "ref": "ce31973f-14f3-45fc-9c00-a178256dd9e2",
       "rows": [
        [
         "0",
         "809"
        ],
        [
         "1",
         "500"
        ]
       ],
       "shape": {
        "columns": 1,
        "rows": 2
       }
      },
      "text/html": [
       "<div>\n",
       "<style scoped>\n",
       "    .dataframe tbody tr th:only-of-type {\n",
       "        vertical-align: middle;\n",
       "    }\n",
       "\n",
       "    .dataframe tbody tr th {\n",
       "        vertical-align: top;\n",
       "    }\n",
       "\n",
       "    .dataframe thead th {\n",
       "        text-align: right;\n",
       "    }\n",
       "</style>\n",
       "<table border=\"1\" class=\"dataframe\">\n",
       "  <thead>\n",
       "    <tr style=\"text-align: right;\">\n",
       "      <th></th>\n",
       "      <th>survived</th>\n",
       "    </tr>\n",
       "    <tr>\n",
       "      <th>survived</th>\n",
       "      <th></th>\n",
       "    </tr>\n",
       "  </thead>\n",
       "  <tbody>\n",
       "    <tr>\n",
       "      <th>0</th>\n",
       "      <td>809</td>\n",
       "    </tr>\n",
       "    <tr>\n",
       "      <th>1</th>\n",
       "      <td>500</td>\n",
       "    </tr>\n",
       "  </tbody>\n",
       "</table>\n",
       "</div>"
      ],
      "text/plain": [
       "          survived\n",
       "survived          \n",
       "0              809\n",
       "1              500"
      ]
     },
     "execution_count": 247,
     "metadata": {},
     "output_type": "execute_result"
    }
   ],
   "source": [
    "df.groupby('survived').agg({'survived':'count'})"
   ]
  },
  {
   "cell_type": "markdown",
   "id": "12ebc030",
   "metadata": {},
   "source": [
    "<h3 style=\"color:orange\">11. Get the gender wise survived rate.</h3>"
   ]
  },
  {
   "cell_type": "code",
   "execution_count": 248,
   "id": "9ab98824",
   "metadata": {},
   "outputs": [
    {
     "data": {
      "application/vnd.microsoft.datawrangler.viewer.v0+json": {
       "columns": [
        {
         "name": "gender",
         "rawType": "object",
         "type": "string"
        },
        {
         "name": "survived",
         "rawType": "float64",
         "type": "float"
        }
       ],
       "ref": "5813a9c2-bcb9-41e2-8b82-951ccf217893",
       "rows": [
        [
         "female",
         "0.7274678111587983"
        ],
        [
         "male",
         "0.19098457888493475"
        ]
       ],
       "shape": {
        "columns": 1,
        "rows": 2
       }
      },
      "text/html": [
       "<div>\n",
       "<style scoped>\n",
       "    .dataframe tbody tr th:only-of-type {\n",
       "        vertical-align: middle;\n",
       "    }\n",
       "\n",
       "    .dataframe tbody tr th {\n",
       "        vertical-align: top;\n",
       "    }\n",
       "\n",
       "    .dataframe thead th {\n",
       "        text-align: right;\n",
       "    }\n",
       "</style>\n",
       "<table border=\"1\" class=\"dataframe\">\n",
       "  <thead>\n",
       "    <tr style=\"text-align: right;\">\n",
       "      <th></th>\n",
       "      <th>survived</th>\n",
       "    </tr>\n",
       "    <tr>\n",
       "      <th>gender</th>\n",
       "      <th></th>\n",
       "    </tr>\n",
       "  </thead>\n",
       "  <tbody>\n",
       "    <tr>\n",
       "      <th>female</th>\n",
       "      <td>0.727468</td>\n",
       "    </tr>\n",
       "    <tr>\n",
       "      <th>male</th>\n",
       "      <td>0.190985</td>\n",
       "    </tr>\n",
       "  </tbody>\n",
       "</table>\n",
       "</div>"
      ],
      "text/plain": [
       "        survived\n",
       "gender          \n",
       "female  0.727468\n",
       "male    0.190985"
      ]
     },
     "execution_count": 248,
     "metadata": {},
     "output_type": "execute_result"
    }
   ],
   "source": [
    "df.groupby('gender').agg({'survived':'mean'})"
   ]
  },
  {
   "cell_type": "markdown",
   "id": "fc3965df",
   "metadata": {},
   "source": [
    "<h3 style=\"color:orange\">12. Get the corerelation for the numerical columns.</h3>"
   ]
  },
  {
   "cell_type": "code",
   "execution_count": 249,
   "id": "8148f079",
   "metadata": {},
   "outputs": [
    {
     "data": {
      "application/vnd.microsoft.datawrangler.viewer.v0+json": {
       "columns": [
        {
         "name": "index",
         "rawType": "object",
         "type": "string"
        },
        {
         "name": "age",
         "rawType": "float64",
         "type": "float"
        },
        {
         "name": "family_count",
         "rawType": "float64",
         "type": "float"
        },
        {
         "name": "pclass",
         "rawType": "float64",
         "type": "float"
        },
        {
         "name": "fare",
         "rawType": "float64",
         "type": "float"
        },
        {
         "name": "survived",
         "rawType": "float64",
         "type": "float"
        }
       ],
       "ref": "68b2224b-8d73-466c-a147-a55b9f014fa1",
       "rows": [
        [
         "age",
         "1.0",
         "-0.19",
         "-0.38",
         "0.18",
         "-0.04"
        ],
        [
         "family_count",
         "-0.19",
         "1.0",
         "0.05",
         "0.23",
         "0.03"
        ],
        [
         "pclass",
         "-0.38",
         "0.05",
         "1.0",
         "-0.56",
         "-0.31"
        ],
        [
         "fare",
         "0.18",
         "0.23",
         "-0.56",
         "1.0",
         "0.24"
        ],
        [
         "survived",
         "-0.04",
         "0.03",
         "-0.31",
         "0.24",
         "1.0"
        ]
       ],
       "shape": {
        "columns": 5,
        "rows": 5
       }
      },
      "text/html": [
       "<div>\n",
       "<style scoped>\n",
       "    .dataframe tbody tr th:only-of-type {\n",
       "        vertical-align: middle;\n",
       "    }\n",
       "\n",
       "    .dataframe tbody tr th {\n",
       "        vertical-align: top;\n",
       "    }\n",
       "\n",
       "    .dataframe thead th {\n",
       "        text-align: right;\n",
       "    }\n",
       "</style>\n",
       "<table border=\"1\" class=\"dataframe\">\n",
       "  <thead>\n",
       "    <tr style=\"text-align: right;\">\n",
       "      <th></th>\n",
       "      <th>age</th>\n",
       "      <th>family_count</th>\n",
       "      <th>pclass</th>\n",
       "      <th>fare</th>\n",
       "      <th>survived</th>\n",
       "    </tr>\n",
       "  </thead>\n",
       "  <tbody>\n",
       "    <tr>\n",
       "      <th>age</th>\n",
       "      <td>1.00</td>\n",
       "      <td>-0.19</td>\n",
       "      <td>-0.38</td>\n",
       "      <td>0.18</td>\n",
       "      <td>-0.04</td>\n",
       "    </tr>\n",
       "    <tr>\n",
       "      <th>family_count</th>\n",
       "      <td>-0.19</td>\n",
       "      <td>1.00</td>\n",
       "      <td>0.05</td>\n",
       "      <td>0.23</td>\n",
       "      <td>0.03</td>\n",
       "    </tr>\n",
       "    <tr>\n",
       "      <th>pclass</th>\n",
       "      <td>-0.38</td>\n",
       "      <td>0.05</td>\n",
       "      <td>1.00</td>\n",
       "      <td>-0.56</td>\n",
       "      <td>-0.31</td>\n",
       "    </tr>\n",
       "    <tr>\n",
       "      <th>fare</th>\n",
       "      <td>0.18</td>\n",
       "      <td>0.23</td>\n",
       "      <td>-0.56</td>\n",
       "      <td>1.00</td>\n",
       "      <td>0.24</td>\n",
       "    </tr>\n",
       "    <tr>\n",
       "      <th>survived</th>\n",
       "      <td>-0.04</td>\n",
       "      <td>0.03</td>\n",
       "      <td>-0.31</td>\n",
       "      <td>0.24</td>\n",
       "      <td>1.00</td>\n",
       "    </tr>\n",
       "  </tbody>\n",
       "</table>\n",
       "</div>"
      ],
      "text/plain": [
       "               age  family_count  pclass  fare  survived\n",
       "age           1.00         -0.19   -0.38  0.18     -0.04\n",
       "family_count -0.19          1.00    0.05  0.23      0.03\n",
       "pclass       -0.38          0.05    1.00 -0.56     -0.31\n",
       "fare          0.18          0.23   -0.56  1.00      0.24\n",
       "survived     -0.04          0.03   -0.31  0.24      1.00"
      ]
     },
     "execution_count": 249,
     "metadata": {},
     "output_type": "execute_result"
    }
   ],
   "source": [
    "df.corr(numeric_only=True).round(2)"
   ]
  },
  {
   "cell_type": "markdown",
   "id": "00ca1f5d",
   "metadata": {},
   "source": [
    "<h3 style=\"color:orange\">13. Get the pclass which has highest survival rate.</h3>"
   ]
  },
  {
   "cell_type": "code",
   "execution_count": 250,
   "id": "cb4d3c23",
   "metadata": {},
   "outputs": [
    {
     "data": {
      "application/vnd.microsoft.datawrangler.viewer.v0+json": {
       "columns": [
        {
         "name": "index",
         "rawType": "object",
         "type": "string"
        },
        {
         "name": "0",
         "rawType": "int64",
         "type": "integer"
        }
       ],
       "ref": "194aceca-9ebe-46cf-b796-df4a837891c4",
       "rows": [
        [
         "survived",
         "1"
        ]
       ],
       "shape": {
        "columns": 1,
        "rows": 1
       }
      },
      "text/plain": [
       "survived    1\n",
       "dtype: int64"
      ]
     },
     "execution_count": 250,
     "metadata": {},
     "output_type": "execute_result"
    }
   ],
   "source": [
    "df.groupby('pclass')['survived'].mean().idxmax()\n",
    "\n",
    "# or\n",
    "\n",
    "df.groupby('pclass').agg({'survived':'mean'}).idxmax()"
   ]
  },
  {
   "cell_type": "markdown",
   "id": "7c3cf3ca",
   "metadata": {},
   "source": [
    "<h1 style=\"color:Red\">PLOTS QUESTIONS :</h1>"
   ]
  },
  {
   "cell_type": "markdown",
   "id": "61512967",
   "metadata": {},
   "source": [
    "<h3 style=\"color:orange\">1. Plot the total_count of male and female.</h3>"
   ]
  },
  {
   "cell_type": "code",
   "execution_count": 251,
   "id": "c974c175",
   "metadata": {},
   "outputs": [
    {
     "data": {
      "image/png": "[encoded data removed]",
      "text/plain": [
       "<Figure size 400x400 with 1 Axes>"
      ]
     },
     "metadata": {},
     "output_type": "display_data"
    }
   ],
   "source": [
    "plt.figure(figsize=(4,4))\n",
    "sns.countplot(data=df,x='gender')\n",
    "plt.title('total_count of male and female')\n",
    "plt.show()"
   ]
  },
  {
   "cell_type": "markdown",
   "id": "df827be3",
   "metadata": {},
   "source": [
    "<h3 style='color:Skyblue'>Observation: <ul>\n",
    "<li>Male is more than Female in counts. </li>\n",
    "</ul></h3>"
   ]
  },
  {
   "cell_type": "markdown",
   "id": "f9c1cb33",
   "metadata": {},
   "source": [
    "<h3 style=\"color:orange\">2. Plot the total_count of male and female in each passenger class.</h3>"
   ]
  },
  {
   "cell_type": "code",
   "execution_count": 252,
   "id": "9650c6dd",
   "metadata": {},
   "outputs": [
    {
     "data": {
      "image/png": "[encoded data removed]",
      "text/plain": [
       "<Figure size 400x400 with 1 Axes>"
      ]
     },
     "metadata": {},
     "output_type": "display_data"
    }
   ],
   "source": [
    "plt.figure(figsize=(4,4))\n",
    "sns.countplot(data=df,x='pclass',hue='gender')\n",
    "plt.title('total_count of male and female in each passenger class')\n",
    "plt.show()"
   ]
  },
  {
   "cell_type": "markdown",
   "id": "fd793ce1",
   "metadata": {},
   "source": [
    "<h3 style='color:Skyblue'>Observation: <ul>\n",
    "<li>3rd class has more males than female and in 2nd and 1st class males are slightly more than females. </li>\n",
    "</ul></h3>"
   ]
  },
  {
   "cell_type": "markdown",
   "id": "0ac18255",
   "metadata": {},
   "source": [
    "<h3 style=\"color:orange\">3. Plot the survived and non-survived count of gender.</h3>"
   ]
  },
  {
   "cell_type": "code",
   "execution_count": 253,
   "id": "361ea0e8",
   "metadata": {},
   "outputs": [
    {
     "data": {
      "image/png": "[encoded data removed]",
      "text/plain": [
       "<Figure size 400x400 with 1 Axes>"
      ]
     },
     "metadata": {},
     "output_type": "display_data"
    }
   ],
   "source": [
    "plt.figure(figsize=(4,4))\n",
    "sns.countplot(data=df,x='gender',hue='survived')\n",
    "plt.title('survived and non-survived count of gender')\n",
    "plt.show()"
   ]
  },
  {
   "cell_type": "markdown",
   "id": "60311f70",
   "metadata": {},
   "source": [
    "<h3 style='color:Skyblue'>Observation: <ul>\n",
    "<li>Survival count of male is more than female. </li>\n",
    "</ul></h3>"
   ]
  },
  {
   "cell_type": "markdown",
   "id": "8f1b4014",
   "metadata": {},
   "source": [
    "<h3 style=\"color:orange\">4. Plot the distribution of fare.</h3>"
   ]
  },
  {
   "cell_type": "code",
   "execution_count": 254,
   "id": "6a143527",
   "metadata": {},
   "outputs": [
    {
     "data": {
      "image/png": "[encoded data removed]",
      "text/plain": [
       "<Figure size 400x400 with 1 Axes>"
      ]
     },
     "metadata": {},
     "output_type": "display_data"
    }
   ],
   "source": [
    "plt.figure(figsize=(4,4))\n",
    "sns.kdeplot(data=df,x='fare')\n",
    "plt.title('distribution of fare')\n",
    "plt.show()"
   ]
  },
  {
   "cell_type": "code",
   "execution_count": 255,
   "id": "d3765171",
   "metadata": {},
   "outputs": [
    {
     "data": {
      "image/png": "[encoded data removed]",
      "text/plain": [
       "<Figure size 800x400 with 1 Axes>"
      ]
     },
     "metadata": {},
     "output_type": "display_data"
    }
   ],
   "source": [
    "plt.figure(figsize=(8,4))\n",
    "sns.histplot(data=df,x='fare')\n",
    "plt.grid()\n",
    "plt.xticks(range(0,200,20))\n",
    "plt.title('distribution of fare')\n",
    "plt.show()"
   ]
  },
  {
   "cell_type": "markdown",
   "id": "7635a8bb",
   "metadata": {},
   "source": [
    "<h3 style='color:Skyblue'>Observation: <ul>\n",
    "<li>More data points are present in 0 to 40. </li>\n",
    "</ul></h3>"
   ]
  },
  {
   "cell_type": "markdown",
   "id": "38a19ed1",
   "metadata": {},
   "source": [
    "<h3 style=\"color:orange\">5. Plot the distribution of age.</h3>"
   ]
  },
  {
   "cell_type": "code",
   "execution_count": 256,
   "id": "32886109",
   "metadata": {},
   "outputs": [
    {
     "data": {
      "image/png": "[encoded data removed]",
      "text/plain": [
       "<Figure size 400x400 with 1 Axes>"
      ]
     },
     "metadata": {},
     "output_type": "display_data"
    }
   ],
   "source": [
    "plt.figure(figsize=(4,4))\n",
    "sns.kdeplot(data=df,x='age')\n",
    "plt.title('distribution of age')\n",
    "plt.show()"
   ]
  },
  {
   "cell_type": "code",
   "execution_count": 257,
   "id": "f469c755",
   "metadata": {},
   "outputs": [
    {
     "data": {
      "image/png": "[encoded data removed]",
      "text/plain": [
       "<Figure size 600x400 with 1 Axes>"
      ]
     },
     "metadata": {},
     "output_type": "display_data"
    }
   ],
   "source": [
    "plt.figure(figsize=(6,4))\n",
    "sns.histplot(data=df,x='age')\n",
    "plt.grid()\n",
    "plt.xticks(range(0,75,5))\n",
    "plt.title('distribution of age')\n",
    "plt.show()"
   ]
  },
  {
   "cell_type": "markdown",
   "id": "35abe295",
   "metadata": {},
   "source": [
    "<h3 style='color:Skyblue'>Observation: <ul>\n",
    "<li>More data points are present in 20 to 40. </li>\n",
    "</ul></h3>"
   ]
  },
  {
   "cell_type": "markdown",
   "id": "f4224f7f",
   "metadata": {},
   "source": [
    "<h3 style=\"color:orange\">6. Plot the Percentage of age_category.</h3>"
   ]
  },
  {
   "cell_type": "code",
   "execution_count": 258,
   "id": "4a35659b",
   "metadata": {},
   "outputs": [
    {
     "name": "stdout",
     "output_type": "stream",
     "text": [
      "CategoricalIndex(['adult', 'teen', 'child', 'senior'], categories=['child', 'teen', 'adult', 'senior'], ordered=True, dtype='category', name='age_category') [1057   99   94   59]\n"
     ]
    }
   ],
   "source": [
    "df['age_category'].value_counts()\n",
    "idx=df['age_category'].value_counts().index\n",
    "val=df['age_category'].value_counts().values\n",
    "print(idx,val)"
   ]
  },
  {
   "cell_type": "code",
   "execution_count": 259,
   "id": "8c0de008",
   "metadata": {},
   "outputs": [
    {
     "data": {
      "image/png": "[encoded data removed]",
      "text/plain": [
       "<Figure size 600x400 with 1 Axes>"
      ]
     },
     "metadata": {},
     "output_type": "display_data"
    }
   ],
   "source": [
    "plt.figure(figsize=(6,4))\n",
    "plt.pie(data=df,x=val,labels=idx,autopct='%.1f%%')\n",
    "plt.title('Percentage of age_category')\n",
    "plt.show()"
   ]
  },
  {
   "cell_type": "markdown",
   "id": "518be3b2",
   "metadata": {},
   "source": [
    "<h3 style='color:Skyblue'>Observation: <ul>\n",
    "<li>Adults are more than seniors,child,and teen. </li>\n",
    "</ul></h3>"
   ]
  },
  {
   "cell_type": "markdown",
   "id": "6a8ce99c",
   "metadata": {},
   "source": [
    "<h3 style=\"color:orange\">7. Plot the total_fare of each pclass,gender.</h3>"
   ]
  },
  {
   "cell_type": "code",
   "execution_count": 260,
   "id": "bf1d223b",
   "metadata": {},
   "outputs": [
    {
     "data": {
      "image/png": "[encoded data removed]",
      "text/plain": [
       "<Figure size 400x400 with 1 Axes>"
      ]
     },
     "metadata": {},
     "output_type": "display_data"
    }
   ],
   "source": [
    "plt.figure(figsize=(4,4))\n",
    "sns.barplot(data=df,x='pclass',y='fare',hue='gender',estimator='sum')\n",
    "plt.title('total_fare of each pclass and gender')\n",
    "plt.show()"
   ]
  },
  {
   "cell_type": "markdown",
   "id": "e453d52b",
   "metadata": {},
   "source": [
    "<h3 style='color:Skyblue'>Observation: <ul>\n",
    "<li>class 1 has mare fare in total than class 2 and 3. </li>\n",
    "</ul></h3>"
   ]
  },
  {
   "cell_type": "markdown",
   "id": "496b30f4",
   "metadata": {},
   "source": [
    "<h3 style=\"color:orange\">8. Plot the average_fare of each pclass.</h3>"
   ]
  },
  {
   "cell_type": "code",
   "execution_count": 261,
   "id": "66a9645d",
   "metadata": {},
   "outputs": [
    {
     "data": {
      "image/png": "[encoded data removed]",
      "text/plain": [
       "<Figure size 600x400 with 1 Axes>"
      ]
     },
     "metadata": {},
     "output_type": "display_data"
    }
   ],
   "source": [
    "plt.figure(figsize=(6,4))\n",
    "sns.barplot(data=df,x='pclass',y='fare',estimator='mean')\n",
    "plt.title('average_fare of each pclass')\n",
    "plt.show()"
   ]
  },
  {
   "cell_type": "markdown",
   "id": "33fba391",
   "metadata": {},
   "source": [
    "<h3 style='color:Skyblue'>Observation: <ul>\n",
    "<li>The average fare decreases from first to third class, with first class having the highest average fare. </li>\n",
    "</ul></h3>"
   ]
  },
  {
   "cell_type": "markdown",
   "id": "a4c670f8",
   "metadata": {},
   "source": [
    "<h3 style=\"color:orange\">9. Plot the survival_rate in each pclass.</h3>"
   ]
  },
  {
   "cell_type": "code",
   "execution_count": 262,
   "id": "1a9a6ba7",
   "metadata": {},
   "outputs": [
    {
     "data": {
      "image/png": "[encoded data removed]",
      "text/plain": [
       "<Figure size 600x400 with 1 Axes>"
      ]
     },
     "metadata": {},
     "output_type": "display_data"
    }
   ],
   "source": [
    "plt.figure(figsize=(6,4))\n",
    "sns.barplot(data=df,x='pclass',y='survived',estimator='mean')\n",
    "plt.title('survival_rate in each pclass')\n",
    "plt.show()"
   ]
  },
  {
   "cell_type": "markdown",
   "id": "cd9bf601",
   "metadata": {},
   "source": [
    "<h3 style='color:Skyblue'>Observation: <ul>\n",
    "<li>The survival rate is highest in first class and lowest in third class. </li>\n",
    "</ul></h3>"
   ]
  },
  {
   "cell_type": "markdown",
   "id": "6c2fb632",
   "metadata": {},
   "source": [
    "<h3 style=\"color:orange\">10. Apply scatterplot for fare and age.</h3>"
   ]
  },
  {
   "cell_type": "code",
   "execution_count": 263,
   "id": "1af6d117",
   "metadata": {},
   "outputs": [
    {
     "data": {
      "image/png": "[encoded data removed]",
      "text/plain": [
       "<Figure size 400x400 with 1 Axes>"
      ]
     },
     "metadata": {},
     "output_type": "display_data"
    }
   ],
   "source": [
    "plt.figure(figsize=(4,4))\n",
    "sns.scatterplot(df,x='age',y='fare')\n",
    "plt.title('')\n",
    "plt.show()"
   ]
  },
  {
   "cell_type": "markdown",
   "id": "024c764a",
   "metadata": {},
   "source": [
    "<h3 style='color:Skyblue'>Observation: <ul>\n",
    "<li>There is no strong correlation between age and fare; high fares are paid across various ages. </li>\n",
    "</ul></h3>"
   ]
  },
  {
   "cell_type": "markdown",
   "id": "a9c5a9d0",
   "metadata": {},
   "source": [
    "<h3 style=\"color:orange\">11. Detect the outliers in (i)age (ii)fare.</h3>"
   ]
  },
  {
   "cell_type": "code",
   "execution_count": 264,
   "id": "1fa36f7b",
   "metadata": {},
   "outputs": [
    {
     "data": {
      "image/png": "[encoded data removed]",
      "text/plain": [
       "<Figure size 600x400 with 1 Axes>"
      ]
     },
     "metadata": {},
     "output_type": "display_data"
    }
   ],
   "source": [
    "plt.figure(figsize=(6,4))\n",
    "sns.boxplot(df,y='age')\n",
    "plt.title('outliers in (i) age')\n",
    "plt.show()"
   ]
  },
  {
   "cell_type": "code",
   "execution_count": 265,
   "id": "e4302a40",
   "metadata": {},
   "outputs": [
    {
     "data": {
      "image/png": "[encoded data removed]",
      "text/plain": [
       "<Figure size 600x400 with 1 Axes>"
      ]
     },
     "metadata": {},
     "output_type": "display_data"
    }
   ],
   "source": [
    "plt.figure(figsize=(6,4))\n",
    "sns.boxplot(df,y='fare')\n",
    "plt.title('outliers in (ii) fare')\n",
    "plt.show()"
   ]
  },
  {
   "cell_type": "markdown",
   "id": "e59b63fd",
   "metadata": {},
   "source": [
    "<h3 style='color:Skyblue'>Observation: <ul>\n",
    "<li>Both age and fare have outliers, with fare showing several extreme high values. </li>\n",
    "</ul></h3>"
   ]
  },
  {
   "cell_type": "markdown",
   "id": "249a3e20",
   "metadata": {},
   "source": [
    "<h3 style=\"color:orange\">12. Provide Heatmap for numerical columns.</h3>"
   ]
  },
  {
   "cell_type": "code",
   "execution_count": 266,
   "id": "d686f76e",
   "metadata": {},
   "outputs": [
    {
     "data": {
      "image/png": "[encoded data removed]",
      "text/plain": [
       "<Figure size 600x400 with 2 Axes>"
      ]
     },
     "metadata": {},
     "output_type": "display_data"
    }
   ],
   "source": [
    "plt.figure(figsize=(6,4))\n",
    "c=df.corr(numeric_only=True)\n",
    "sns.heatmap(c,annot=True)\n",
    "plt.title('Heatmap for numerical columns')\n",
    "plt.show()"
   ]
  },
  {
   "cell_type": "markdown",
   "id": "6de05d35",
   "metadata": {},
   "source": [
    "<h3 style='color:Skyblue'>Observation: <ul>\n",
    "<li>Fare and pclass are negatively correlated; survival is positively correlated with fare and negatively with pclass. </li>\n",
    "</ul></h3>"
   ]
  },
  {
   "cell_type": "markdown",
   "id": "073bf075",
   "metadata": {},
   "source": [
    "<h1 style=\"color:Red\">PANDAS QUESTIONS :</h1>"
   ]
  },
  {
   "cell_type": "markdown",
   "id": "8273d369",
   "metadata": {},
   "source": [
    "<h3 style=\"color:orange\">1. Create a dataframe called product (id,pname,price) which includes 3 products.</h3>"
   ]
  },
  {
   "cell_type": "markdown",
   "id": "4f072b63",
   "metadata": {},
   "source": [
    "table ---> df  \n",
    "cols  ---> keys  "
   ]
  },
  {
   "cell_type": "code",
   "execution_count": 267,
   "id": "321c21d1",
   "metadata": {},
   "outputs": [
    {
     "data": {
      "application/vnd.microsoft.datawrangler.viewer.v0+json": {
       "columns": [
        {
         "name": "index",
         "rawType": "int64",
         "type": "integer"
        },
        {
         "name": "id",
         "rawType": "object",
         "type": "string"
        },
        {
         "name": "name",
         "rawType": "object",
         "type": "string"
        },
        {
         "name": "price",
         "rawType": "int64",
         "type": "integer"
        }
       ],
       "ref": "7930ae39-a649-4c2a-802d-d86938237a25",
       "rows": [
        [
         "0",
         "p1",
         "pen",
         "10"
        ],
        [
         "1",
         "p2",
         "book",
         "50"
        ],
        [
         "2",
         "p3",
         "charts",
         "5"
        ],
        [
         "3",
         "p4",
         "markers",
         "30"
        ],
        [
         "4",
         "p5",
         "white board",
         "800"
        ]
       ],
       "shape": {
        "columns": 3,
        "rows": 5
       }
      },
      "text/html": [
       "<div>\n",
       "<style scoped>\n",
       "    .dataframe tbody tr th:only-of-type {\n",
       "        vertical-align: middle;\n",
       "    }\n",
       "\n",
       "    .dataframe tbody tr th {\n",
       "        vertical-align: top;\n",
       "    }\n",
       "\n",
       "    .dataframe thead th {\n",
       "        text-align: right;\n",
       "    }\n",
       "</style>\n",
       "<table border=\"1\" class=\"dataframe\">\n",
       "  <thead>\n",
       "    <tr style=\"text-align: right;\">\n",
       "      <th></th>\n",
       "      <th>id</th>\n",
       "      <th>name</th>\n",
       "      <th>price</th>\n",
       "    </tr>\n",
       "  </thead>\n",
       "  <tbody>\n",
       "    <tr>\n",
       "      <th>0</th>\n",
       "      <td>p1</td>\n",
       "      <td>pen</td>\n",
       "      <td>10</td>\n",
       "    </tr>\n",
       "    <tr>\n",
       "      <th>1</th>\n",
       "      <td>p2</td>\n",
       "      <td>book</td>\n",
       "      <td>50</td>\n",
       "    </tr>\n",
       "    <tr>\n",
       "      <th>2</th>\n",
       "      <td>p3</td>\n",
       "      <td>charts</td>\n",
       "      <td>5</td>\n",
       "    </tr>\n",
       "    <tr>\n",
       "      <th>3</th>\n",
       "      <td>p4</td>\n",
       "      <td>markers</td>\n",
       "      <td>30</td>\n",
       "    </tr>\n",
       "    <tr>\n",
       "      <th>4</th>\n",
       "      <td>p5</td>\n",
       "      <td>white board</td>\n",
       "      <td>800</td>\n",
       "    </tr>\n",
       "  </tbody>\n",
       "</table>\n",
       "</div>"
      ],
      "text/plain": [
       "   id         name  price\n",
       "0  p1          pen     10\n",
       "1  p2         book     50\n",
       "2  p3       charts      5\n",
       "3  p4      markers     30\n",
       "4  p5  white board    800"
      ]
     },
     "execution_count": 267,
     "metadata": {},
     "output_type": "execute_result"
    }
   ],
   "source": [
    "d={'id':['p1','p2','p3','p4','p5'],'name':['pen','book','charts','markers','white board'],'price':[10,50,5,30,800]}\n",
    "product_df=pd.DataFrame(data=d)\n",
    "product_df"
   ]
  },
  {
   "cell_type": "markdown",
   "id": "e9b937e9",
   "metadata": {},
   "source": [
    "<h3 style=\"color:orange\">2. Create a jan_sales and feb_Sales(id,sold) which includes 3 sales.</h3>"
   ]
  },
  {
   "cell_type": "code",
   "execution_count": 268,
   "id": "3d5475ac",
   "metadata": {},
   "outputs": [
    {
     "name": "stdout",
     "output_type": "stream",
     "text": [
      "   id  sold\n",
      "0  p1    20\n",
      "1  p3    10\n",
      "2  p2    30\n",
      "\n",
      "   id  sold\n",
      "0  p4   100\n",
      "1  p2     5\n",
      "2  p1    70\n",
      "3  p3     1\n"
     ]
    }
   ],
   "source": [
    "d={'id':['p1','p3','p2'],'sold':[20,10,30]}\n",
    "jan_Sales_df = pd.DataFrame(d)\n",
    "\n",
    "d={'id':['p4','p2','p1','p3'],'sold':[100,5,70,1]}\n",
    "feb_Sales_df = pd.DataFrame(d)\n",
    "\n",
    "print(jan_Sales_df)\n",
    "print()\n",
    "print(feb_Sales_df)"
   ]
  },
  {
   "cell_type": "code",
   "execution_count": 269,
   "id": "cc5ee451",
   "metadata": {},
   "outputs": [
    {
     "name": "stdout",
     "output_type": "stream",
     "text": [
      "   id  sold\n",
      "0  p1    20\n",
      "1  p3    10\n",
      "2  p2    30\n",
      "\n",
      "   id  sold\n",
      "0  p4   100\n",
      "1  p2     5\n",
      "2  p1    70\n",
      "3  p3     1\n"
     ]
    }
   ],
   "source": [
    "\n",
    "print(jan_Sales_df)\n",
    "print()\n",
    "print(feb_Sales_df)"
   ]
  },
  {
   "cell_type": "markdown",
   "id": "41a02fa5",
   "metadata": {},
   "source": [
    "<h3 style=\"color:orange\">3. concat  jan_sales and feb_Sales as sales_df.</h3>"
   ]
  },
  {
   "cell_type": "code",
   "execution_count": 270,
   "id": "10f9affc",
   "metadata": {},
   "outputs": [
    {
     "data": {
      "application/vnd.microsoft.datawrangler.viewer.v0+json": {
       "columns": [
        {
         "name": "index",
         "rawType": "int64",
         "type": "integer"
        },
        {
         "name": "id",
         "rawType": "object",
         "type": "string"
        },
        {
         "name": "sold",
         "rawType": "int64",
         "type": "integer"
        }
       ],
       "ref": "bfd62570-a63d-4c97-b6b9-ebcc54defb33",
       "rows": [
        [
         "0",
         "p1",
         "20"
        ],
        [
         "1",
         "p3",
         "10"
        ],
        [
         "2",
         "p2",
         "30"
        ],
        [
         "3",
         "p4",
         "100"
        ],
        [
         "4",
         "p2",
         "5"
        ],
        [
         "5",
         "p1",
         "70"
        ],
        [
         "6",
         "p3",
         "1"
        ]
       ],
       "shape": {
        "columns": 2,
        "rows": 7
       }
      },
      "text/html": [
       "<div>\n",
       "<style scoped>\n",
       "    .dataframe tbody tr th:only-of-type {\n",
       "        vertical-align: middle;\n",
       "    }\n",
       "\n",
       "    .dataframe tbody tr th {\n",
       "        vertical-align: top;\n",
       "    }\n",
       "\n",
       "    .dataframe thead th {\n",
       "        text-align: right;\n",
       "    }\n",
       "</style>\n",
       "<table border=\"1\" class=\"dataframe\">\n",
       "  <thead>\n",
       "    <tr style=\"text-align: right;\">\n",
       "      <th></th>\n",
       "      <th>id</th>\n",
       "      <th>sold</th>\n",
       "    </tr>\n",
       "  </thead>\n",
       "  <tbody>\n",
       "    <tr>\n",
       "      <th>0</th>\n",
       "      <td>p1</td>\n",
       "      <td>20</td>\n",
       "    </tr>\n",
       "    <tr>\n",
       "      <th>1</th>\n",
       "      <td>p3</td>\n",
       "      <td>10</td>\n",
       "    </tr>\n",
       "    <tr>\n",
       "      <th>2</th>\n",
       "      <td>p2</td>\n",
       "      <td>30</td>\n",
       "    </tr>\n",
       "    <tr>\n",
       "      <th>3</th>\n",
       "      <td>p4</td>\n",
       "      <td>100</td>\n",
       "    </tr>\n",
       "    <tr>\n",
       "      <th>4</th>\n",
       "      <td>p2</td>\n",
       "      <td>5</td>\n",
       "    </tr>\n",
       "    <tr>\n",
       "      <th>5</th>\n",
       "      <td>p1</td>\n",
       "      <td>70</td>\n",
       "    </tr>\n",
       "    <tr>\n",
       "      <th>6</th>\n",
       "      <td>p3</td>\n",
       "      <td>1</td>\n",
       "    </tr>\n",
       "  </tbody>\n",
       "</table>\n",
       "</div>"
      ],
      "text/plain": [
       "   id  sold\n",
       "0  p1    20\n",
       "1  p3    10\n",
       "2  p2    30\n",
       "3  p4   100\n",
       "4  p2     5\n",
       "5  p1    70\n",
       "6  p3     1"
      ]
     },
     "execution_count": 270,
     "metadata": {},
     "output_type": "execute_result"
    }
   ],
   "source": [
    "sales_df= pd.concat([jan_Sales_df,feb_Sales_df],ignore_index=True)  #axis=0\n",
    "\n",
    "sales_df"
   ]
  },
  {
   "cell_type": "markdown",
   "id": "9c8e7012",
   "metadata": {},
   "source": [
    "<h3 style=\"color:orange\">4. Create a series of loc and concat with sales_df.</h3>"
   ]
  },
  {
   "cell_type": "code",
   "execution_count": 271,
   "id": "3591e15c",
   "metadata": {},
   "outputs": [
    {
     "data": {
      "application/vnd.microsoft.datawrangler.viewer.v0+json": {
       "columns": [
        {
         "name": "index",
         "rawType": "int64",
         "type": "integer"
        },
        {
         "name": "id",
         "rawType": "object",
         "type": "string"
        },
        {
         "name": "sold",
         "rawType": "int64",
         "type": "integer"
        },
        {
         "name": "location",
         "rawType": "object",
         "type": "unknown"
        }
       ],
       "ref": "23043fc4-792f-4edf-9f3f-f78de0ddb5a6",
       "rows": [
        [
         "0",
         "p1",
         "20",
         "bengulure"
        ],
        [
         "1",
         "p3",
         "10",
         "mysure"
        ],
        [
         "2",
         "p2",
         "30",
         "chennai"
        ],
        [
         "3",
         "p4",
         "100",
         "mysure"
        ],
        [
         "4",
         "p2",
         "5",
         "mumbai"
        ],
        [
         "5",
         "p1",
         "70",
         null
        ],
        [
         "6",
         "p3",
         "1",
         null
        ]
       ],
       "shape": {
        "columns": 3,
        "rows": 7
       }
      },
      "text/html": [
       "<div>\n",
       "<style scoped>\n",
       "    .dataframe tbody tr th:only-of-type {\n",
       "        vertical-align: middle;\n",
       "    }\n",
       "\n",
       "    .dataframe tbody tr th {\n",
       "        vertical-align: top;\n",
       "    }\n",
       "\n",
       "    .dataframe thead th {\n",
       "        text-align: right;\n",
       "    }\n",
       "</style>\n",
       "<table border=\"1\" class=\"dataframe\">\n",
       "  <thead>\n",
       "    <tr style=\"text-align: right;\">\n",
       "      <th></th>\n",
       "      <th>id</th>\n",
       "      <th>sold</th>\n",
       "      <th>location</th>\n",
       "    </tr>\n",
       "  </thead>\n",
       "  <tbody>\n",
       "    <tr>\n",
       "      <th>0</th>\n",
       "      <td>p1</td>\n",
       "      <td>20</td>\n",
       "      <td>bengulure</td>\n",
       "    </tr>\n",
       "    <tr>\n",
       "      <th>1</th>\n",
       "      <td>p3</td>\n",
       "      <td>10</td>\n",
       "      <td>mysure</td>\n",
       "    </tr>\n",
       "    <tr>\n",
       "      <th>2</th>\n",
       "      <td>p2</td>\n",
       "      <td>30</td>\n",
       "      <td>chennai</td>\n",
       "    </tr>\n",
       "    <tr>\n",
       "      <th>3</th>\n",
       "      <td>p4</td>\n",
       "      <td>100</td>\n",
       "      <td>mysure</td>\n",
       "    </tr>\n",
       "    <tr>\n",
       "      <th>4</th>\n",
       "      <td>p2</td>\n",
       "      <td>5</td>\n",
       "      <td>mumbai</td>\n",
       "    </tr>\n",
       "    <tr>\n",
       "      <th>5</th>\n",
       "      <td>p1</td>\n",
       "      <td>70</td>\n",
       "      <td>NaN</td>\n",
       "    </tr>\n",
       "    <tr>\n",
       "      <th>6</th>\n",
       "      <td>p3</td>\n",
       "      <td>1</td>\n",
       "      <td>NaN</td>\n",
       "    </tr>\n",
       "  </tbody>\n",
       "</table>\n",
       "</div>"
      ],
      "text/plain": [
       "   id  sold   location\n",
       "0  p1    20  bengulure\n",
       "1  p3    10     mysure\n",
       "2  p2    30    chennai\n",
       "3  p4   100     mysure\n",
       "4  p2     5     mumbai\n",
       "5  p1    70        NaN\n",
       "6  p3     1        NaN"
      ]
     },
     "execution_count": 271,
     "metadata": {},
     "output_type": "execute_result"
    }
   ],
   "source": [
    "loc = pd.Series(['bengulure','mysure','chennai','mysure','mumbai'],name='location')\n",
    "loc\n",
    "sales_df =pd.concat([sales_df,loc],axis=1)\n",
    "sales_df"
   ]
  },
  {
   "cell_type": "markdown",
   "id": "e205c68b",
   "metadata": {},
   "source": [
    "<h3 style=\"color:orange\">5. Merge the product and sales.</h3>"
   ]
  },
  {
   "cell_type": "code",
   "execution_count": 272,
   "id": "52e65086",
   "metadata": {},
   "outputs": [
    {
     "data": {
      "application/vnd.microsoft.datawrangler.viewer.v0+json": {
       "columns": [
        {
         "name": "index",
         "rawType": "int64",
         "type": "integer"
        },
        {
         "name": "id",
         "rawType": "object",
         "type": "string"
        },
        {
         "name": "sold",
         "rawType": "int64",
         "type": "integer"
        },
        {
         "name": "location",
         "rawType": "object",
         "type": "unknown"
        },
        {
         "name": "name",
         "rawType": "object",
         "type": "string"
        },
        {
         "name": "price",
         "rawType": "int64",
         "type": "integer"
        }
       ],
       "ref": "5532df73-c7d4-40c4-bc7e-0f2ca3e8af91",
       "rows": [
        [
         "0",
         "p1",
         "20",
         "bengulure",
         "pen",
         "10"
        ],
        [
         "1",
         "p3",
         "10",
         "mysure",
         "charts",
         "5"
        ],
        [
         "2",
         "p2",
         "30",
         "chennai",
         "book",
         "50"
        ],
        [
         "3",
         "p4",
         "100",
         "mysure",
         "markers",
         "30"
        ],
        [
         "4",
         "p2",
         "5",
         "mumbai",
         "book",
         "50"
        ],
        [
         "5",
         "p1",
         "70",
         null,
         "pen",
         "10"
        ],
        [
         "6",
         "p3",
         "1",
         null,
         "charts",
         "5"
        ]
       ],
       "shape": {
        "columns": 5,
        "rows": 7
       }
      },
      "text/html": [
       "<div>\n",
       "<style scoped>\n",
       "    .dataframe tbody tr th:only-of-type {\n",
       "        vertical-align: middle;\n",
       "    }\n",
       "\n",
       "    .dataframe tbody tr th {\n",
       "        vertical-align: top;\n",
       "    }\n",
       "\n",
       "    .dataframe thead th {\n",
       "        text-align: right;\n",
       "    }\n",
       "</style>\n",
       "<table border=\"1\" class=\"dataframe\">\n",
       "  <thead>\n",
       "    <tr style=\"text-align: right;\">\n",
       "      <th></th>\n",
       "      <th>id</th>\n",
       "      <th>sold</th>\n",
       "      <th>location</th>\n",
       "      <th>name</th>\n",
       "      <th>price</th>\n",
       "    </tr>\n",
       "  </thead>\n",
       "  <tbody>\n",
       "    <tr>\n",
       "      <th>0</th>\n",
       "      <td>p1</td>\n",
       "      <td>20</td>\n",
       "      <td>bengulure</td>\n",
       "      <td>pen</td>\n",
       "      <td>10</td>\n",
       "    </tr>\n",
       "    <tr>\n",
       "      <th>1</th>\n",
       "      <td>p3</td>\n",
       "      <td>10</td>\n",
       "      <td>mysure</td>\n",
       "      <td>charts</td>\n",
       "      <td>5</td>\n",
       "    </tr>\n",
       "    <tr>\n",
       "      <th>2</th>\n",
       "      <td>p2</td>\n",
       "      <td>30</td>\n",
       "      <td>chennai</td>\n",
       "      <td>book</td>\n",
       "      <td>50</td>\n",
       "    </tr>\n",
       "    <tr>\n",
       "      <th>3</th>\n",
       "      <td>p4</td>\n",
       "      <td>100</td>\n",
       "      <td>mysure</td>\n",
       "      <td>markers</td>\n",
       "      <td>30</td>\n",
       "    </tr>\n",
       "    <tr>\n",
       "      <th>4</th>\n",
       "      <td>p2</td>\n",
       "      <td>5</td>\n",
       "      <td>mumbai</td>\n",
       "      <td>book</td>\n",
       "      <td>50</td>\n",
       "    </tr>\n",
       "    <tr>\n",
       "      <th>5</th>\n",
       "      <td>p1</td>\n",
       "      <td>70</td>\n",
       "      <td>NaN</td>\n",
       "      <td>pen</td>\n",
       "      <td>10</td>\n",
       "    </tr>\n",
       "    <tr>\n",
       "      <th>6</th>\n",
       "      <td>p3</td>\n",
       "      <td>1</td>\n",
       "      <td>NaN</td>\n",
       "      <td>charts</td>\n",
       "      <td>5</td>\n",
       "    </tr>\n",
       "  </tbody>\n",
       "</table>\n",
       "</div>"
      ],
      "text/plain": [
       "   id  sold   location     name  price\n",
       "0  p1    20  bengulure      pen     10\n",
       "1  p3    10     mysure   charts      5\n",
       "2  p2    30    chennai     book     50\n",
       "3  p4   100     mysure  markers     30\n",
       "4  p2     5     mumbai     book     50\n",
       "5  p1    70        NaN      pen     10\n",
       "6  p3     1        NaN   charts      5"
      ]
     },
     "execution_count": 272,
     "metadata": {},
     "output_type": "execute_result"
    }
   ],
   "source": [
    "pd.merge(left=sales_df,right=product_df,on='id',how='inner')"
   ]
  },
  {
   "cell_type": "code",
   "execution_count": 273,
   "id": "2b268ad6",
   "metadata": {},
   "outputs": [
    {
     "data": {
      "application/vnd.microsoft.datawrangler.viewer.v0+json": {
       "columns": [
        {
         "name": "index",
         "rawType": "int64",
         "type": "integer"
        },
        {
         "name": "id",
         "rawType": "object",
         "type": "string"
        },
        {
         "name": "sold",
         "rawType": "int64",
         "type": "integer"
        },
        {
         "name": "location",
         "rawType": "object",
         "type": "unknown"
        },
        {
         "name": "name",
         "rawType": "object",
         "type": "string"
        },
        {
         "name": "price",
         "rawType": "int64",
         "type": "integer"
        }
       ],
       "ref": "e49b3dfa-9134-470f-9318-1067f2f56016",
       "rows": [
        [
         "0",
         "p1",
         "20",
         "bengulure",
         "pen",
         "10"
        ],
        [
         "1",
         "p3",
         "10",
         "mysure",
         "charts",
         "5"
        ],
        [
         "2",
         "p2",
         "30",
         "chennai",
         "book",
         "50"
        ],
        [
         "3",
         "p4",
         "100",
         "mysure",
         "markers",
         "30"
        ],
        [
         "4",
         "p2",
         "5",
         "mumbai",
         "book",
         "50"
        ],
        [
         "5",
         "p1",
         "70",
         null,
         "pen",
         "10"
        ],
        [
         "6",
         "p3",
         "1",
         null,
         "charts",
         "5"
        ]
       ],
       "shape": {
        "columns": 5,
        "rows": 7
       }
      },
      "text/html": [
       "<div>\n",
       "<style scoped>\n",
       "    .dataframe tbody tr th:only-of-type {\n",
       "        vertical-align: middle;\n",
       "    }\n",
       "\n",
       "    .dataframe tbody tr th {\n",
       "        vertical-align: top;\n",
       "    }\n",
       "\n",
       "    .dataframe thead th {\n",
       "        text-align: right;\n",
       "    }\n",
       "</style>\n",
       "<table border=\"1\" class=\"dataframe\">\n",
       "  <thead>\n",
       "    <tr style=\"text-align: right;\">\n",
       "      <th></th>\n",
       "      <th>id</th>\n",
       "      <th>sold</th>\n",
       "      <th>location</th>\n",
       "      <th>name</th>\n",
       "      <th>price</th>\n",
       "    </tr>\n",
       "  </thead>\n",
       "  <tbody>\n",
       "    <tr>\n",
       "      <th>0</th>\n",
       "      <td>p1</td>\n",
       "      <td>20</td>\n",
       "      <td>bengulure</td>\n",
       "      <td>pen</td>\n",
       "      <td>10</td>\n",
       "    </tr>\n",
       "    <tr>\n",
       "      <th>1</th>\n",
       "      <td>p3</td>\n",
       "      <td>10</td>\n",
       "      <td>mysure</td>\n",
       "      <td>charts</td>\n",
       "      <td>5</td>\n",
       "    </tr>\n",
       "    <tr>\n",
       "      <th>2</th>\n",
       "      <td>p2</td>\n",
       "      <td>30</td>\n",
       "      <td>chennai</td>\n",
       "      <td>book</td>\n",
       "      <td>50</td>\n",
       "    </tr>\n",
       "    <tr>\n",
       "      <th>3</th>\n",
       "      <td>p4</td>\n",
       "      <td>100</td>\n",
       "      <td>mysure</td>\n",
       "      <td>markers</td>\n",
       "      <td>30</td>\n",
       "    </tr>\n",
       "    <tr>\n",
       "      <th>4</th>\n",
       "      <td>p2</td>\n",
       "      <td>5</td>\n",
       "      <td>mumbai</td>\n",
       "      <td>book</td>\n",
       "      <td>50</td>\n",
       "    </tr>\n",
       "    <tr>\n",
       "      <th>5</th>\n",
       "      <td>p1</td>\n",
       "      <td>70</td>\n",
       "      <td>NaN</td>\n",
       "      <td>pen</td>\n",
       "      <td>10</td>\n",
       "    </tr>\n",
       "    <tr>\n",
       "      <th>6</th>\n",
       "      <td>p3</td>\n",
       "      <td>1</td>\n",
       "      <td>NaN</td>\n",
       "      <td>charts</td>\n",
       "      <td>5</td>\n",
       "    </tr>\n",
       "  </tbody>\n",
       "</table>\n",
       "</div>"
      ],
      "text/plain": [
       "   id  sold   location     name  price\n",
       "0  p1    20  bengulure      pen     10\n",
       "1  p3    10     mysure   charts      5\n",
       "2  p2    30    chennai     book     50\n",
       "3  p4   100     mysure  markers     30\n",
       "4  p2     5     mumbai     book     50\n",
       "5  p1    70        NaN      pen     10\n",
       "6  p3     1        NaN   charts      5"
      ]
     },
     "execution_count": 273,
     "metadata": {},
     "output_type": "execute_result"
    }
   ],
   "source": [
    "pd.merge(left=sales_df,right=product_df,on='id',how='left')"
   ]
  },
  {
   "cell_type": "code",
   "execution_count": null,
   "id": "cef6d358",
   "metadata": {},
   "outputs": [],
   "source": []
  },
  {
   "cell_type": "code",
   "execution_count": 274,
   "id": "f4fbb1bd",
   "metadata": {},
   "outputs": [
    {
     "data": {
      "application/vnd.microsoft.datawrangler.viewer.v0+json": {
       "columns": [
        {
         "name": "index",
         "rawType": "int64",
         "type": "integer"
        },
        {
         "name": "id",
         "rawType": "object",
         "type": "string"
        },
        {
         "name": "sold",
         "rawType": "float64",
         "type": "float"
        },
        {
         "name": "location",
         "rawType": "object",
         "type": "unknown"
        },
        {
         "name": "name",
         "rawType": "object",
         "type": "string"
        },
        {
         "name": "price",
         "rawType": "int64",
         "type": "integer"
        }
       ],
       "ref": "fe574e82-790e-4ab1-a0c7-b3776510b858",
       "rows": [
        [
         "0",
         "p1",
         "20.0",
         "bengulure",
         "pen",
         "10"
        ],
        [
         "1",
         "p1",
         "70.0",
         null,
         "pen",
         "10"
        ],
        [
         "2",
         "p2",
         "30.0",
         "chennai",
         "book",
         "50"
        ],
        [
         "3",
         "p2",
         "5.0",
         "mumbai",
         "book",
         "50"
        ],
        [
         "4",
         "p3",
         "10.0",
         "mysure",
         "charts",
         "5"
        ],
        [
         "5",
         "p3",
         "1.0",
         null,
         "charts",
         "5"
        ],
        [
         "6",
         "p4",
         "100.0",
         "mysure",
         "markers",
         "30"
        ],
        [
         "7",
         "p5",
         null,
         null,
         "white board",
         "800"
        ]
       ],
       "shape": {
        "columns": 5,
        "rows": 8
       }
      },
      "text/html": [
       "<div>\n",
       "<style scoped>\n",
       "    .dataframe tbody tr th:only-of-type {\n",
       "        vertical-align: middle;\n",
       "    }\n",
       "\n",
       "    .dataframe tbody tr th {\n",
       "        vertical-align: top;\n",
       "    }\n",
       "\n",
       "    .dataframe thead th {\n",
       "        text-align: right;\n",
       "    }\n",
       "</style>\n",
       "<table border=\"1\" class=\"dataframe\">\n",
       "  <thead>\n",
       "    <tr style=\"text-align: right;\">\n",
       "      <th></th>\n",
       "      <th>id</th>\n",
       "      <th>sold</th>\n",
       "      <th>location</th>\n",
       "      <th>name</th>\n",
       "      <th>price</th>\n",
       "    </tr>\n",
       "  </thead>\n",
       "  <tbody>\n",
       "    <tr>\n",
       "      <th>0</th>\n",
       "      <td>p1</td>\n",
       "      <td>20.0</td>\n",
       "      <td>bengulure</td>\n",
       "      <td>pen</td>\n",
       "      <td>10</td>\n",
       "    </tr>\n",
       "    <tr>\n",
       "      <th>1</th>\n",
       "      <td>p1</td>\n",
       "      <td>70.0</td>\n",
       "      <td>NaN</td>\n",
       "      <td>pen</td>\n",
       "      <td>10</td>\n",
       "    </tr>\n",
       "    <tr>\n",
       "      <th>2</th>\n",
       "      <td>p2</td>\n",
       "      <td>30.0</td>\n",
       "      <td>chennai</td>\n",
       "      <td>book</td>\n",
       "      <td>50</td>\n",
       "    </tr>\n",
       "    <tr>\n",
       "      <th>3</th>\n",
       "      <td>p2</td>\n",
       "      <td>5.0</td>\n",
       "      <td>mumbai</td>\n",
       "      <td>book</td>\n",
       "      <td>50</td>\n",
       "    </tr>\n",
       "    <tr>\n",
       "      <th>4</th>\n",
       "      <td>p3</td>\n",
       "      <td>10.0</td>\n",
       "      <td>mysure</td>\n",
       "      <td>charts</td>\n",
       "      <td>5</td>\n",
       "    </tr>\n",
       "    <tr>\n",
       "      <th>5</th>\n",
       "      <td>p3</td>\n",
       "      <td>1.0</td>\n",
       "      <td>NaN</td>\n",
       "      <td>charts</td>\n",
       "      <td>5</td>\n",
       "    </tr>\n",
       "    <tr>\n",
       "      <th>6</th>\n",
       "      <td>p4</td>\n",
       "      <td>100.0</td>\n",
       "      <td>mysure</td>\n",
       "      <td>markers</td>\n",
       "      <td>30</td>\n",
       "    </tr>\n",
       "    <tr>\n",
       "      <th>7</th>\n",
       "      <td>p5</td>\n",
       "      <td>NaN</td>\n",
       "      <td>NaN</td>\n",
       "      <td>white board</td>\n",
       "      <td>800</td>\n",
       "    </tr>\n",
       "  </tbody>\n",
       "</table>\n",
       "</div>"
      ],
      "text/plain": [
       "   id   sold   location         name  price\n",
       "0  p1   20.0  bengulure          pen     10\n",
       "1  p1   70.0        NaN          pen     10\n",
       "2  p2   30.0    chennai         book     50\n",
       "3  p2    5.0     mumbai         book     50\n",
       "4  p3   10.0     mysure       charts      5\n",
       "5  p3    1.0        NaN       charts      5\n",
       "6  p4  100.0     mysure      markers     30\n",
       "7  p5    NaN        NaN  white board    800"
      ]
     },
     "execution_count": 274,
     "metadata": {},
     "output_type": "execute_result"
    }
   ],
   "source": [
    "pd.merge(left=sales_df,right=product_df,on='id',how='right')"
   ]
  },
  {
   "cell_type": "code",
   "execution_count": 275,
   "id": "1045f8e9",
   "metadata": {},
   "outputs": [
    {
     "data": {
      "application/vnd.microsoft.datawrangler.viewer.v0+json": {
       "columns": [
        {
         "name": "index",
         "rawType": "int64",
         "type": "integer"
        },
        {
         "name": "id_x",
         "rawType": "object",
         "type": "string"
        },
        {
         "name": "name",
         "rawType": "object",
         "type": "string"
        },
        {
         "name": "price",
         "rawType": "int64",
         "type": "integer"
        },
        {
         "name": "id_y",
         "rawType": "object",
         "type": "string"
        },
        {
         "name": "sold",
         "rawType": "int64",
         "type": "integer"
        },
        {
         "name": "location",
         "rawType": "object",
         "type": "unknown"
        }
       ],
       "ref": "564beeec-361d-4462-a63c-8e6133422e6b",
       "rows": [
        [
         "0",
         "p1",
         "pen",
         "10",
         "p1",
         "20",
         "bengulure"
        ],
        [
         "1",
         "p1",
         "pen",
         "10",
         "p3",
         "10",
         "mysure"
        ],
        [
         "2",
         "p1",
         "pen",
         "10",
         "p2",
         "30",
         "chennai"
        ],
        [
         "3",
         "p1",
         "pen",
         "10",
         "p4",
         "100",
         "mysure"
        ],
        [
         "4",
         "p1",
         "pen",
         "10",
         "p2",
         "5",
         "mumbai"
        ],
        [
         "5",
         "p1",
         "pen",
         "10",
         "p1",
         "70",
         null
        ],
        [
         "6",
         "p1",
         "pen",
         "10",
         "p3",
         "1",
         null
        ],
        [
         "7",
         "p2",
         "book",
         "50",
         "p1",
         "20",
         "bengulure"
        ],
        [
         "8",
         "p2",
         "book",
         "50",
         "p3",
         "10",
         "mysure"
        ],
        [
         "9",
         "p2",
         "book",
         "50",
         "p2",
         "30",
         "chennai"
        ],
        [
         "10",
         "p2",
         "book",
         "50",
         "p4",
         "100",
         "mysure"
        ],
        [
         "11",
         "p2",
         "book",
         "50",
         "p2",
         "5",
         "mumbai"
        ],
        [
         "12",
         "p2",
         "book",
         "50",
         "p1",
         "70",
         null
        ],
        [
         "13",
         "p2",
         "book",
         "50",
         "p3",
         "1",
         null
        ],
        [
         "14",
         "p3",
         "charts",
         "5",
         "p1",
         "20",
         "bengulure"
        ],
        [
         "15",
         "p3",
         "charts",
         "5",
         "p3",
         "10",
         "mysure"
        ],
        [
         "16",
         "p3",
         "charts",
         "5",
         "p2",
         "30",
         "chennai"
        ],
        [
         "17",
         "p3",
         "charts",
         "5",
         "p4",
         "100",
         "mysure"
        ],
        [
         "18",
         "p3",
         "charts",
         "5",
         "p2",
         "5",
         "mumbai"
        ],
        [
         "19",
         "p3",
         "charts",
         "5",
         "p1",
         "70",
         null
        ],
        [
         "20",
         "p3",
         "charts",
         "5",
         "p3",
         "1",
         null
        ],
        [
         "21",
         "p4",
         "markers",
         "30",
         "p1",
         "20",
         "bengulure"
        ],
        [
         "22",
         "p4",
         "markers",
         "30",
         "p3",
         "10",
         "mysure"
        ],
        [
         "23",
         "p4",
         "markers",
         "30",
         "p2",
         "30",
         "chennai"
        ],
        [
         "24",
         "p4",
         "markers",
         "30",
         "p4",
         "100",
         "mysure"
        ],
        [
         "25",
         "p4",
         "markers",
         "30",
         "p2",
         "5",
         "mumbai"
        ],
        [
         "26",
         "p4",
         "markers",
         "30",
         "p1",
         "70",
         null
        ],
        [
         "27",
         "p4",
         "markers",
         "30",
         "p3",
         "1",
         null
        ],
        [
         "28",
         "p5",
         "white board",
         "800",
         "p1",
         "20",
         "bengulure"
        ],
        [
         "29",
         "p5",
         "white board",
         "800",
         "p3",
         "10",
         "mysure"
        ],
        [
         "30",
         "p5",
         "white board",
         "800",
         "p2",
         "30",
         "chennai"
        ],
        [
         "31",
         "p5",
         "white board",
         "800",
         "p4",
         "100",
         "mysure"
        ],
        [
         "32",
         "p5",
         "white board",
         "800",
         "p2",
         "5",
         "mumbai"
        ],
        [
         "33",
         "p5",
         "white board",
         "800",
         "p1",
         "70",
         null
        ],
        [
         "34",
         "p5",
         "white board",
         "800",
         "p3",
         "1",
         null
        ]
       ],
       "shape": {
        "columns": 6,
        "rows": 35
       }
      },
      "text/html": [
       "<div>\n",
       "<style scoped>\n",
       "    .dataframe tbody tr th:only-of-type {\n",
       "        vertical-align: middle;\n",
       "    }\n",
       "\n",
       "    .dataframe tbody tr th {\n",
       "        vertical-align: top;\n",
       "    }\n",
       "\n",
       "    .dataframe thead th {\n",
       "        text-align: right;\n",
       "    }\n",
       "</style>\n",
       "<table border=\"1\" class=\"dataframe\">\n",
       "  <thead>\n",
       "    <tr style=\"text-align: right;\">\n",
       "      <th></th>\n",
       "      <th>id_x</th>\n",
       "      <th>name</th>\n",
       "      <th>price</th>\n",
       "      <th>id_y</th>\n",
       "      <th>sold</th>\n",
       "      <th>location</th>\n",
       "    </tr>\n",
       "  </thead>\n",
       "  <tbody>\n",
       "    <tr>\n",
       "      <th>0</th>\n",
       "      <td>p1</td>\n",
       "      <td>pen</td>\n",
       "      <td>10</td>\n",
       "      <td>p1</td>\n",
       "      <td>20</td>\n",
       "      <td>bengulure</td>\n",
       "    </tr>\n",
       "    <tr>\n",
       "      <th>1</th>\n",
       "      <td>p1</td>\n",
       "      <td>pen</td>\n",
       "      <td>10</td>\n",
       "      <td>p3</td>\n",
       "      <td>10</td>\n",
       "      <td>mysure</td>\n",
       "    </tr>\n",
       "    <tr>\n",
       "      <th>2</th>\n",
       "      <td>p1</td>\n",
       "      <td>pen</td>\n",
       "      <td>10</td>\n",
       "      <td>p2</td>\n",
       "      <td>30</td>\n",
       "      <td>chennai</td>\n",
       "    </tr>\n",
       "    <tr>\n",
       "      <th>3</th>\n",
       "      <td>p1</td>\n",
       "      <td>pen</td>\n",
       "      <td>10</td>\n",
       "      <td>p4</td>\n",
       "      <td>100</td>\n",
       "      <td>mysure</td>\n",
       "    </tr>\n",
       "    <tr>\n",
       "      <th>4</th>\n",
       "      <td>p1</td>\n",
       "      <td>pen</td>\n",
       "      <td>10</td>\n",
       "      <td>p2</td>\n",
       "      <td>5</td>\n",
       "      <td>mumbai</td>\n",
       "    </tr>\n",
       "    <tr>\n",
       "      <th>5</th>\n",
       "      <td>p1</td>\n",
       "      <td>pen</td>\n",
       "      <td>10</td>\n",
       "      <td>p1</td>\n",
       "      <td>70</td>\n",
       "      <td>NaN</td>\n",
       "    </tr>\n",
       "    <tr>\n",
       "      <th>6</th>\n",
       "      <td>p1</td>\n",
       "      <td>pen</td>\n",
       "      <td>10</td>\n",
       "      <td>p3</td>\n",
       "      <td>1</td>\n",
       "      <td>NaN</td>\n",
       "    </tr>\n",
       "    <tr>\n",
       "      <th>7</th>\n",
       "      <td>p2</td>\n",
       "      <td>book</td>\n",
       "      <td>50</td>\n",
       "      <td>p1</td>\n",
       "      <td>20</td>\n",
       "      <td>bengulure</td>\n",
       "    </tr>\n",
       "    <tr>\n",
       "      <th>8</th>\n",
       "      <td>p2</td>\n",
       "      <td>book</td>\n",
       "      <td>50</td>\n",
       "      <td>p3</td>\n",
       "      <td>10</td>\n",
       "      <td>mysure</td>\n",
       "    </tr>\n",
       "    <tr>\n",
       "      <th>9</th>\n",
       "      <td>p2</td>\n",
       "      <td>book</td>\n",
       "      <td>50</td>\n",
       "      <td>p2</td>\n",
       "      <td>30</td>\n",
       "      <td>chennai</td>\n",
       "    </tr>\n",
       "    <tr>\n",
       "      <th>10</th>\n",
       "      <td>p2</td>\n",
       "      <td>book</td>\n",
       "      <td>50</td>\n",
       "      <td>p4</td>\n",
       "      <td>100</td>\n",
       "      <td>mysure</td>\n",
       "    </tr>\n",
       "    <tr>\n",
       "      <th>11</th>\n",
       "      <td>p2</td>\n",
       "      <td>book</td>\n",
       "      <td>50</td>\n",
       "      <td>p2</td>\n",
       "      <td>5</td>\n",
       "      <td>mumbai</td>\n",
       "    </tr>\n",
       "    <tr>\n",
       "      <th>12</th>\n",
       "      <td>p2</td>\n",
       "      <td>book</td>\n",
       "      <td>50</td>\n",
       "      <td>p1</td>\n",
       "      <td>70</td>\n",
       "      <td>NaN</td>\n",
       "    </tr>\n",
       "    <tr>\n",
       "      <th>13</th>\n",
       "      <td>p2</td>\n",
       "      <td>book</td>\n",
       "      <td>50</td>\n",
       "      <td>p3</td>\n",
       "      <td>1</td>\n",
       "      <td>NaN</td>\n",
       "    </tr>\n",
       "    <tr>\n",
       "      <th>14</th>\n",
       "      <td>p3</td>\n",
       "      <td>charts</td>\n",
       "      <td>5</td>\n",
       "      <td>p1</td>\n",
       "      <td>20</td>\n",
       "      <td>bengulure</td>\n",
       "    </tr>\n",
       "    <tr>\n",
       "      <th>15</th>\n",
       "      <td>p3</td>\n",
       "      <td>charts</td>\n",
       "      <td>5</td>\n",
       "      <td>p3</td>\n",
       "      <td>10</td>\n",
       "      <td>mysure</td>\n",
       "    </tr>\n",
       "    <tr>\n",
       "      <th>16</th>\n",
       "      <td>p3</td>\n",
       "      <td>charts</td>\n",
       "      <td>5</td>\n",
       "      <td>p2</td>\n",
       "      <td>30</td>\n",
       "      <td>chennai</td>\n",
       "    </tr>\n",
       "    <tr>\n",
       "      <th>17</th>\n",
       "      <td>p3</td>\n",
       "      <td>charts</td>\n",
       "      <td>5</td>\n",
       "      <td>p4</td>\n",
       "      <td>100</td>\n",
       "      <td>mysure</td>\n",
       "    </tr>\n",
       "    <tr>\n",
       "      <th>18</th>\n",
       "      <td>p3</td>\n",
       "      <td>charts</td>\n",
       "      <td>5</td>\n",
       "      <td>p2</td>\n",
       "      <td>5</td>\n",
       "      <td>mumbai</td>\n",
       "    </tr>\n",
       "    <tr>\n",
       "      <th>19</th>\n",
       "      <td>p3</td>\n",
       "      <td>charts</td>\n",
       "      <td>5</td>\n",
       "      <td>p1</td>\n",
       "      <td>70</td>\n",
       "      <td>NaN</td>\n",
       "    </tr>\n",
       "    <tr>\n",
       "      <th>20</th>\n",
       "      <td>p3</td>\n",
       "      <td>charts</td>\n",
       "      <td>5</td>\n",
       "      <td>p3</td>\n",
       "      <td>1</td>\n",
       "      <td>NaN</td>\n",
       "    </tr>\n",
       "    <tr>\n",
       "      <th>21</th>\n",
       "      <td>p4</td>\n",
       "      <td>markers</td>\n",
       "      <td>30</td>\n",
       "      <td>p1</td>\n",
       "      <td>20</td>\n",
       "      <td>bengulure</td>\n",
       "    </tr>\n",
       "    <tr>\n",
       "      <th>22</th>\n",
       "      <td>p4</td>\n",
       "      <td>markers</td>\n",
       "      <td>30</td>\n",
       "      <td>p3</td>\n",
       "      <td>10</td>\n",
       "      <td>mysure</td>\n",
       "    </tr>\n",
       "    <tr>\n",
       "      <th>23</th>\n",
       "      <td>p4</td>\n",
       "      <td>markers</td>\n",
       "      <td>30</td>\n",
       "      <td>p2</td>\n",
       "      <td>30</td>\n",
       "      <td>chennai</td>\n",
       "    </tr>\n",
       "    <tr>\n",
       "      <th>24</th>\n",
       "      <td>p4</td>\n",
       "      <td>markers</td>\n",
       "      <td>30</td>\n",
       "      <td>p4</td>\n",
       "      <td>100</td>\n",
       "      <td>mysure</td>\n",
       "    </tr>\n",
       "    <tr>\n",
       "      <th>25</th>\n",
       "      <td>p4</td>\n",
       "      <td>markers</td>\n",
       "      <td>30</td>\n",
       "      <td>p2</td>\n",
       "      <td>5</td>\n",
       "      <td>mumbai</td>\n",
       "    </tr>\n",
       "    <tr>\n",
       "      <th>26</th>\n",
       "      <td>p4</td>\n",
       "      <td>markers</td>\n",
       "      <td>30</td>\n",
       "      <td>p1</td>\n",
       "      <td>70</td>\n",
       "      <td>NaN</td>\n",
       "    </tr>\n",
       "    <tr>\n",
       "      <th>27</th>\n",
       "      <td>p4</td>\n",
       "      <td>markers</td>\n",
       "      <td>30</td>\n",
       "      <td>p3</td>\n",
       "      <td>1</td>\n",
       "      <td>NaN</td>\n",
       "    </tr>\n",
       "    <tr>\n",
       "      <th>28</th>\n",
       "      <td>p5</td>\n",
       "      <td>white board</td>\n",
       "      <td>800</td>\n",
       "      <td>p1</td>\n",
       "      <td>20</td>\n",
       "      <td>bengulure</td>\n",
       "    </tr>\n",
       "    <tr>\n",
       "      <th>29</th>\n",
       "      <td>p5</td>\n",
       "      <td>white board</td>\n",
       "      <td>800</td>\n",
       "      <td>p3</td>\n",
       "      <td>10</td>\n",
       "      <td>mysure</td>\n",
       "    </tr>\n",
       "    <tr>\n",
       "      <th>30</th>\n",
       "      <td>p5</td>\n",
       "      <td>white board</td>\n",
       "      <td>800</td>\n",
       "      <td>p2</td>\n",
       "      <td>30</td>\n",
       "      <td>chennai</td>\n",
       "    </tr>\n",
       "    <tr>\n",
       "      <th>31</th>\n",
       "      <td>p5</td>\n",
       "      <td>white board</td>\n",
       "      <td>800</td>\n",
       "      <td>p4</td>\n",
       "      <td>100</td>\n",
       "      <td>mysure</td>\n",
       "    </tr>\n",
       "    <tr>\n",
       "      <th>32</th>\n",
       "      <td>p5</td>\n",
       "      <td>white board</td>\n",
       "      <td>800</td>\n",
       "      <td>p2</td>\n",
       "      <td>5</td>\n",
       "      <td>mumbai</td>\n",
       "    </tr>\n",
       "    <tr>\n",
       "      <th>33</th>\n",
       "      <td>p5</td>\n",
       "      <td>white board</td>\n",
       "      <td>800</td>\n",
       "      <td>p1</td>\n",
       "      <td>70</td>\n",
       "      <td>NaN</td>\n",
       "    </tr>\n",
       "    <tr>\n",
       "      <th>34</th>\n",
       "      <td>p5</td>\n",
       "      <td>white board</td>\n",
       "      <td>800</td>\n",
       "      <td>p3</td>\n",
       "      <td>1</td>\n",
       "      <td>NaN</td>\n",
       "    </tr>\n",
       "  </tbody>\n",
       "</table>\n",
       "</div>"
      ],
      "text/plain": [
       "   id_x         name  price id_y  sold   location\n",
       "0    p1          pen     10   p1    20  bengulure\n",
       "1    p1          pen     10   p3    10     mysure\n",
       "2    p1          pen     10   p2    30    chennai\n",
       "3    p1          pen     10   p4   100     mysure\n",
       "4    p1          pen     10   p2     5     mumbai\n",
       "5    p1          pen     10   p1    70        NaN\n",
       "6    p1          pen     10   p3     1        NaN\n",
       "7    p2         book     50   p1    20  bengulure\n",
       "8    p2         book     50   p3    10     mysure\n",
       "9    p2         book     50   p2    30    chennai\n",
       "10   p2         book     50   p4   100     mysure\n",
       "11   p2         book     50   p2     5     mumbai\n",
       "12   p2         book     50   p1    70        NaN\n",
       "13   p2         book     50   p3     1        NaN\n",
       "14   p3       charts      5   p1    20  bengulure\n",
       "15   p3       charts      5   p3    10     mysure\n",
       "16   p3       charts      5   p2    30    chennai\n",
       "17   p3       charts      5   p4   100     mysure\n",
       "18   p3       charts      5   p2     5     mumbai\n",
       "19   p3       charts      5   p1    70        NaN\n",
       "20   p3       charts      5   p3     1        NaN\n",
       "21   p4      markers     30   p1    20  bengulure\n",
       "22   p4      markers     30   p3    10     mysure\n",
       "23   p4      markers     30   p2    30    chennai\n",
       "24   p4      markers     30   p4   100     mysure\n",
       "25   p4      markers     30   p2     5     mumbai\n",
       "26   p4      markers     30   p1    70        NaN\n",
       "27   p4      markers     30   p3     1        NaN\n",
       "28   p5  white board    800   p1    20  bengulure\n",
       "29   p5  white board    800   p3    10     mysure\n",
       "30   p5  white board    800   p2    30    chennai\n",
       "31   p5  white board    800   p4   100     mysure\n",
       "32   p5  white board    800   p2     5     mumbai\n",
       "33   p5  white board    800   p1    70        NaN\n",
       "34   p5  white board    800   p3     1        NaN"
      ]
     },
     "execution_count": 275,
     "metadata": {},
     "output_type": "execute_result"
    }
   ],
   "source": [
    "pd.merge(left=product_df,right=sales_df,how='cross')"
   ]
  },
  {
   "cell_type": "code",
   "execution_count": 276,
   "id": "6c859444",
   "metadata": {},
   "outputs": [
    {
     "data": {
      "application/vnd.microsoft.datawrangler.viewer.v0+json": {
       "columns": [
        {
         "name": "index",
         "rawType": "int64",
         "type": "integer"
        },
        {
         "name": "id",
         "rawType": "object",
         "type": "string"
        },
        {
         "name": "sold",
         "rawType": "float64",
         "type": "float"
        },
        {
         "name": "location",
         "rawType": "object",
         "type": "unknown"
        },
        {
         "name": "name",
         "rawType": "object",
         "type": "string"
        },
        {
         "name": "price",
         "rawType": "int64",
         "type": "integer"
        }
       ],
       "ref": "d5de106e-9e06-45b8-b098-38ff6131d959",
       "rows": [
        [
         "0",
         "p1",
         "20.0",
         "bengulure",
         "pen",
         "10"
        ],
        [
         "1",
         "p1",
         "70.0",
         null,
         "pen",
         "10"
        ],
        [
         "2",
         "p2",
         "30.0",
         "chennai",
         "book",
         "50"
        ],
        [
         "3",
         "p2",
         "5.0",
         "mumbai",
         "book",
         "50"
        ],
        [
         "4",
         "p3",
         "10.0",
         "mysure",
         "charts",
         "5"
        ],
        [
         "5",
         "p3",
         "1.0",
         null,
         "charts",
         "5"
        ],
        [
         "6",
         "p4",
         "100.0",
         "mysure",
         "markers",
         "30"
        ],
        [
         "7",
         "p5",
         null,
         null,
         "white board",
         "800"
        ]
       ],
       "shape": {
        "columns": 5,
        "rows": 8
       }
      },
      "text/html": [
       "<div>\n",
       "<style scoped>\n",
       "    .dataframe tbody tr th:only-of-type {\n",
       "        vertical-align: middle;\n",
       "    }\n",
       "\n",
       "    .dataframe tbody tr th {\n",
       "        vertical-align: top;\n",
       "    }\n",
       "\n",
       "    .dataframe thead th {\n",
       "        text-align: right;\n",
       "    }\n",
       "</style>\n",
       "<table border=\"1\" class=\"dataframe\">\n",
       "  <thead>\n",
       "    <tr style=\"text-align: right;\">\n",
       "      <th></th>\n",
       "      <th>id</th>\n",
       "      <th>sold</th>\n",
       "      <th>location</th>\n",
       "      <th>name</th>\n",
       "      <th>price</th>\n",
       "    </tr>\n",
       "  </thead>\n",
       "  <tbody>\n",
       "    <tr>\n",
       "      <th>0</th>\n",
       "      <td>p1</td>\n",
       "      <td>20.0</td>\n",
       "      <td>bengulure</td>\n",
       "      <td>pen</td>\n",
       "      <td>10</td>\n",
       "    </tr>\n",
       "    <tr>\n",
       "      <th>1</th>\n",
       "      <td>p1</td>\n",
       "      <td>70.0</td>\n",
       "      <td>NaN</td>\n",
       "      <td>pen</td>\n",
       "      <td>10</td>\n",
       "    </tr>\n",
       "    <tr>\n",
       "      <th>2</th>\n",
       "      <td>p2</td>\n",
       "      <td>30.0</td>\n",
       "      <td>chennai</td>\n",
       "      <td>book</td>\n",
       "      <td>50</td>\n",
       "    </tr>\n",
       "    <tr>\n",
       "      <th>3</th>\n",
       "      <td>p2</td>\n",
       "      <td>5.0</td>\n",
       "      <td>mumbai</td>\n",
       "      <td>book</td>\n",
       "      <td>50</td>\n",
       "    </tr>\n",
       "    <tr>\n",
       "      <th>4</th>\n",
       "      <td>p3</td>\n",
       "      <td>10.0</td>\n",
       "      <td>mysure</td>\n",
       "      <td>charts</td>\n",
       "      <td>5</td>\n",
       "    </tr>\n",
       "    <tr>\n",
       "      <th>5</th>\n",
       "      <td>p3</td>\n",
       "      <td>1.0</td>\n",
       "      <td>NaN</td>\n",
       "      <td>charts</td>\n",
       "      <td>5</td>\n",
       "    </tr>\n",
       "    <tr>\n",
       "      <th>6</th>\n",
       "      <td>p4</td>\n",
       "      <td>100.0</td>\n",
       "      <td>mysure</td>\n",
       "      <td>markers</td>\n",
       "      <td>30</td>\n",
       "    </tr>\n",
       "    <tr>\n",
       "      <th>7</th>\n",
       "      <td>p5</td>\n",
       "      <td>NaN</td>\n",
       "      <td>NaN</td>\n",
       "      <td>white board</td>\n",
       "      <td>800</td>\n",
       "    </tr>\n",
       "  </tbody>\n",
       "</table>\n",
       "</div>"
      ],
      "text/plain": [
       "   id   sold   location         name  price\n",
       "0  p1   20.0  bengulure          pen     10\n",
       "1  p1   70.0        NaN          pen     10\n",
       "2  p2   30.0    chennai         book     50\n",
       "3  p2    5.0     mumbai         book     50\n",
       "4  p3   10.0     mysure       charts      5\n",
       "5  p3    1.0        NaN       charts      5\n",
       "6  p4  100.0     mysure      markers     30\n",
       "7  p5    NaN        NaN  white board    800"
      ]
     },
     "execution_count": 276,
     "metadata": {},
     "output_type": "execute_result"
    }
   ],
   "source": [
    "pd.merge(left=sales_df,right=product_df,how='outer')"
   ]
  },
  {
   "cell_type": "markdown",
   "id": "3358306c",
   "metadata": {},
   "source": [
    "<h3 style=\"color:orange\">6. Create a student_df with (name,stream,py,sql,web) attributrs and 5 values.</h3>"
   ]
  },
  {
   "cell_type": "code",
   "execution_count": 277,
   "id": "d340dea7",
   "metadata": {},
   "outputs": [
    {
     "data": {
      "application/vnd.microsoft.datawrangler.viewer.v0+json": {
       "columns": [
        {
         "name": "index",
         "rawType": "int64",
         "type": "integer"
        },
        {
         "name": "name",
         "rawType": "object",
         "type": "string"
        },
        {
         "name": "stream",
         "rawType": "object",
         "type": "string"
        },
        {
         "name": "py",
         "rawType": "int64",
         "type": "integer"
        },
        {
         "name": "sql",
         "rawType": "int64",
         "type": "integer"
        },
        {
         "name": "web",
         "rawType": "int64",
         "type": "integer"
        }
       ],
       "ref": "64450ee5-a6af-414c-83d0-66733b2d0d93",
       "rows": [
        [
         "0",
         "Nishant",
         "IT",
         "6",
         "9",
         "7"
        ],
        [
         "1",
         "Rahul",
         "ECE",
         "8",
         "5",
         "8"
        ],
        [
         "2",
         "Jaimeet",
         "CSE",
         "5",
         "6",
         "4"
        ],
        [
         "3",
         "Shodhan",
         "CSE",
         "9",
         "7",
         "3"
        ],
        [
         "4",
         "Preet",
         "IT",
         "3",
         "8",
         "5"
        ]
       ],
       "shape": {
        "columns": 5,
        "rows": 5
       }
      },
      "text/html": [
       "<div>\n",
       "<style scoped>\n",
       "    .dataframe tbody tr th:only-of-type {\n",
       "        vertical-align: middle;\n",
       "    }\n",
       "\n",
       "    .dataframe tbody tr th {\n",
       "        vertical-align: top;\n",
       "    }\n",
       "\n",
       "    .dataframe thead th {\n",
       "        text-align: right;\n",
       "    }\n",
       "</style>\n",
       "<table border=\"1\" class=\"dataframe\">\n",
       "  <thead>\n",
       "    <tr style=\"text-align: right;\">\n",
       "      <th></th>\n",
       "      <th>name</th>\n",
       "      <th>stream</th>\n",
       "      <th>py</th>\n",
       "      <th>sql</th>\n",
       "      <th>web</th>\n",
       "    </tr>\n",
       "  </thead>\n",
       "  <tbody>\n",
       "    <tr>\n",
       "      <th>0</th>\n",
       "      <td>Nishant</td>\n",
       "      <td>IT</td>\n",
       "      <td>6</td>\n",
       "      <td>9</td>\n",
       "      <td>7</td>\n",
       "    </tr>\n",
       "    <tr>\n",
       "      <th>1</th>\n",
       "      <td>Rahul</td>\n",
       "      <td>ECE</td>\n",
       "      <td>8</td>\n",
       "      <td>5</td>\n",
       "      <td>8</td>\n",
       "    </tr>\n",
       "    <tr>\n",
       "      <th>2</th>\n",
       "      <td>Jaimeet</td>\n",
       "      <td>CSE</td>\n",
       "      <td>5</td>\n",
       "      <td>6</td>\n",
       "      <td>4</td>\n",
       "    </tr>\n",
       "    <tr>\n",
       "      <th>3</th>\n",
       "      <td>Shodhan</td>\n",
       "      <td>CSE</td>\n",
       "      <td>9</td>\n",
       "      <td>7</td>\n",
       "      <td>3</td>\n",
       "    </tr>\n",
       "    <tr>\n",
       "      <th>4</th>\n",
       "      <td>Preet</td>\n",
       "      <td>IT</td>\n",
       "      <td>3</td>\n",
       "      <td>8</td>\n",
       "      <td>5</td>\n",
       "    </tr>\n",
       "  </tbody>\n",
       "</table>\n",
       "</div>"
      ],
      "text/plain": [
       "      name stream  py  sql  web\n",
       "0  Nishant     IT   6    9    7\n",
       "1    Rahul    ECE   8    5    8\n",
       "2  Jaimeet    CSE   5    6    4\n",
       "3  Shodhan    CSE   9    7    3\n",
       "4    Preet     IT   3    8    5"
      ]
     },
     "execution_count": 277,
     "metadata": {},
     "output_type": "execute_result"
    }
   ],
   "source": [
    "student_df =pd.DataFrame({'name':['Nishant','Rahul','Jaimeet','Shodhan','Preet'],'stream':['IT','ECE','CSE','CSE','IT'],'py':[6,8,5,9,3],'sql':[9,5,6,7,8],'web':[7,8,4,3,5]})\n",
    "student_df"
   ]
  },
  {
   "cell_type": "markdown",
   "id": "0109692a",
   "metadata": {},
   "source": [
    "<h3 style=\"color:orange\">7. Perform melt operation.</h3>"
   ]
  },
  {
   "cell_type": "code",
   "execution_count": 284,
   "id": "092aba80",
   "metadata": {},
   "outputs": [
    {
     "data": {
      "application/vnd.microsoft.datawrangler.viewer.v0+json": {
       "columns": [
        {
         "name": "index",
         "rawType": "int64",
         "type": "integer"
        },
        {
         "name": "name",
         "rawType": "object",
         "type": "string"
        },
        {
         "name": "stream",
         "rawType": "object",
         "type": "string"
        },
        {
         "name": "py",
         "rawType": "int64",
         "type": "integer"
        },
        {
         "name": "sql",
         "rawType": "int64",
         "type": "integer"
        },
        {
         "name": "web",
         "rawType": "int64",
         "type": "integer"
        }
       ],
       "ref": "29ef024c-0512-49d0-856f-3d02f2834696",
       "rows": [
        [
         "0",
         "Nishant",
         "IT",
         "6",
         "9",
         "7"
        ],
        [
         "1",
         "Rahul",
         "ECE",
         "8",
         "5",
         "8"
        ],
        [
         "2",
         "Jaimeet",
         "CSE",
         "5",
         "6",
         "4"
        ],
        [
         "3",
         "Shodhan",
         "CSE",
         "9",
         "7",
         "3"
        ],
        [
         "4",
         "Preet",
         "IT",
         "3",
         "8",
         "5"
        ]
       ],
       "shape": {
        "columns": 5,
        "rows": 5
       }
      },
      "text/html": [
       "<div>\n",
       "<style scoped>\n",
       "    .dataframe tbody tr th:only-of-type {\n",
       "        vertical-align: middle;\n",
       "    }\n",
       "\n",
       "    .dataframe tbody tr th {\n",
       "        vertical-align: top;\n",
       "    }\n",
       "\n",
       "    .dataframe thead th {\n",
       "        text-align: right;\n",
       "    }\n",
       "</style>\n",
       "<table border=\"1\" class=\"dataframe\">\n",
       "  <thead>\n",
       "    <tr style=\"text-align: right;\">\n",
       "      <th></th>\n",
       "      <th>name</th>\n",
       "      <th>stream</th>\n",
       "      <th>py</th>\n",
       "      <th>sql</th>\n",
       "      <th>web</th>\n",
       "    </tr>\n",
       "  </thead>\n",
       "  <tbody>\n",
       "    <tr>\n",
       "      <th>0</th>\n",
       "      <td>Nishant</td>\n",
       "      <td>IT</td>\n",
       "      <td>6</td>\n",
       "      <td>9</td>\n",
       "      <td>7</td>\n",
       "    </tr>\n",
       "    <tr>\n",
       "      <th>1</th>\n",
       "      <td>Rahul</td>\n",
       "      <td>ECE</td>\n",
       "      <td>8</td>\n",
       "      <td>5</td>\n",
       "      <td>8</td>\n",
       "    </tr>\n",
       "    <tr>\n",
       "      <th>2</th>\n",
       "      <td>Jaimeet</td>\n",
       "      <td>CSE</td>\n",
       "      <td>5</td>\n",
       "      <td>6</td>\n",
       "      <td>4</td>\n",
       "    </tr>\n",
       "    <tr>\n",
       "      <th>3</th>\n",
       "      <td>Shodhan</td>\n",
       "      <td>CSE</td>\n",
       "      <td>9</td>\n",
       "      <td>7</td>\n",
       "      <td>3</td>\n",
       "    </tr>\n",
       "    <tr>\n",
       "      <th>4</th>\n",
       "      <td>Preet</td>\n",
       "      <td>IT</td>\n",
       "      <td>3</td>\n",
       "      <td>8</td>\n",
       "      <td>5</td>\n",
       "    </tr>\n",
       "  </tbody>\n",
       "</table>\n",
       "</div>"
      ],
      "text/plain": [
       "      name stream  py  sql  web\n",
       "0  Nishant     IT   6    9    7\n",
       "1    Rahul    ECE   8    5    8\n",
       "2  Jaimeet    CSE   5    6    4\n",
       "3  Shodhan    CSE   9    7    3\n",
       "4    Preet     IT   3    8    5"
      ]
     },
     "execution_count": 284,
     "metadata": {},
     "output_type": "execute_result"
    }
   ],
   "source": [
    "student_df"
   ]
  },
  {
   "cell_type": "code",
   "execution_count": 285,
   "id": "1954a077",
   "metadata": {},
   "outputs": [
    {
     "data": {
      "application/vnd.microsoft.datawrangler.viewer.v0+json": {
       "columns": [
        {
         "name": "index",
         "rawType": "int64",
         "type": "integer"
        },
        {
         "name": "variable",
         "rawType": "object",
         "type": "string"
        },
        {
         "name": "value",
         "rawType": "object",
         "type": "unknown"
        }
       ],
       "ref": "f4dc6a11-8949-43eb-aab3-96d2337ebc86",
       "rows": [
        [
         "0",
         "name",
         "Nishant"
        ],
        [
         "1",
         "name",
         "Rahul"
        ],
        [
         "2",
         "name",
         "Jaimeet"
        ],
        [
         "3",
         "name",
         "Shodhan"
        ],
        [
         "4",
         "name",
         "Preet"
        ],
        [
         "5",
         "stream",
         "IT"
        ],
        [
         "6",
         "stream",
         "ECE"
        ],
        [
         "7",
         "stream",
         "CSE"
        ],
        [
         "8",
         "stream",
         "CSE"
        ],
        [
         "9",
         "stream",
         "IT"
        ],
        [
         "10",
         "py",
         "6"
        ],
        [
         "11",
         "py",
         "8"
        ],
        [
         "12",
         "py",
         "5"
        ],
        [
         "13",
         "py",
         "9"
        ],
        [
         "14",
         "py",
         "3"
        ],
        [
         "15",
         "sql",
         "9"
        ],
        [
         "16",
         "sql",
         "5"
        ],
        [
         "17",
         "sql",
         "6"
        ],
        [
         "18",
         "sql",
         "7"
        ],
        [
         "19",
         "sql",
         "8"
        ],
        [
         "20",
         "web",
         "7"
        ],
        [
         "21",
         "web",
         "8"
        ],
        [
         "22",
         "web",
         "4"
        ],
        [
         "23",
         "web",
         "3"
        ],
        [
         "24",
         "web",
         "5"
        ]
       ],
       "shape": {
        "columns": 2,
        "rows": 25
       }
      },
      "text/html": [
       "<div>\n",
       "<style scoped>\n",
       "    .dataframe tbody tr th:only-of-type {\n",
       "        vertical-align: middle;\n",
       "    }\n",
       "\n",
       "    .dataframe tbody tr th {\n",
       "        vertical-align: top;\n",
       "    }\n",
       "\n",
       "    .dataframe thead th {\n",
       "        text-align: right;\n",
       "    }\n",
       "</style>\n",
       "<table border=\"1\" class=\"dataframe\">\n",
       "  <thead>\n",
       "    <tr style=\"text-align: right;\">\n",
       "      <th></th>\n",
       "      <th>variable</th>\n",
       "      <th>value</th>\n",
       "    </tr>\n",
       "  </thead>\n",
       "  <tbody>\n",
       "    <tr>\n",
       "      <th>0</th>\n",
       "      <td>name</td>\n",
       "      <td>Nishant</td>\n",
       "    </tr>\n",
       "    <tr>\n",
       "      <th>1</th>\n",
       "      <td>name</td>\n",
       "      <td>Rahul</td>\n",
       "    </tr>\n",
       "    <tr>\n",
       "      <th>2</th>\n",
       "      <td>name</td>\n",
       "      <td>Jaimeet</td>\n",
       "    </tr>\n",
       "    <tr>\n",
       "      <th>3</th>\n",
       "      <td>name</td>\n",
       "      <td>Shodhan</td>\n",
       "    </tr>\n",
       "    <tr>\n",
       "      <th>4</th>\n",
       "      <td>name</td>\n",
       "      <td>Preet</td>\n",
       "    </tr>\n",
       "    <tr>\n",
       "      <th>5</th>\n",
       "      <td>stream</td>\n",
       "      <td>IT</td>\n",
       "    </tr>\n",
       "    <tr>\n",
       "      <th>6</th>\n",
       "      <td>stream</td>\n",
       "      <td>ECE</td>\n",
       "    </tr>\n",
       "    <tr>\n",
       "      <th>7</th>\n",
       "      <td>stream</td>\n",
       "      <td>CSE</td>\n",
       "    </tr>\n",
       "    <tr>\n",
       "      <th>8</th>\n",
       "      <td>stream</td>\n",
       "      <td>CSE</td>\n",
       "    </tr>\n",
       "    <tr>\n",
       "      <th>9</th>\n",
       "      <td>stream</td>\n",
       "      <td>IT</td>\n",
       "    </tr>\n",
       "    <tr>\n",
       "      <th>10</th>\n",
       "      <td>py</td>\n",
       "      <td>6</td>\n",
       "    </tr>\n",
       "    <tr>\n",
       "      <th>11</th>\n",
       "      <td>py</td>\n",
       "      <td>8</td>\n",
       "    </tr>\n",
       "    <tr>\n",
       "      <th>12</th>\n",
       "      <td>py</td>\n",
       "      <td>5</td>\n",
       "    </tr>\n",
       "    <tr>\n",
       "      <th>13</th>\n",
       "      <td>py</td>\n",
       "      <td>9</td>\n",
       "    </tr>\n",
       "    <tr>\n",
       "      <th>14</th>\n",
       "      <td>py</td>\n",
       "      <td>3</td>\n",
       "    </tr>\n",
       "    <tr>\n",
       "      <th>15</th>\n",
       "      <td>sql</td>\n",
       "      <td>9</td>\n",
       "    </tr>\n",
       "    <tr>\n",
       "      <th>16</th>\n",
       "      <td>sql</td>\n",
       "      <td>5</td>\n",
       "    </tr>\n",
       "    <tr>\n",
       "      <th>17</th>\n",
       "      <td>sql</td>\n",
       "      <td>6</td>\n",
       "    </tr>\n",
       "    <tr>\n",
       "      <th>18</th>\n",
       "      <td>sql</td>\n",
       "      <td>7</td>\n",
       "    </tr>\n",
       "    <tr>\n",
       "      <th>19</th>\n",
       "      <td>sql</td>\n",
       "      <td>8</td>\n",
       "    </tr>\n",
       "    <tr>\n",
       "      <th>20</th>\n",
       "      <td>web</td>\n",
       "      <td>7</td>\n",
       "    </tr>\n",
       "    <tr>\n",
       "      <th>21</th>\n",
       "      <td>web</td>\n",
       "      <td>8</td>\n",
       "    </tr>\n",
       "    <tr>\n",
       "      <th>22</th>\n",
       "      <td>web</td>\n",
       "      <td>4</td>\n",
       "    </tr>\n",
       "    <tr>\n",
       "      <th>23</th>\n",
       "      <td>web</td>\n",
       "      <td>3</td>\n",
       "    </tr>\n",
       "    <tr>\n",
       "      <th>24</th>\n",
       "      <td>web</td>\n",
       "      <td>5</td>\n",
       "    </tr>\n",
       "  </tbody>\n",
       "</table>\n",
       "</div>"
      ],
      "text/plain": [
       "   variable    value\n",
       "0      name  Nishant\n",
       "1      name    Rahul\n",
       "2      name  Jaimeet\n",
       "3      name  Shodhan\n",
       "4      name    Preet\n",
       "5    stream       IT\n",
       "6    stream      ECE\n",
       "7    stream      CSE\n",
       "8    stream      CSE\n",
       "9    stream       IT\n",
       "10       py        6\n",
       "11       py        8\n",
       "12       py        5\n",
       "13       py        9\n",
       "14       py        3\n",
       "15      sql        9\n",
       "16      sql        5\n",
       "17      sql        6\n",
       "18      sql        7\n",
       "19      sql        8\n",
       "20      web        7\n",
       "21      web        8\n",
       "22      web        4\n",
       "23      web        3\n",
       "24      web        5"
      ]
     },
     "execution_count": 285,
     "metadata": {},
     "output_type": "execute_result"
    }
   ],
   "source": [
    "student_df.melt()"
   ]
  },
  {
   "cell_type": "code",
   "execution_count": 281,
   "id": "62092898",
   "metadata": {},
   "outputs": [
    {
     "data": {
      "application/vnd.microsoft.datawrangler.viewer.v0+json": {
       "columns": [
        {
         "name": "index",
         "rawType": "int64",
         "type": "integer"
        },
        {
         "name": "name",
         "rawType": "object",
         "type": "string"
        },
        {
         "name": "stream",
         "rawType": "object",
         "type": "string"
        },
        {
         "name": "subj",
         "rawType": "object",
         "type": "string"
        },
        {
         "name": "score",
         "rawType": "int64",
         "type": "integer"
        }
       ],
       "ref": "abde80f1-fe22-404e-a9e5-be577019305a",
       "rows": [
        [
         "0",
         "Nishant",
         "IT",
         "py",
         "6"
        ],
        [
         "1",
         "Rahul",
         "ECE",
         "py",
         "8"
        ],
        [
         "2",
         "Jaimeet",
         "CSE",
         "py",
         "5"
        ],
        [
         "3",
         "Shodhan",
         "CSE",
         "py",
         "9"
        ],
        [
         "4",
         "Preet",
         "IT",
         "py",
         "3"
        ],
        [
         "5",
         "Nishant",
         "IT",
         "sql",
         "9"
        ],
        [
         "6",
         "Rahul",
         "ECE",
         "sql",
         "5"
        ],
        [
         "7",
         "Jaimeet",
         "CSE",
         "sql",
         "6"
        ],
        [
         "8",
         "Shodhan",
         "CSE",
         "sql",
         "7"
        ],
        [
         "9",
         "Preet",
         "IT",
         "sql",
         "8"
        ],
        [
         "10",
         "Nishant",
         "IT",
         "web",
         "7"
        ],
        [
         "11",
         "Rahul",
         "ECE",
         "web",
         "8"
        ],
        [
         "12",
         "Jaimeet",
         "CSE",
         "web",
         "4"
        ],
        [
         "13",
         "Shodhan",
         "CSE",
         "web",
         "3"
        ],
        [
         "14",
         "Preet",
         "IT",
         "web",
         "5"
        ]
       ],
       "shape": {
        "columns": 4,
        "rows": 15
       }
      },
      "text/html": [
       "<div>\n",
       "<style scoped>\n",
       "    .dataframe tbody tr th:only-of-type {\n",
       "        vertical-align: middle;\n",
       "    }\n",
       "\n",
       "    .dataframe tbody tr th {\n",
       "        vertical-align: top;\n",
       "    }\n",
       "\n",
       "    .dataframe thead th {\n",
       "        text-align: right;\n",
       "    }\n",
       "</style>\n",
       "<table border=\"1\" class=\"dataframe\">\n",
       "  <thead>\n",
       "    <tr style=\"text-align: right;\">\n",
       "      <th></th>\n",
       "      <th>name</th>\n",
       "      <th>stream</th>\n",
       "      <th>subj</th>\n",
       "      <th>score</th>\n",
       "    </tr>\n",
       "  </thead>\n",
       "  <tbody>\n",
       "    <tr>\n",
       "      <th>0</th>\n",
       "      <td>Nishant</td>\n",
       "      <td>IT</td>\n",
       "      <td>py</td>\n",
       "      <td>6</td>\n",
       "    </tr>\n",
       "    <tr>\n",
       "      <th>1</th>\n",
       "      <td>Rahul</td>\n",
       "      <td>ECE</td>\n",
       "      <td>py</td>\n",
       "      <td>8</td>\n",
       "    </tr>\n",
       "    <tr>\n",
       "      <th>2</th>\n",
       "      <td>Jaimeet</td>\n",
       "      <td>CSE</td>\n",
       "      <td>py</td>\n",
       "      <td>5</td>\n",
       "    </tr>\n",
       "    <tr>\n",
       "      <th>3</th>\n",
       "      <td>Shodhan</td>\n",
       "      <td>CSE</td>\n",
       "      <td>py</td>\n",
       "      <td>9</td>\n",
       "    </tr>\n",
       "    <tr>\n",
       "      <th>4</th>\n",
       "      <td>Preet</td>\n",
       "      <td>IT</td>\n",
       "      <td>py</td>\n",
       "      <td>3</td>\n",
       "    </tr>\n",
       "    <tr>\n",
       "      <th>5</th>\n",
       "      <td>Nishant</td>\n",
       "      <td>IT</td>\n",
       "      <td>sql</td>\n",
       "      <td>9</td>\n",
       "    </tr>\n",
       "    <tr>\n",
       "      <th>6</th>\n",
       "      <td>Rahul</td>\n",
       "      <td>ECE</td>\n",
       "      <td>sql</td>\n",
       "      <td>5</td>\n",
       "    </tr>\n",
       "    <tr>\n",
       "      <th>7</th>\n",
       "      <td>Jaimeet</td>\n",
       "      <td>CSE</td>\n",
       "      <td>sql</td>\n",
       "      <td>6</td>\n",
       "    </tr>\n",
       "    <tr>\n",
       "      <th>8</th>\n",
       "      <td>Shodhan</td>\n",
       "      <td>CSE</td>\n",
       "      <td>sql</td>\n",
       "      <td>7</td>\n",
       "    </tr>\n",
       "    <tr>\n",
       "      <th>9</th>\n",
       "      <td>Preet</td>\n",
       "      <td>IT</td>\n",
       "      <td>sql</td>\n",
       "      <td>8</td>\n",
       "    </tr>\n",
       "    <tr>\n",
       "      <th>10</th>\n",
       "      <td>Nishant</td>\n",
       "      <td>IT</td>\n",
       "      <td>web</td>\n",
       "      <td>7</td>\n",
       "    </tr>\n",
       "    <tr>\n",
       "      <th>11</th>\n",
       "      <td>Rahul</td>\n",
       "      <td>ECE</td>\n",
       "      <td>web</td>\n",
       "      <td>8</td>\n",
       "    </tr>\n",
       "    <tr>\n",
       "      <th>12</th>\n",
       "      <td>Jaimeet</td>\n",
       "      <td>CSE</td>\n",
       "      <td>web</td>\n",
       "      <td>4</td>\n",
       "    </tr>\n",
       "    <tr>\n",
       "      <th>13</th>\n",
       "      <td>Shodhan</td>\n",
       "      <td>CSE</td>\n",
       "      <td>web</td>\n",
       "      <td>3</td>\n",
       "    </tr>\n",
       "    <tr>\n",
       "      <th>14</th>\n",
       "      <td>Preet</td>\n",
       "      <td>IT</td>\n",
       "      <td>web</td>\n",
       "      <td>5</td>\n",
       "    </tr>\n",
       "  </tbody>\n",
       "</table>\n",
       "</div>"
      ],
      "text/plain": [
       "       name stream subj  score\n",
       "0   Nishant     IT   py      6\n",
       "1     Rahul    ECE   py      8\n",
       "2   Jaimeet    CSE   py      5\n",
       "3   Shodhan    CSE   py      9\n",
       "4     Preet     IT   py      3\n",
       "5   Nishant     IT  sql      9\n",
       "6     Rahul    ECE  sql      5\n",
       "7   Jaimeet    CSE  sql      6\n",
       "8   Shodhan    CSE  sql      7\n",
       "9     Preet     IT  sql      8\n",
       "10  Nishant     IT  web      7\n",
       "11    Rahul    ECE  web      8\n",
       "12  Jaimeet    CSE  web      4\n",
       "13  Shodhan    CSE  web      3\n",
       "14    Preet     IT  web      5"
      ]
     },
     "execution_count": 281,
     "metadata": {},
     "output_type": "execute_result"
    }
   ],
   "source": [
    "melt_df=pd.melt(student_df,id_vars=['name','stream'],value_vars=['py','sql','web'],var_name='subj',value_name='score')\n",
    "melt_df"
   ]
  },
  {
   "cell_type": "markdown",
   "id": "88059e90",
   "metadata": {},
   "source": [
    "<h3 style=\"color:orange\">8. Perform pivot operation.</h3>"
   ]
  },
  {
   "cell_type": "code",
   "execution_count": 279,
   "id": "5758f1d4",
   "metadata": {},
   "outputs": [
    {
     "data": {
      "application/vnd.microsoft.datawrangler.viewer.v0+json": {
       "columns": [
        {
         "name": "index",
         "rawType": "int64",
         "type": "integer"
        },
        {
         "name": "('name', '')",
         "rawType": "object",
         "type": "string"
        },
        {
         "name": "('stream', '')",
         "rawType": "object",
         "type": "string"
        },
        {
         "name": "('score', 'py')",
         "rawType": "int64",
         "type": "integer"
        },
        {
         "name": "('score', 'sql')",
         "rawType": "int64",
         "type": "integer"
        },
        {
         "name": "('score', 'web')",
         "rawType": "int64",
         "type": "integer"
        }
       ],
       "ref": "c563f5b8-f15f-4fe9-88bb-7f51373fea50",
       "rows": [
        [
         "0",
         "Jaimeet",
         "CSE",
         "5",
         "6",
         "4"
        ],
        [
         "1",
         "Nishant",
         "IT",
         "6",
         "9",
         "7"
        ],
        [
         "2",
         "Preet",
         "IT",
         "3",
         "8",
         "5"
        ],
        [
         "3",
         "Rahul",
         "ECE",
         "8",
         "5",
         "8"
        ],
        [
         "4",
         "Shodhan",
         "CSE",
         "9",
         "7",
         "3"
        ]
       ],
       "shape": {
        "columns": 5,
        "rows": 5
       }
      },
      "text/html": [
       "<div>\n",
       "<style scoped>\n",
       "    .dataframe tbody tr th:only-of-type {\n",
       "        vertical-align: middle;\n",
       "    }\n",
       "\n",
       "    .dataframe tbody tr th {\n",
       "        vertical-align: top;\n",
       "    }\n",
       "\n",
       "    .dataframe thead tr th {\n",
       "        text-align: left;\n",
       "    }\n",
       "</style>\n",
       "<table border=\"1\" class=\"dataframe\">\n",
       "  <thead>\n",
       "    <tr>\n",
       "      <th></th>\n",
       "      <th>name</th>\n",
       "      <th>stream</th>\n",
       "      <th colspan=\"3\" halign=\"left\">score</th>\n",
       "    </tr>\n",
       "    <tr>\n",
       "      <th>subj</th>\n",
       "      <th></th>\n",
       "      <th></th>\n",
       "      <th>py</th>\n",
       "      <th>sql</th>\n",
       "      <th>web</th>\n",
       "    </tr>\n",
       "  </thead>\n",
       "  <tbody>\n",
       "    <tr>\n",
       "      <th>0</th>\n",
       "      <td>Jaimeet</td>\n",
       "      <td>CSE</td>\n",
       "      <td>5</td>\n",
       "      <td>6</td>\n",
       "      <td>4</td>\n",
       "    </tr>\n",
       "    <tr>\n",
       "      <th>1</th>\n",
       "      <td>Nishant</td>\n",
       "      <td>IT</td>\n",
       "      <td>6</td>\n",
       "      <td>9</td>\n",
       "      <td>7</td>\n",
       "    </tr>\n",
       "    <tr>\n",
       "      <th>2</th>\n",
       "      <td>Preet</td>\n",
       "      <td>IT</td>\n",
       "      <td>3</td>\n",
       "      <td>8</td>\n",
       "      <td>5</td>\n",
       "    </tr>\n",
       "    <tr>\n",
       "      <th>3</th>\n",
       "      <td>Rahul</td>\n",
       "      <td>ECE</td>\n",
       "      <td>8</td>\n",
       "      <td>5</td>\n",
       "      <td>8</td>\n",
       "    </tr>\n",
       "    <tr>\n",
       "      <th>4</th>\n",
       "      <td>Shodhan</td>\n",
       "      <td>CSE</td>\n",
       "      <td>9</td>\n",
       "      <td>7</td>\n",
       "      <td>3</td>\n",
       "    </tr>\n",
       "  </tbody>\n",
       "</table>\n",
       "</div>"
      ],
      "text/plain": [
       "         name stream score        \n",
       "subj                    py sql web\n",
       "0     Jaimeet    CSE     5   6   4\n",
       "1     Nishant     IT     6   9   7\n",
       "2       Preet     IT     3   8   5\n",
       "3       Rahul    ECE     8   5   8\n",
       "4     Shodhan    CSE     9   7   3"
      ]
     },
     "execution_count": 279,
     "metadata": {},
     "output_type": "execute_result"
    }
   ],
   "source": [
    "pd.pivot(melt_df,index=['name','stream'],columns=['subj']).reset_index()"
   ]
  },
  {
   "cell_type": "markdown",
   "id": "e12a164f",
   "metadata": {},
   "source": [
    "<h3 style=\"color:orange\">9. Perform pivot_table()</h3>"
   ]
  },
  {
   "cell_type": "code",
   "execution_count": 280,
   "id": "dad06270",
   "metadata": {},
   "outputs": [
    {
     "data": {
      "application/vnd.microsoft.datawrangler.viewer.v0+json": {
       "columns": [
        {
         "name": "('name', 'stream')",
         "rawType": "object",
         "type": "unknown"
        },
        {
         "name": "py",
         "rawType": "int64",
         "type": "integer"
        },
        {
         "name": "sql",
         "rawType": "int64",
         "type": "integer"
        },
        {
         "name": "web",
         "rawType": "int64",
         "type": "integer"
        },
        {
         "name": "total",
         "rawType": "int64",
         "type": "integer"
        }
       ],
       "ref": "835528cb-9c56-4b53-8c23-760e52897eb7",
       "rows": [
        [
         "('Jaimeet', 'CSE')",
         "5",
         "6",
         "4",
         "15"
        ],
        [
         "('Nishant', 'IT')",
         "6",
         "9",
         "7",
         "22"
        ],
        [
         "('Preet', 'IT')",
         "3",
         "8",
         "5",
         "16"
        ],
        [
         "('Rahul', 'ECE')",
         "8",
         "5",
         "8",
         "21"
        ],
        [
         "('Shodhan', 'CSE')",
         "9",
         "7",
         "3",
         "19"
        ],
        [
         "('total', '')",
         "31",
         "35",
         "27",
         "93"
        ]
       ],
       "shape": {
        "columns": 4,
        "rows": 6
       }
      },
      "text/html": [
       "<div>\n",
       "<style scoped>\n",
       "    .dataframe tbody tr th:only-of-type {\n",
       "        vertical-align: middle;\n",
       "    }\n",
       "\n",
       "    .dataframe tbody tr th {\n",
       "        vertical-align: top;\n",
       "    }\n",
       "\n",
       "    .dataframe thead th {\n",
       "        text-align: right;\n",
       "    }\n",
       "</style>\n",
       "<table border=\"1\" class=\"dataframe\">\n",
       "  <thead>\n",
       "    <tr style=\"text-align: right;\">\n",
       "      <th></th>\n",
       "      <th>subj</th>\n",
       "      <th>py</th>\n",
       "      <th>sql</th>\n",
       "      <th>web</th>\n",
       "      <th>total</th>\n",
       "    </tr>\n",
       "    <tr>\n",
       "      <th>name</th>\n",
       "      <th>stream</th>\n",
       "      <th></th>\n",
       "      <th></th>\n",
       "      <th></th>\n",
       "      <th></th>\n",
       "    </tr>\n",
       "  </thead>\n",
       "  <tbody>\n",
       "    <tr>\n",
       "      <th>Jaimeet</th>\n",
       "      <th>CSE</th>\n",
       "      <td>5</td>\n",
       "      <td>6</td>\n",
       "      <td>4</td>\n",
       "      <td>15</td>\n",
       "    </tr>\n",
       "    <tr>\n",
       "      <th>Nishant</th>\n",
       "      <th>IT</th>\n",
       "      <td>6</td>\n",
       "      <td>9</td>\n",
       "      <td>7</td>\n",
       "      <td>22</td>\n",
       "    </tr>\n",
       "    <tr>\n",
       "      <th>Preet</th>\n",
       "      <th>IT</th>\n",
       "      <td>3</td>\n",
       "      <td>8</td>\n",
       "      <td>5</td>\n",
       "      <td>16</td>\n",
       "    </tr>\n",
       "    <tr>\n",
       "      <th>Rahul</th>\n",
       "      <th>ECE</th>\n",
       "      <td>8</td>\n",
       "      <td>5</td>\n",
       "      <td>8</td>\n",
       "      <td>21</td>\n",
       "    </tr>\n",
       "    <tr>\n",
       "      <th>Shodhan</th>\n",
       "      <th>CSE</th>\n",
       "      <td>9</td>\n",
       "      <td>7</td>\n",
       "      <td>3</td>\n",
       "      <td>19</td>\n",
       "    </tr>\n",
       "    <tr>\n",
       "      <th>total</th>\n",
       "      <th></th>\n",
       "      <td>31</td>\n",
       "      <td>35</td>\n",
       "      <td>27</td>\n",
       "      <td>93</td>\n",
       "    </tr>\n",
       "  </tbody>\n",
       "</table>\n",
       "</div>"
      ],
      "text/plain": [
       "subj            py  sql  web  total\n",
       "name    stream                     \n",
       "Jaimeet CSE      5    6    4     15\n",
       "Nishant IT       6    9    7     22\n",
       "Preet   IT       3    8    5     16\n",
       "Rahul   ECE      8    5    8     21\n",
       "Shodhan CSE      9    7    3     19\n",
       "total           31   35   27     93"
      ]
     },
     "execution_count": 280,
     "metadata": {},
     "output_type": "execute_result"
    }
   ],
   "source": [
    "pd.pivot_table(melt_df,index=['name','stream'],columns=['subj'],values='score',aggfunc='sum',margins=True,margins_name='total')"
   ]
  }
 ],
 "metadata": {
  "kernelspec": {
   "display_name": "Python 3",
   "language": "python",
   "name": "python3"
  },
  "language_info": {
   "codemirror_mode": {
    "name": "ipython",
    "version": 3
   },
   "file_extension": ".py",
   "mimetype": "text/x-python",
   "name": "python",
   "nbconvert_exporter": "python",
   "pygments_lexer": "ipython3",
   "version": "3.13.2"
  }
 },
 "nbformat": 4,
 "nbformat_minor": 5
}
